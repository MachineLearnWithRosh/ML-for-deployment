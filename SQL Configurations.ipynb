{
 "cells": [
  {
   "cell_type": "code",
   "execution_count": 1,
   "metadata": {},
   "outputs": [
    {
     "name": "stdout",
     "output_type": "stream",
     "text": [
      "Collecting pypyodbc\n",
      "  Downloading pypyodbc-1.3.5.2.zip (25 kB)\n",
      "Requirement already satisfied: setuptools in c:\\users\\roshan\\anaconda3\\lib\\site-packages (from pypyodbc) (44.0.0.post20200106)\n",
      "Building wheels for collected packages: pypyodbc\n",
      "  Building wheel for pypyodbc (setup.py): started\n",
      "  Building wheel for pypyodbc (setup.py): finished with status 'done'\n",
      "  Created wheel for pypyodbc: filename=pypyodbc-1.3.4-py3-none-any.whl size=22847 sha256=36c920c99fc213fc9dd64ea5c7fe37c42779dac46f120984e2bab8258e248626\n",
      "  Stored in directory: c:\\users\\roshan\\appdata\\local\\pip\\cache\\wheels\\d0\\be\\10\\67b984b15199ecd6516b9a8e39f293da68faeceaffb0027570\n",
      "Successfully built pypyodbc\n",
      "Installing collected packages: pypyodbc\n",
      "Successfully installed pypyodbc-1.3.4\n",
      "Note: you may need to restart the kernel to use updated packages.\n"
     ]
    },
    {
     "name": "stderr",
     "output_type": "stream",
     "text": [
      "WARNING: You are using pip version 20.0.2; however, version 21.2.4 is available.\n",
      "You should consider upgrading via the 'C:\\Users\\Roshan\\Anaconda3\\python.exe -m pip install --upgrade pip' command.\n"
     ]
    }
   ],
   "source": [
    "pip install pypyodbc"
   ]
  },
  {
   "cell_type": "code",
   "execution_count": 3,
   "metadata": {},
   "outputs": [],
   "source": [
    "import pypyodbc \n",
    "cnxn = pypyodbc.connect(\"Driver={SQL Server Native Client 11.0};\"\n",
    "                      \"Server=DESKTOP-0DMHFMS\\SQLEXPRESS;\"\n",
    "                      \"Database=AdventureWorks2017;\"\n",
    "                      \"Trusted_Connection=yes;\")\n",
    "\n",
    "\n",
    "cursor = cnxn.cursor()"
   ]
  },
  {
   "cell_type": "code",
   "execution_count": 4,
   "metadata": {},
   "outputs": [
    {
     "name": "stdout",
     "output_type": "stream",
     "text": [
      "row = (1, 'Engineering', 'Research and Development', datetime.datetime(2008, 4, 30, 0, 0))\n",
      "row = (2, 'Tool Design', 'Research and Development', datetime.datetime(2008, 4, 30, 0, 0))\n",
      "row = (3, 'Sales', 'Sales and Marketing', datetime.datetime(2008, 4, 30, 0, 0))\n",
      "row = (4, 'Marketing', 'Sales and Marketing', datetime.datetime(2008, 4, 30, 0, 0))\n",
      "row = (5, 'Purchasing', 'Inventory Management', datetime.datetime(2008, 4, 30, 0, 0))\n",
      "row = (6, 'Research and Development', 'Research and Development', datetime.datetime(2008, 4, 30, 0, 0))\n",
      "row = (7, 'Production', 'Manufacturing', datetime.datetime(2008, 4, 30, 0, 0))\n",
      "row = (8, 'Production Control', 'Manufacturing', datetime.datetime(2008, 4, 30, 0, 0))\n",
      "row = (9, 'Human Resources', 'Executive General and Administration', datetime.datetime(2008, 4, 30, 0, 0))\n",
      "row = (10, 'Finance', 'Executive General and Administration', datetime.datetime(2008, 4, 30, 0, 0))\n",
      "row = (11, 'Information Services', 'Executive General and Administration', datetime.datetime(2008, 4, 30, 0, 0))\n",
      "row = (12, 'Document Control', 'Quality Assurance', datetime.datetime(2008, 4, 30, 0, 0))\n",
      "row = (13, 'Quality Assurance', 'Quality Assurance', datetime.datetime(2008, 4, 30, 0, 0))\n",
      "row = (14, 'Facilities and Maintenance', 'Executive General and Administration', datetime.datetime(2008, 4, 30, 0, 0))\n",
      "row = (15, 'Shipping and Receiving', 'Inventory Management', datetime.datetime(2008, 4, 30, 0, 0))\n",
      "row = (16, 'Executive', 'Executive General and Administration', datetime.datetime(2008, 4, 30, 0, 0))\n"
     ]
    }
   ],
   "source": [
    "cursor.execute('select * from HumanResources.Department')\n",
    "\n",
    "for row in cursor:\n",
    "    print('row = %r' % (row,))"
   ]
  },
  {
   "cell_type": "code",
   "execution_count": null,
   "metadata": {},
   "outputs": [],
   "source": []
  }
 ],
 "metadata": {
  "kernelspec": {
   "display_name": "Python 3",
   "language": "python",
   "name": "python3"
  },
  "language_info": {
   "codemirror_mode": {
    "name": "ipython",
    "version": 3
   },
   "file_extension": ".py",
   "mimetype": "text/x-python",
   "name": "python",
   "nbconvert_exporter": "python",
   "pygments_lexer": "ipython3",
   "version": "3.6.10"
  }
 },
 "nbformat": 4,
 "nbformat_minor": 2
}
