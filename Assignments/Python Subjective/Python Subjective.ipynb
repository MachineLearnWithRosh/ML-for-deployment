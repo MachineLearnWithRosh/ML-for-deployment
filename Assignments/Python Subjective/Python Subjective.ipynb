{
 "cells": [
  {
   "cell_type": "markdown",
   "metadata": {},
   "source": [
    "<h3>Q1. Write a Python program to get the string from the given string where\n",
    "all the occurrence of its first char has been changed to '$,' except first\n",
    "char itself?</h3>"
   ]
  },
  {
   "cell_type": "code",
   "execution_count": 12,
   "metadata": {},
   "outputs": [
    {
     "name": "stdout",
     "output_type": "stream",
     "text": [
      "pros$ect\n"
     ]
    }
   ],
   "source": [
    "def exceptFirstOccurences(str):\n",
    "    temp=str[0] #storing first character\n",
    "    temp1=str[1:].replace(temp,\"$\") #replacing all the first occurence of string with '$' \n",
    "    return str[0]+temp1\n",
    "\n",
    "res=exceptFirstOccurences('prospect')\n",
    "print(res)"
   ]
  },
  {
   "cell_type": "markdown",
   "metadata": {},
   "source": [
    "<h3>Q2. Write a Python program to get the single string from the two given strings, and separated by the space and swap the first two characters of\n",
    "each string? </h3>"
   ]
  },
  {
   "cell_type": "code",
   "execution_count": 7,
   "metadata": {},
   "outputs": [
    {
     "name": "stdout",
     "output_type": "stream",
     "text": [
      "The output is:  xyc abz\n"
     ]
    }
   ],
   "source": [
    "def mixString(str1,str2):\n",
    "    a=str2[:2]+str1[2:] #swapping and concatenating the first two characters\n",
    "    b=str1[:2]+str2[2:]\n",
    "    return a+\" \"+b\n",
    "\n",
    "res=mixString('abc','xyz')\n",
    "print(\"The output is: \",res)"
   ]
  },
  {
   "cell_type": "markdown",
   "metadata": {},
   "source": [
    "<h3>Q3. Write the Python program to add 'ing' at the end of the given string (length of the string should be at least 3). If given string already ends with 'ing,' then add 'ly' instead. If string length of the given string is less\n",
    "than 3, leave it unchanged? </h3>\n"
   ]
  },
  {
   "cell_type": "code",
   "execution_count": 19,
   "metadata": {},
   "outputs": [
    {
     "name": "stdout",
     "output_type": "stream",
     "text": [
      "Enter the string1: abc\n",
      "Output of the abc is abcing\n",
      "==============================\n",
      "Enter the string2: string\n",
      "Output of the string is stringly\n",
      "==============================\n",
      "Enter the string3: xy\n",
      "Output of the xy is xy\n",
      "==============================\n"
     ]
    }
   ],
   "source": [
    "def ingString(str1):\n",
    "    if len(str1)>=3: #checking if string is of length 3\n",
    "        if str1[-3:]==\"ing\": #if ending with \"ing\" then concatenate with \"ly\"\n",
    "            return str1+\"ly\"\n",
    "        else:\n",
    "            return str1+\"ing\" #if not ending with \"ing\" then concatenate with \"ly\"\n",
    "    elif(len(str1)<3):\n",
    "        return str1\n",
    "    \n",
    "for i in range(3):\n",
    "    temp=input(\"Enter the string\"+str(i+1)+\": \")\n",
    "    print(f\"Output of the {temp} is \"+ingString(temp))\n",
    "    print(\"=\"*30)"
   ]
  },
  {
   "cell_type": "markdown",
   "metadata": {},
   "source": [
    "<h3>Q4. Write the Python program to find the first appearance of the substring 'not' and 'poor' from the given string, if 'not' follows the 'poor',\n",
    "replace the whole 'not'...' poor' substring with 'good'.Return the resulting string.</h3>"
   ]
  },
  {
   "cell_type": "code",
   "execution_count": 21,
   "metadata": {},
   "outputs": [
    {
     "name": "stdout",
     "output_type": "stream",
     "text": [
      "The lyrics are good! The lyrics are poor!\n"
     ]
    }
   ],
   "source": [
    "def poorGood(str1):\n",
    "    a=str1.find('not')\n",
    "    b=str1.find('poor')\n",
    "    \n",
    "    return str1.replace(str1[a:(b+4)],'good')\n",
    "\n",
    "print(poorGood('The lyrics are not that poor! The lyrics are poor!'))"
   ]
  },
  {
   "cell_type": "markdown",
   "metadata": {},
   "source": [
    "<h3>Q5. Write the Python program to remove the characters which have odd index values of a given string.</h3>"
   ]
  },
  {
   "cell_type": "code",
   "execution_count": 36,
   "metadata": {},
   "outputs": [
    {
     "name": "stdout",
     "output_type": "stream",
     "text": [
      "The result is: okt\n"
     ]
    }
   ],
   "source": [
    "def removeOddChar(str1):\n",
    "    l=[]\n",
    "    for i in range(1,len(str1)+1):\n",
    "        if i%2==0:\n",
    "            l.append(str1[i-1]) #adding the characters which are at even index.\n",
    "    return \"\".join(l) #joining all elements of list\n",
    "\n",
    "print(\"The result is: \"+removeOddChar('Kolkata'))\n",
    "            "
   ]
  },
  {
   "cell_type": "markdown",
   "metadata": {},
   "source": [
    "<h3>Q6. Write the Python function to get a string made of 4 copies of the lasttwo characters of the specified string (length must be at least 2).</h3>\n"
   ]
  },
  {
   "cell_type": "code",
   "execution_count": 27,
   "metadata": {},
   "outputs": [
    {
     "name": "stdout",
     "output_type": "stream",
     "text": [
      "Enter the string1: Python\n",
      "Output of the Python is onononon\n",
      "==============================\n",
      "Enter the string2: Exercises\n",
      "Output of the Exercises is eseseses\n",
      "==============================\n",
      "Enter the string3: Cool\n",
      "Output of the Cool is olololol\n",
      "==============================\n"
     ]
    }
   ],
   "source": [
    "def made4copies(str1): #creating a function which return 4 copies \n",
    "    return str1[-2:]*4\n",
    "\n",
    "for i in range(3):\n",
    "    temp=input(\"Enter the string\"+str(i+1)+\": \")\n",
    "    print(f\"Output of the {temp} is \"+made4copies(temp))\n",
    "    print(\"=\"*30)"
   ]
  },
  {
   "cell_type": "markdown",
   "metadata": {},
   "source": [
    "<h3>Q7. Write the python function to get a string made of its first three characters of a specified string. If the length of the string is less than 3\n",
    "then return the original string.</h3>"
   ]
  },
  {
   "cell_type": "code",
   "execution_count": 28,
   "metadata": {},
   "outputs": [
    {
     "name": "stdout",
     "output_type": "stream",
     "text": [
      "Enter the string1: ipy\n",
      "Output of the ipy is ipy\n",
      "==============================\n",
      "Enter the string2: python\n",
      "Output of the python is pyt\n",
      "==============================\n",
      "Enter the string3: golang\n",
      "Output of the golang is gol\n",
      "==============================\n"
     ]
    }
   ],
   "source": [
    "def first_three(str1):\n",
    "    if(len(str1)>=3): #returning first three characters of string if len is more than 3\n",
    "        return str1[:3]\n",
    "    elif len(str1)<3: #returning original string if len is less than 3\n",
    "        return str1\n",
    "    \n",
    "for i in range(3):\n",
    "    temp=input(\"Enter the string\"+str(i+1)+\": \")\n",
    "    print(f\"Output of the {temp} is \"+first_three(temp))\n",
    "    print(\"=\"*30)"
   ]
  },
  {
   "cell_type": "markdown",
   "metadata": {},
   "source": [
    "<h3>Q8. Write the python program to print the following floating numbers up to 2 decimal places?</h3>"
   ]
  },
  {
   "cell_type": "code",
   "execution_count": 29,
   "metadata": {},
   "outputs": [
    {
     "name": "stdout",
     "output_type": "stream",
     "text": [
      "3.14\n"
     ]
    }
   ],
   "source": [
    "a=3.14287\n",
    "print(round(a,2))"
   ]
  },
  {
   "cell_type": "markdown",
   "metadata": {},
   "source": [
    "<h3>Q9. Write the Python program to format a number with a percentage?</h3>"
   ]
  },
  {
   "cell_type": "code",
   "execution_count": 3,
   "metadata": {},
   "outputs": [
    {
     "name": "stdout",
     "output_type": "stream",
     "text": [
      "25.1%\n"
     ]
    }
   ],
   "source": [
    "def formatPercentage(str1):\n",
    "    print(\"{:.1%}\".format(str1))\n",
    "\n",
    "formatPercentage(0.251)"
   ]
  },
  {
   "cell_type": "markdown",
   "metadata": {},
   "source": [
    "<h3>Q10. Write the Python program to count occurrences of a substring in a String?</h3>\n"
   ]
  },
  {
   "cell_type": "code",
   "execution_count": 1,
   "metadata": {},
   "outputs": [
    {
     "name": "stdout",
     "output_type": "stream",
     "text": [
      "Enter the string1: gobackgo\n",
      "Enter the sub string you want to search: go\n",
      "Count of the go in gobackgo is 2\n",
      "==============================\n",
      "Enter the string2: Kolkata\n",
      "Enter the sub string you want to search: a\n",
      "Count of the a in Kolkata is 2\n",
      "==============================\n",
      "Enter the string3: android\n",
      "Enter the sub string you want to search: d\n",
      "Count of the d in android is 2\n",
      "==============================\n"
     ]
    }
   ],
   "source": [
    "def findOccurences(str1,substr): #function which returns the count of substring\n",
    "    return str1.count(substr)\n",
    "\n",
    "for i in range(3):\n",
    "    temp=input(\"Enter the string\"+str(i+1)+\": \")\n",
    "    key=input(\"Enter the sub string you want to search: \")\n",
    "    print(f\"Count of the {key} in {temp} is \"+str(findOccurences(temp,key)))\n",
    "    print(\"=\"*30)"
   ]
  },
  {
   "cell_type": "markdown",
   "metadata": {},
   "source": [
    "<h3>Q11. Write the Python program to count repeated characters in a string</h3>"
   ]
  },
  {
   "cell_type": "code",
   "execution_count": 38,
   "metadata": {},
   "outputs": [
    {
     "name": "stdout",
     "output_type": "stream",
     "text": [
      "The count of the repeated characters :\n",
      "e 3\n",
      "h 2\n",
      "o 3\n",
      "r 2\n",
      "t 2\n",
      "u 2\n"
     ]
    }
   ],
   "source": [
    "def countRepetitive(str1):\n",
    "    str2=list(str1)\n",
    "    dict1=dict.fromkeys(str2,0)  #initializing all the characters of string to 0\n",
    "\n",
    "    for i in str2:\n",
    "        dict1[i]+=1 #counting the occurences of characters \n",
    "    \n",
    "    for keys in sorted(dict1.keys()):\n",
    "        if dict1[keys]>1:\n",
    "            print(f\"{keys} {dict1[keys]}\")\n",
    "\n",
    "            \n",
    "print(\"The count of the repeated characters :\")\n",
    "countRepetitive('thequickbrownjumpsoverthelazydog')"
   ]
  },
  {
   "cell_type": "markdown",
   "metadata": {},
   "source": [
    "<h3> Q12. Write the Python program to print the square and cube symbol in the area of a rectangle and volume of a cylinder?</h3>"
   ]
  },
  {
   "cell_type": "code",
   "execution_count": 3,
   "metadata": {},
   "outputs": [
    {
     "name": "stdout",
     "output_type": "stream",
     "text": [
      "The area of the rectangle is 1256.66cm²\n",
      "The volume of the cylinder is 1254.725cm³\n"
     ]
    }
   ],
   "source": [
    "area = 1256.66\n",
    "volume = 1254.725\n",
    "decimals = 2\n",
    "print(\"The area of the rectangle is {0:.{1}f}cm\\u00b2\".format(area, decimals))\n",
    "decimals = 3\n",
    "print(\"The volume of the cylinder is {0:.{1}f}cm\\u00b3\".format(volume, decimals))"
   ]
  },
  {
   "cell_type": "markdown",
   "metadata": {},
   "source": [
    "<h3>Q13. Write the Python program to find the second most repeated wordin a given string?</h3>"
   ]
  },
  {
   "cell_type": "code",
   "execution_count": 7,
   "metadata": {},
   "outputs": [
    {
     "name": "stdout",
     "output_type": "stream",
     "text": [
      "is\n",
      "{'Tom': 1, 'is': 2, 'boy': 3, 'who': 1, 'a': 1, 'very': 1, 'good': 1}\n"
     ]
    }
   ],
   "source": [
    "def secondMost(str1):\n",
    "    str2=str1.split(\" \")\n",
    "    dict1=dict.fromkeys(str2,0)\n",
    "    \n",
    "    for i in str2:\n",
    "        dict1[i]+=1\n",
    "        \n",
    "    value = sorted(dict1.values(), reverse=True) #sorting the dictionary as per their values in decreasing order\n",
    "    secLarge = value[1] #storing the second largest value\n",
    "    \n",
    "    # Traverse dictionary and print key whose value is equal to second large elemen\n",
    "    for (key, val) in dict1.items():\n",
    "        if val == secLarge:\n",
    "            print(key)\n",
    "    print(dict1)\n",
    "    \n",
    "\n",
    "secondMost(\"Tom is boy who is boy a very good boy\")"
   ]
  },
  {
   "cell_type": "markdown",
   "metadata": {},
   "source": [
    "<h3>Q14. Write the Python program to check if a string contains all letters of\n",
    "the alphabet?</h3>"
   ]
  },
  {
   "cell_type": "code",
   "execution_count": 9,
   "metadata": {},
   "outputs": [
    {
     "name": "stdout",
     "output_type": "stream",
     "text": [
      "True\n",
      "False\n",
      "False\n"
     ]
    }
   ],
   "source": [
    "def checkIsAlpha(str1): #function to return if string is having all alpha characters\n",
    "    print(str1.isalpha())\n",
    "\n",
    "checkIsAlpha('Kolkata')\n",
    "checkIsAlpha('Kolkata123')\n",
    "checkIsAlpha('Ice-cream')"
   ]
  },
  {
   "cell_type": "markdown",
   "metadata": {},
   "source": [
    "<h3>Q15. Write the Python program to find the minimum window in the given\n",
    "string, which will contains all the characters of another given\n",
    "strings?</h3>"
   ]
  },
  {
   "cell_type": "code",
   "execution_count": 2,
   "metadata": {},
   "outputs": [
    {
     "name": "stdout",
     "output_type": "stream",
     "text": [
      "acbn\n"
     ]
    }
   ],
   "source": [
    "import collections\n",
    "\n",
    "\n",
    "def minWindow(s,t):\n",
    "     #strong the unqiue characters with occurences 1\n",
    "    res=collections.Counter(t)\n",
    "    #initializing the rear, last and calculating the len of unique characters\n",
    "    l,r,i,j,missing=0,0,0,0,len(t) \n",
    "    \n",
    "    while(r<len(s)):\n",
    "        if res[s[r]]>0:\n",
    "            missing-=1 \n",
    "        res[s[r]]-=1 #\n",
    "        #print(r)\n",
    "        #increasing rear value\n",
    "        r+=1\n",
    "        while(missing==0):\n",
    "            #print(\"=\"*10)\n",
    "            #print(f\"l={l}, r={r}\")\n",
    "            #print(f\"I={i}, J={j}\")\n",
    "            if j==0 or (r-l)<(j-i):\n",
    "                i,j=l,r  \n",
    "            res[s[l]]+=1 \n",
    "            if res[s[l]]>0:\n",
    "                missing+=1  \n",
    "            l+=1  \n",
    "    return s[i:j]\n",
    "\n",
    "a=\"acbdnracbn\"\n",
    "b=\"abn\"\n",
    "\n",
    "print(minWindow(a,b))"
   ]
  },
  {
   "cell_type": "markdown",
   "metadata": {},
   "source": [
    "<h3>Q16. Write the Python program to find smallest window that contains all\n",
    "characters of the given string?</h3>"
   ]
  },
  {
   "cell_type": "code",
   "execution_count": 39,
   "metadata": {},
   "outputs": [
    {
     "name": "stdout",
     "output_type": "stream",
     "text": [
      "bdnraci\n"
     ]
    }
   ],
   "source": [
    "import collections\n",
    "\n",
    "\n",
    "def minWindow(s):\n",
    "    #strong the unqiue characters with occurences 1\n",
    "    res=collections.Counter(list(set(s))) \n",
    "    #initializing the rear, last and calculating the len of unique characters\n",
    "    l,r,i,j,missing=0,0,0,0,len(set(s))\n",
    "    \n",
    "    while(r<len(s)):\n",
    "        if res[s[r]]>0:\n",
    "            missing-=1 #decreaing the length\n",
    "        res[s[r]]-=1\n",
    "        #print(r)\n",
    "        r+=1 \n",
    "        while(missing==0):\n",
    "            #print(\"=\"*10)\n",
    "            #print(f\"l={l}, r={r}\")\n",
    "            #print(f\"I={i}, J={j}\")\n",
    "            if j==0 or (r-l)<(j-i):\n",
    "                i,j=l,r  \n",
    "            res[s[l]]+=1 \n",
    "            if res[s[l]]>0:\n",
    "                missing+=1  \n",
    "            l+=1  \n",
    "    return s[i:j]\n",
    "\n",
    "a=\"acbdnracirdbn\"\n",
    "\n",
    "print(minWindow(a))"
   ]
  },
  {
   "cell_type": "markdown",
   "metadata": {},
   "source": [
    "<h3>Q17. Write the Python program to count number of substrings from a\n",
    "given string of lowercase alphabets with exactly k distinct (given)\n",
    "characters?</h3>\n"
   ]
  },
  {
   "cell_type": "code",
   "execution_count": 5,
   "metadata": {},
   "outputs": [
    {
     "name": "stdout",
     "output_type": "stream",
     "text": [
      "Total substrings with exactly 3 distinct characters : 8\n"
     ]
    }
   ],
   "source": [
    "def countkDist(str1, k): \n",
    "    n = len(str1) \n",
    "      \n",
    "    # Initialize result \n",
    "    res = 0\n",
    "  \n",
    "    # To store count of characters from  \n",
    "    # 'a' to 'z'  \n",
    "    cnt = [0] * 27\n",
    "  \n",
    "    # Consider all substrings beginning  \n",
    "    # with str[i]  \n",
    "    for i in range(0, n): \n",
    "        dist_count = 0\n",
    "  \n",
    "        # Initializing array with 0  \n",
    "        cnt = [0] * 27\n",
    "  \n",
    "        # Consider all substrings between str[i..j]  \n",
    "        for j in range(i, n): \n",
    "              \n",
    "            # If this is a new character for this  \n",
    "            # substring, increment dist_count.  \n",
    "            if(cnt[ord(str1[j]) - 97] == 0): \n",
    "                dist_count += 1\n",
    "  \n",
    "            # Increment count of current character \n",
    "            cnt[ord(str1[j]) - 97] += 1\n",
    "  \n",
    "            # If distinct character count becomes k,  \n",
    "            # then increment result. \n",
    "            if(dist_count == k): \n",
    "                res += 1\n",
    "            if(dist_count > k): \n",
    "                break\n",
    "  \n",
    "    return res      \n",
    "\n",
    "\n",
    "\n",
    "str1 = \"abcbaa\"\n",
    "k = 3\n",
    "print(\"Total substrings with exactly\", k,  \"distinct characters : \", end = \"\") \n",
    "print(countkDist(str1, k)) "
   ]
  },
  {
   "cell_type": "markdown",
   "metadata": {},
   "source": [
    "<h3>Q18. Write the Python program to count number of non-empty\n",
    "substrings of the given string?</h3>"
   ]
  },
  {
   "cell_type": "code",
   "execution_count": 3,
   "metadata": {},
   "outputs": [
    {
     "name": "stdout",
     "output_type": "stream",
     "text": [
      "Enter a string :w3resource\n",
      "Number of substring :\n",
      " 55\n"
     ]
    }
   ],
   "source": [
    "def nonemptystrings(str1):\n",
    "    return len(str1)*(len(str1)+1)/2  #n*(n+1)/2\n",
    "\n",
    "inp=input(\"Enter a string :\")\n",
    "print(\"Number of substring :\\n\",int(nonemptystrings(inp)))"
   ]
  },
  {
   "cell_type": "markdown",
   "metadata": {},
   "source": [
    "<h3>Q19. Write the Python program to count number of substrings with same\n",
    "first and last characters of the given string?</h3>\n"
   ]
  },
  {
   "cell_type": "code",
   "execution_count": 17,
   "metadata": {},
   "outputs": [
    {
     "name": "stdout",
     "output_type": "stream",
     "text": [
      "7\n"
     ]
    }
   ],
   "source": [
    "def isEqual(s): \n",
    "    return (ord(s[0]) == ord(s[len(s) - 1])); \n",
    "  \n",
    "def countSubstringWithEqualEnds(s): \n",
    "    result = 0; \n",
    "    n = len(s); \n",
    "  \n",
    "    # Starting poof substring \n",
    "    for i in range(n): \n",
    "  \n",
    "    # Length of substring \n",
    "        for j in range(i+1,n+1): \n",
    "  \n",
    "        # Check if current substring has same \n",
    "        # starting and ending characters. \n",
    "            if (isEqual(s[i:j])): \n",
    "                result+=1; \n",
    "  \n",
    "    return result; \n",
    "  \n",
    "s = \"abcab\"; \n",
    "print(countSubstringWithEqualEnds(s)); \n",
    "  "
   ]
  },
  {
   "cell_type": "markdown",
   "metadata": {},
   "source": [
    "<h3>Q20. Write the Python program to count the number of strings where the\n",
    "string length is 2 or more, and first and last character are same\n",
    "from a given list of strings.</h3>"
   ]
  },
  {
   "cell_type": "code",
   "execution_count": 7,
   "metadata": {},
   "outputs": [
    {
     "name": "stdout",
     "output_type": "stream",
     "text": [
      "The count is:  2\n"
     ]
    }
   ],
   "source": [
    "def countsame_firstlast(str1):\n",
    "    count=0\n",
    "    for i in str1:\n",
    "        if (len(i)>2 and i[0]==i[-1]):\n",
    "            count+=1\n",
    "        else:\n",
    "            count+=0\n",
    "    return count\n",
    "\n",
    "inp=['abc', 'xyz', 'wxw', '1331']\n",
    "print(\"The count is: \",countsame_firstlast(inp))"
   ]
  },
  {
   "cell_type": "markdown",
   "metadata": {},
   "source": [
    "<h3>Q21. Write the Python program to get a list, sorted in increasing order by the last element in each tuple from the given list of non-empty\n",
    "tuples?</h3>"
   ]
  },
  {
   "cell_type": "code",
   "execution_count": 19,
   "metadata": {},
   "outputs": [
    {
     "name": "stdout",
     "output_type": "stream",
     "text": [
      "The sorted tuples are as follows :\n",
      " [(9, 10), (7, 8), (7, 8), (5, 6), (3, 4), (3, 4), (2, 3), (1, 2), (1, 1), (3, 1)]\n"
     ]
    }
   ],
   "source": [
    "def sorttuple(list):\n",
    "    #sorting the list of tuple based on last element\n",
    "    return sorted(list,key=lambda x: x[-1],reverse=True) \n",
    "\n",
    "inp=[ (1, 2), (3, 4), (1, 1), (5, 6), (7, 8), (2, 3), (3, 1), (3, 4), (7, 8), (9, 10) ] \n",
    "print(\"The sorted tuples are as follows :\\n\",sorttuple(inp))"
   ]
  },
  {
   "cell_type": "markdown",
   "metadata": {},
   "source": [
    "<h3>Q22. Write the Python program to remove duplicates from a list?</h3>"
   ]
  },
  {
   "cell_type": "code",
   "execution_count": 20,
   "metadata": {},
   "outputs": [
    {
     "name": "stdout",
     "output_type": "stream",
     "text": [
      "The result after removing duplicate is:  [2, 3, 5, 4, 7]\n"
     ]
    }
   ],
   "source": [
    "def removeDuplicates(lst):\n",
    "    res=[]\n",
    "    for i in lst:\n",
    "        if i not in res: #adding the unique elements\n",
    "            res.append(i)\n",
    "    return res\n",
    "\n",
    "inp=[2,3,5,4,2,7,5]\n",
    "print(\"The result after removing duplicate is: \",removeDuplicates(inp))"
   ]
  },
  {
   "cell_type": "markdown",
   "metadata": {},
   "source": [
    "<h3>Q23. Write the Python program to find the list of words that are longer than n from a given list of words?</h3>"
   ]
  },
  {
   "cell_type": "code",
   "execution_count": 1,
   "metadata": {},
   "outputs": [
    {
     "name": "stdout",
     "output_type": "stream",
     "text": [
      "['quick', 'brown', 'jumps', 'over', 'lazy']\n"
     ]
    }
   ],
   "source": [
    "def long_words(n, str):\n",
    "    word_len = []\n",
    "    txt = str.split(\" \")\n",
    "    for x in txt:\n",
    "        if len(x) > n:\n",
    "            word_len.append(x)\n",
    "    return word_len\t\n",
    "print(long_words(3, \"The quick brown fox jumps over the lazy dog\"))"
   ]
  },
  {
   "cell_type": "markdown",
   "metadata": {},
   "source": [
    "<h3>Q24. Write the Python program to print a specified list after removing the 0th, 4th, and 5th elements?</h3>"
   ]
  },
  {
   "cell_type": "code",
   "execution_count": 2,
   "metadata": {},
   "outputs": [
    {
     "name": "stdout",
     "output_type": "stream",
     "text": [
      "['Green', 'White', 'Black']\n"
     ]
    }
   ],
   "source": [
    "color = ['Red', 'Green', 'White', 'Black', 'Pink', 'Yellow']\n",
    "color = [x for (i,x) in enumerate(color) if i not in (0,4,5)]\n",
    "print(color)"
   ]
  },
  {
   "cell_type": "markdown",
   "metadata": {},
   "source": [
    "<h3>Q25. Write the Python program to generate all permutations of a list in\n",
    "Python</h3>"
   ]
  },
  {
   "cell_type": "code",
   "execution_count": 10,
   "metadata": {},
   "outputs": [
    {
     "name": "stdout",
     "output_type": "stream",
     "text": [
      "[(1, 2, 3), (1, 3, 2), (2, 1, 3), (2, 3, 1), (3, 1, 2), (3, 2, 1)]\n"
     ]
    }
   ],
   "source": [
    "import itertools\n",
    "print(list(itertools.permutations([1,2,3])))"
   ]
  },
  {
   "cell_type": "markdown",
   "metadata": {},
   "source": [
    "<h3>Q26. Write the Python program to convert a pair of values into a sorted unique array?</h3>\n"
   ]
  },
  {
   "cell_type": "markdown",
   "metadata": {},
   "source": [
    " <h4> [ (1, 2), (3, 4), (1, 2), (5, 6), (7, 8), (1, 2), (3, 4), (3, 4), (7, 8), (9, 10) ] </h4>\n"
   ]
  },
  {
   "cell_type": "code",
   "execution_count": 1,
   "metadata": {},
   "outputs": [
    {
     "name": "stdout",
     "output_type": "stream",
     "text": [
      "The Sorted Unique Data [1, 2, 3, 4, 5, 6, 7, 8, 9, 10]\n"
     ]
    }
   ],
   "source": [
    "def sortedUniqueArray(lst):\n",
    "    l=[]\n",
    "    for i in lst:\n",
    "        for x in i:\n",
    "            l.append(x)\n",
    "    return list(sorted(set(l)))\n",
    "\n",
    "inp=[ (1, 2), (3, 4), (1, 2), (5, 6), (7, 8), (1, 2), (3, 4), (3, 4), (7, 8), (9, 10) ]\n",
    "print(\"The Sorted Unique Data\",sortedUniqueArray(inp))"
   ]
  },
  {
   "cell_type": "markdown",
   "metadata": {},
   "source": [
    "<h3>Q27. Write the Python class to convert an integer to a roman numeral?</h3>"
   ]
  },
  {
   "cell_type": "code",
   "execution_count": 19,
   "metadata": {},
   "outputs": [
    {
     "name": "stdout",
     "output_type": "stream",
     "text": [
      "I\n",
      "MM\n"
     ]
    }
   ],
   "source": [
    "class py_solution:\n",
    "    def int_to_Roman(self, num):\n",
    "        val = [ 1000, 900, 500, 400, 100, 90, 50, 40, 10, 9, 5, 4, 1]\n",
    "\n",
    "        syb = [ \"M\", \"CM\", \"D\", \"CD\", \"C\", \"XC\", \"L\", \"XL\", \"X\", \"IX\", \"V\", \"IV\",\"I\" ]\n",
    "        \n",
    "        roman_num = ''\n",
    "        i = 0\n",
    "        while  num > 0:\n",
    "            for _ in range(num // val[i]):\n",
    "                roman_num += syb[i]\n",
    "                num -= val[i]\n",
    "            i += 1\n",
    "        return roman_num\n",
    "\n",
    "\n",
    "print(py_solution().int_to_Roman(1))\n",
    "print(py_solution().int_to_Roman(2000))"
   ]
  },
  {
   "cell_type": "markdown",
   "metadata": {},
   "source": [
    "<h3>Q28 Write the Python class to convert a Roman numeral to an integer?</h3>"
   ]
  },
  {
   "cell_type": "code",
   "execution_count": 2,
   "metadata": {},
   "outputs": [
    {
     "name": "stdout",
     "output_type": "stream",
     "text": [
      "3986\n",
      "4000\n",
      "100\n"
     ]
    }
   ],
   "source": [
    "class py_solution:\n",
    "    def roman_to_int(self, s):\n",
    "        rom_val = {'I': 1, 'V': 5, 'X': 10, 'L': 50, 'C': 100, 'D': 500, 'M': 1000}\n",
    "        int_val = 0\n",
    "        for i in range(len(s)):\n",
    "            if i > 0 and rom_val[s[i]] > rom_val[s[i - 1]]:\n",
    "                int_val += rom_val[s[i]] - 2 * rom_val[s[i - 1]]\n",
    "            else:\n",
    "                int_val += rom_val[s[i]]\n",
    "        return int_val\n",
    "\n",
    "print(py_solution().roman_to_int('MMMCMLXXXVI'))\n",
    "print(py_solution().roman_to_int('MMMM'))\n",
    "print(py_solution().roman_to_int('C'))"
   ]
  },
  {
   "cell_type": "markdown",
   "metadata": {},
   "source": [
    "<h3>Q29. Write the Python class to find the validity of the string of the\n",
    "parentheses, '(', ')', '{', '}', '[' and '] and the brackets must be closed\n",
    "in the correct order, example - \"()\" and \"()[]{}\" are valid but \"[)\",\n",
    "\"({[)]\" and \"{{{\" are invalid.</h3>"
   ]
  },
  {
   "cell_type": "code",
   "execution_count": 11,
   "metadata": {},
   "outputs": [
    {
     "name": "stdout",
     "output_type": "stream",
     "text": [
      "True\n",
      "False\n",
      "True\n"
     ]
    }
   ],
   "source": [
    "class py_solution:\n",
    "   def is_valid_parenthese(self, str1):\n",
    "        stack, pchar = [], {\"(\": \")\", \"{\": \"}\", \"[\": \"]\"}\n",
    "        for parenthese in str1:\n",
    "            if parenthese in pchar:\n",
    "                stack.append(parenthese)\n",
    "            elif len(stack) == 0 or pchar[stack.pop()] != parenthese:\n",
    "                return False\n",
    "        return len(stack) == 0\n",
    "\n",
    "print(py_solution().is_valid_parenthese(\"(){}[]\"))\n",
    "print(py_solution().is_valid_parenthese(\"()[{)}\"))\n",
    "print(py_solution().is_valid_parenthese(\"()\"))"
   ]
  },
  {
   "cell_type": "markdown",
   "metadata": {},
   "source": [
    "<h3>Q30. Write the Python class to get all possible unique subsets from a set\n",
    "of distinct integers?</h3>"
   ]
  },
  {
   "cell_type": "code",
   "execution_count": 11,
   "metadata": {},
   "outputs": [
    {
     "name": "stdout",
     "output_type": "stream",
     "text": [
      "[(1, 2), (1, 3), (2, 3)]\n"
     ]
    }
   ],
   "source": [
    "import itertools \n",
    "  \n",
    "def findsubsets(s, n): \n",
    "    return list(itertools.combinations(s, n)) \n",
    "  \n",
    "\n",
    "s = {1, 2, 3} \n",
    "n = 2\n",
    "  \n",
    "print(findsubsets(s, n)) "
   ]
  },
  {
   "cell_type": "markdown",
   "metadata": {},
   "source": [
    "<h3>Q31. Write the Python program to find a pair of elements (indices of the two\n",
    "numbers) from a given array whose sum equals the specific target\n",
    "number?</h3>"
   ]
  },
  {
   "cell_type": "markdown",
   "metadata": {},
   "source": [
    "Input: numbers- [10,20,10,40,50,60,70], target=50\n",
    "Output- 3, 4"
   ]
  },
  {
   "cell_type": "code",
   "execution_count": 9,
   "metadata": {},
   "outputs": [],
   "source": [
    "def getPairsCount(arr, n, sum): \n",
    "      \n",
    "    count = 0 # Initialize result \n",
    "  \n",
    "    # Consider all possible pairs \n",
    "    # and check their sums \n",
    "    for i in range(0, n): \n",
    "        for j in range(i + 1, n): \n",
    "            if arr[i] + arr[j] == sum: \n",
    "                count += 1\n",
    "      \n",
    "    return count "
   ]
  },
  {
   "cell_type": "code",
   "execution_count": 10,
   "metadata": {},
   "outputs": [
    {
     "name": "stdout",
     "output_type": "stream",
     "text": [
      "Count of pairs is 2\n"
     ]
    }
   ],
   "source": [
    "arr =  [10,20,10,40,50,60,70]\n",
    "n = len(arr) \n",
    "sum = 50\n",
    "print(\"Count of pairs is\", \n",
    "      getPairsCount(arr, n, sum))"
   ]
  },
  {
   "cell_type": "markdown",
   "metadata": {},
   "source": [
    "<h3>Q33. Write the Python class to implement pow(x, n)?</h3>\n"
   ]
  },
  {
   "cell_type": "code",
   "execution_count": 7,
   "metadata": {},
   "outputs": [
    {
     "name": "stdout",
     "output_type": "stream",
     "text": [
      "243\n",
      "1\n"
     ]
    }
   ],
   "source": [
    "class calcPower:\n",
    "    def pow(self,num,n):\n",
    "        if n==0:\n",
    "            return 1\n",
    "        elif n==1:\n",
    "            return num\n",
    "        else:\n",
    "            return num*(self.pow(num,n=n-1))\n",
    "\n",
    "print(calcPower().pow(3, 5));\n",
    "print(calcPower().pow(100, 0))"
   ]
  },
  {
   "cell_type": "markdown",
   "metadata": {},
   "source": [
    "<h3>Q34. Write the Python class which has two methods get_String and\n",
    "print_String. get_String accept the string from the user and print_String print the string in upper case.</h3>"
   ]
  },
  {
   "cell_type": "code",
   "execution_count": 1,
   "metadata": {},
   "outputs": [
    {
     "name": "stdout",
     "output_type": "stream",
     "text": [
      "Enter the String :Hello!! I'm Tom\n",
      "HELLO!! I'M TOM\n"
     ]
    }
   ],
   "source": [
    "class GetSetString():\n",
    "    def __init__(self):\n",
    "        self.str1 = \"\"\n",
    "\n",
    "    def get_String(self):\n",
    "        self.str1 = input(\"Enter the String :\")\n",
    "\n",
    "    def print_String(self):\n",
    "        print(self.str1.upper())\n",
    "\n",
    "str1 = GetSetString()\n",
    "str1.get_String()\n",
    "str1.print_String()"
   ]
  },
  {
   "cell_type": "markdown",
   "metadata": {},
   "source": [
    "<h3>Q35. Write the Python class named Rectangle constructed by a length\n",
    "and width and the method which will compute the area of the\n",
    "rectangle?</h3>\n"
   ]
  },
  {
   "cell_type": "code",
   "execution_count": 16,
   "metadata": {},
   "outputs": [
    {
     "name": "stdout",
     "output_type": "stream",
     "text": [
      "Enter length of rectangle(in cm): 14.746\n",
      "Enter breadth of rectangle(in cm): 73.4846\n",
      "Area of rectangle: 1083.60cm²\n"
     ]
    }
   ],
   "source": [
    "class rectangle():\n",
    "    def __init__(self,breadth,length):\n",
    "        self.breadth=breadth\n",
    "        self.length=length\n",
    "    def area(self):\n",
    "        return self.breadth*self.length\n",
    "a=float(input(\"Enter length of rectangle(in cm): \"))\n",
    "b=float(input(\"Enter breadth of rectangle(in cm): \"))\n",
    "obj=rectangle(a,b)\n",
    "res=obj.area()\n",
    "print(\"Area of rectangle: {0:.{1}f}cm\\u00b2\".format(res,2))"
   ]
  },
  {
   "cell_type": "markdown",
   "metadata": {},
   "source": [
    "<h3>Q36. Write the Python class named Circle constructed by the radius\n",
    "and two methods which will compute the area and perimeter of\n",
    "the circle?</h3>"
   ]
  },
  {
   "cell_type": "code",
   "execution_count": 4,
   "metadata": {},
   "outputs": [
    {
     "name": "stdout",
     "output_type": "stream",
     "text": [
      "Enter radius of Circle(in cm): 7.23\n",
      "Area of Circle: 164.14cm²\n",
      "Perimeter of Circle: 45.40cm\n"
     ]
    }
   ],
   "source": [
    "class Circle():\n",
    "    def __init__(self,radius):\n",
    "        self.radius=radius\n",
    "        \n",
    "    def area(self):\n",
    "        return 3.14*self.radius*self.radius\n",
    "    \n",
    "    def perimeter(self):\n",
    "        return 2*3.14*self.radius\n",
    "    \n",
    "    \n",
    "r=float(input(\"Enter radius of Circle(in cm): \"))\n",
    "obj=Circle(r)\n",
    "area=obj.area()\n",
    "perim=obj.perimeter()\n",
    "print(\"Area of Circle: {0:.{1}f}cm\\u00b2\".format(area,2))\n",
    "print(\"Perimeter of Circle: {0:.{1}f}cm\".format(perim,2))"
   ]
  },
  {
   "cell_type": "markdown",
   "metadata": {},
   "source": [
    "<h3>Q37. Write the Python program to get the class name of an instance in\n",
    "Python?</h3>"
   ]
  },
  {
   "cell_type": "code",
   "execution_count": 12,
   "metadata": {},
   "outputs": [
    {
     "name": "stdout",
     "output_type": "stream",
     "text": [
      "cycle\n"
     ]
    }
   ],
   "source": [
    "import itertools\n",
    "x = itertools.cycle('ABCD')\n",
    "print(type(x).__name__)"
   ]
  },
  {
   "cell_type": "markdown",
   "metadata": {},
   "source": [
    "<h3>Q38. Write the Python program to count the number of students of\n",
    "individual class?</h3>"
   ]
  },
  {
   "cell_type": "code",
   "execution_count": 13,
   "metadata": {},
   "outputs": [
    {
     "name": "stdout",
     "output_type": "stream",
     "text": [
      "Counter({'VI': 3, 'V': 2, 'VII': 1})\n"
     ]
    }
   ],
   "source": [
    "from collections import Counter\n",
    "classes = (\n",
    "    ('V', 1),\n",
    "    ('VI', 1),\n",
    "    ('V', 2),\n",
    "    ('VI', 2),\n",
    "    ('VI', 3),\n",
    "    ('VII', 1),\n",
    ")\n",
    "students = Counter(class_name for class_name, no_students in classes)\n",
    "print(students)"
   ]
  },
  {
   "cell_type": "markdown",
   "metadata": {},
   "source": [
    "<h3>Q39. Write the Python program to create an instance of an OrderedDict using the given dictionary and sort dictionary during the\n",
    "creation and print members of the dictionary in reverse order?</h3>"
   ]
  },
  {
   "cell_type": "code",
   "execution_count": 14,
   "metadata": {},
   "outputs": [
    {
     "name": "stdout",
     "output_type": "stream",
     "text": [
      "Afghanistan 93\n",
      "Albania 355\n",
      "Algeria 213\n",
      "Andorra 376\n",
      "Angola 244\n",
      "\n",
      "In reverse order:\n",
      "Angola 244\n",
      "Andorra 376\n",
      "Algeria 213\n",
      "Albania 355\n",
      "Afghanistan 93\n"
     ]
    }
   ],
   "source": [
    "from collections import OrderedDict\n",
    "dict = {'Afghanistan': 93, 'Albania': 355, 'Algeria': 213, 'Andorra': 376, 'Angola': 244}\n",
    "new_dict = OrderedDict(dict.items())\n",
    "for key in new_dict:\n",
    "    print (key, new_dict[key])\n",
    "\n",
    "print(\"\\nIn reverse order:\")\n",
    "for key in reversed(new_dict):\n",
    "    print (key, new_dict[key])"
   ]
  },
  {
   "cell_type": "markdown",
   "metadata": {},
   "source": [
    "<h3>Q40. Write the Python program to compare two unordered lists (not\n",
    "sets)?</h3>\n"
   ]
  },
  {
   "cell_type": "code",
   "execution_count": 15,
   "metadata": {},
   "outputs": [
    {
     "name": "stdout",
     "output_type": "stream",
     "text": [
      "False\n"
     ]
    }
   ],
   "source": [
    "from collections import Counter\n",
    "def compare_lists(x, y):\n",
    "    return Counter(x) == Counter(y)\n",
    "n1 = [20, 10, 30, 10, 20, 30]\n",
    "n2 = [30, 20, 10, 30, 20, 50]\n",
    "print(compare_lists(n1, n2))"
   ]
  },
  {
   "cell_type": "markdown",
   "metadata": {},
   "source": [
    "<h3>Q41. Write the Python program to get an array buffer information?</h3>"
   ]
  },
  {
   "cell_type": "code",
   "execution_count": 16,
   "metadata": {},
   "outputs": [
    {
     "name": "stdout",
     "output_type": "stream",
     "text": [
      "Array buffer start address in memory and number of elements.\n",
      "(2078390446456, 2)\n"
     ]
    }
   ],
   "source": [
    "from array import array\n",
    "a = array(\"I\", (12,25))\n",
    "print(\"Array buffer start address in memory and number of elements.\")\n",
    "print(a.buffer_info())"
   ]
  },
  {
   "cell_type": "markdown",
   "metadata": {},
   "source": [
    "<h3>Q42. Write the Python program to convert an array to an array of\n",
    "machine values and return the bytes representation?</h3>"
   ]
  },
  {
   "cell_type": "code",
   "execution_count": 33,
   "metadata": {},
   "outputs": [
    {
     "name": "stdout",
     "output_type": "stream",
     "text": [
      "array1: array('i', [7, 8, 9, 10])\n",
      "Bytes: b'0700000008000000090000000a000000'\n",
      "array2: array('i', [7, 8, 9, 10])\n"
     ]
    }
   ],
   "source": [
    "from array import array\n",
    "import binascii\n",
    "array1 = array('i', [7, 8, 9, 10])\n",
    "print('array1:', array1)\n",
    "as_bytes = array1.tobytes()\n",
    "print('Bytes:', binascii.hexlify(as_bytes))\n",
    "array2 = array('i')\n",
    "array2.frombytes(as_bytes)\n",
    "print('array2:', array2)\n"
   ]
  },
  {
   "cell_type": "markdown",
   "metadata": {},
   "source": [
    "<h3>Q43. Write the Python program to read a string and interpreting the\n",
    "string as an array of machine values?</h3>"
   ]
  },
  {
   "cell_type": "code",
   "execution_count": 31,
   "metadata": {},
   "outputs": [
    {
     "name": "stdout",
     "output_type": "stream",
     "text": [
      "Bytes to String: \n",
      "b'Ineuron'\n"
     ]
    }
   ],
   "source": [
    "from array import *\n",
    "print(\"String: \")\n",
    "s=\"Ineuron\"\n",
    "res=str.encode(s)\n",
    "print(res)"
   ]
  },
  {
   "cell_type": "markdown",
   "metadata": {},
   "source": [
    "<h3>Q44. Write the Python program to push three items into the heap and\n",
    "return the smallest item from the heap. Also, return and pop the\n",
    "smallest item from the heap?</h3>"
   ]
  },
  {
   "cell_type": "code",
   "execution_count": 34,
   "metadata": {},
   "outputs": [
    {
     "name": "stdout",
     "output_type": "stream",
     "text": [
      "Items in the heap:\n",
      "('V', 1)\n",
      "('V', 3)\n",
      "('V', 2)\n",
      "----------------------\n",
      "Using heappushpop push item on the heap and return the smallest item.\n",
      "('V', 2)\n",
      "('V', 3)\n",
      "('V', 6)\n"
     ]
    }
   ],
   "source": [
    "import heapq\n",
    "heap = []\n",
    "heapq.heappush(heap, ('V', 3))\n",
    "heapq.heappush(heap, ('V', 2))\n",
    "heapq.heappush(heap, ('V', 1))\n",
    "print(\"Items in the heap:\")\n",
    "for a in heap:\n",
    "\tprint(a)\n",
    "print(\"----------------------\")\n",
    "print(\"Using heappushpop push item on the heap and return the smallest item.\")\n",
    "heapq.heappushpop(heap, ('V', 6))\n",
    "for a in heap:\n",
    "\tprint(a)"
   ]
  },
  {
   "cell_type": "markdown",
   "metadata": {},
   "source": [
    "<h3>Q45. Write the Python program to locate the left insertion point for a\n",
    "specified value in sorted order?</h3>"
   ]
  },
  {
   "cell_type": "code",
   "execution_count": 35,
   "metadata": {},
   "outputs": [
    {
     "name": "stdout",
     "output_type": "stream",
     "text": [
      "4\n",
      "2\n"
     ]
    }
   ],
   "source": [
    "import bisect\n",
    "def index(a, x):\n",
    "    i = bisect.bisect_left(a, x)\n",
    "    return i\n",
    "    \n",
    "a = [1,2,4,5]\n",
    "print(index(a, 6))\n",
    "print(index(a, 3))\n"
   ]
  },
  {
   "cell_type": "markdown",
   "metadata": {},
   "source": [
    "<h3>Q46. Write the Python program to create the FIFO queue?</h3>\n",
    "Expected Output:\n",
    "0 1 2 3\n"
   ]
  },
  {
   "cell_type": "code",
   "execution_count": 5,
   "metadata": {},
   "outputs": [
    {
     "name": "stdout",
     "output_type": "stream",
     "text": [
      "0 1 2 3 \n",
      "\n"
     ]
    }
   ],
   "source": [
    "import queue\n",
    "q = queue.Queue()\n",
    "#insert items at the end of the queue \n",
    "for x in range(4):\n",
    "    q.put(str(x))\n",
    "#remove items from the head of the queue \n",
    "while not q.empty():\n",
    "    print(q.get(), end=\" \")\n",
    "print(\"\\n\")"
   ]
  },
  {
   "cell_type": "markdown",
   "metadata": {},
   "source": [
    "<h3>Q47. Write the Python program to calculate the harmonic sum of n-1.\n",
    " Note: The harmonic sum is the sum of reciprocals of the positive\n",
    "Integers?</h3>"
   ]
  },
  {
   "cell_type": "code",
   "execution_count": 3,
   "metadata": {},
   "outputs": [
    {
     "name": "stdout",
     "output_type": "stream",
     "text": [
      "2.7178571428571425\n",
      "2.9289682539682538\n"
     ]
    }
   ],
   "source": [
    "def sum(n): \n",
    "  \n",
    "    # Base condition \n",
    "    if n < 2: \n",
    "        return 1\n",
    "  \n",
    "    else: \n",
    "        return 1 / n + (sum(n - 1)) \n",
    "          \n",
    "print(sum(8)) \n",
    "print(sum(10)) "
   ]
  },
  {
   "cell_type": "markdown",
   "metadata": {},
   "source": [
    "<h3>Q48. Write the NumPy program to create a 2d array with 6 on the border\n",
    "and 0 inside?</h3>"
   ]
  },
  {
   "cell_type": "code",
   "execution_count": 7,
   "metadata": {},
   "outputs": [
    {
     "name": "stdout",
     "output_type": "stream",
     "text": [
      "The given array is\n",
      " [[6 6 6 6 6 6]\n",
      " [6 6 6 6 6 6]\n",
      " [6 6 6 6 6 6]\n",
      " [6 6 6 6 6 6]\n",
      " [6 6 6 6 6 6]\n",
      " [6 6 6 6 6 6]] \n",
      " ============================================================\n",
      "The resultant matrix is\n",
      " [[6 6 6 6 6 6]\n",
      " [6 0 0 0 0 6]\n",
      " [6 0 0 0 0 6]\n",
      " [6 0 0 0 0 6]\n",
      " [6 0 0 0 0 6]\n",
      " [6 6 6 6 6 6]]\n"
     ]
    }
   ],
   "source": [
    "import numpy as np\n",
    "\n",
    "arr=np.full((6,6),6)\n",
    "print(\"The given array is\\n\",arr,\"\\n\",\"==\"*30)\n",
    "\n",
    "arr[1:-1,1:-1]=0\n",
    "\n",
    "print(\"The resultant matrix is\\n\",arr)\n",
    "\n"
   ]
  },
  {
   "cell_type": "markdown",
   "metadata": {},
   "source": [
    "<h3>Q49. Write the NumPy program to create a 8x8 matrix and fill it with the\n",
    "checkerboard pattern?</h3>\n"
   ]
  },
  {
   "cell_type": "raw",
   "metadata": {},
   "source": [
    "Checkerboard pattern-\n",
    "[[3 9 3 9 3 9 3 9]\n",
    "[9 3 9 3 9 3 9 3]\n",
    "[3 9 3 9 3 9 3 9]\n",
    "[9 3 9 3 9 3 9 3]\n",
    "[3 9 3 9 3 9 3 9]\n",
    "[9 3 9 3 9 3 9 3]\n",
    "[3 9 3 9 3 9 3 9]\n",
    "[9 3 9 3 9 3 9 3]]."
   ]
  },
  {
   "cell_type": "code",
   "execution_count": 12,
   "metadata": {},
   "outputs": [
    {
     "name": "stdout",
     "output_type": "stream",
     "text": [
      "The Checkerboard pattern-\n",
      " [[3 9 3 9 3 9 3 9]\n",
      " [9 3 9 3 9 3 9 3]\n",
      " [3 9 3 9 3 9 3 9]\n",
      " [9 3 9 3 9 3 9 3]\n",
      " [3 9 3 9 3 9 3 9]\n",
      " [9 3 9 3 9 3 9 3]\n",
      " [3 9 3 9 3 9 3 9]\n",
      " [9 3 9 3 9 3 9 3]]\n"
     ]
    }
   ],
   "source": [
    "arr1=np.full((8,8),3) # creating a matrix 8x8 with values 3\n",
    "\n",
    "arr1[1::2,::2]=9\n",
    "arr1[::2,1::2]=9\n",
    "print(\"The Checkerboard pattern-\\n\",arr1)\n"
   ]
  },
  {
   "cell_type": "markdown",
   "metadata": {},
   "source": [
    "<h3>Q50. Write the NumPy program to create an empty and a full array.</h3>\n"
   ]
  },
  {
   "cell_type": "raw",
   "metadata": {},
   "source": [
    "Expected output::\n",
    "\n",
    "[[4.45057637e-308 1.78021527e-306 8.45549797e-307 1.37962049e-306]\n",
    "[1.11260619e-306 1.78010255e-306 9.79054228e-307 4.45057637e-308]\n",
    "[8.45596650e-307 9.34602321e-307 4.94065646e-322 0.00000000e+000]]\n",
    "[[6 6 6]\n",
    "[6 6 6]\n",
    "[6 6 6]]"
   ]
  },
  {
   "cell_type": "code",
   "execution_count": 13,
   "metadata": {},
   "outputs": [
    {
     "name": "stdout",
     "output_type": "stream",
     "text": [
      "Empty array is :\n",
      " [[1.09591390e-311 3.16202013e-322 0.00000000e+000 0.00000000e+000]\n",
      " [0.00000000e+000 3.79151623e+179 1.43798112e-051 1.45293092e-051]\n",
      " [4.98427906e-037 2.83183247e-056 9.30085331e+165 1.05037514e-046]]\n",
      "====================\n",
      "Full array is :\n",
      " [[6 6 6]\n",
      " [6 6 6]\n",
      " [6 6 6]]\n"
     ]
    }
   ],
   "source": [
    "emp=np.empty((3,4)) #creating an empty array of size 3 rows and 4 columns\n",
    "arr=np.full((3,3),6) #creating a full array with values '6'\n",
    "\n",
    "print(\"Empty array is :\\n\",emp)\n",
    "print(\"=\"*20)\n",
    "print(\"Full array is :\\n\",arr)"
   ]
  },
  {
   "cell_type": "markdown",
   "metadata": {},
   "source": [
    "<h3>Q51. Write the NumPy program to convert the values of Centigrade\n",
    "degrees into the Fahrenheit degrees and the centigrade values are\n",
    "stored in the NumPy array.</h3>"
   ]
  },
  {
   "cell_type": "code",
   "execution_count": 14,
   "metadata": {},
   "outputs": [
    {
     "name": "stdout",
     "output_type": "stream",
     "text": [
      "Values in Fahrenheit degrees:\n",
      "[ 0.   12.   45.21 34.   99.91]\n",
      "Values in  Centigrade degrees:\n",
      "[-17.77777778 -11.11111111   7.33888889   1.11111111  37.72777778]\n"
     ]
    }
   ],
   "source": [
    "fvalues = [0, 12, 45.21, 34, 99.91]\n",
    "F = np.array(fvalues)\n",
    "print(\"Values in Fahrenheit degrees:\")\n",
    "print(F)\n",
    "print(\"Values in  Centigrade degrees:\") \n",
    "print(5*F/9 - 5*32/9)"
   ]
  },
  {
   "cell_type": "markdown",
   "metadata": {},
   "source": [
    "<h3>Q52. Write the NumPy program to find the real and imaginary parts of an\n",
    "array of complex numbers?</h3>"
   ]
  },
  {
   "cell_type": "code",
   "execution_count": 17,
   "metadata": {},
   "outputs": [
    {
     "name": "stdout",
     "output_type": "stream",
     "text": [
      "The given array is :\n",
      " [1. +4.j  2.3+7.1j 3. +5.9j] \n",
      "\n",
      "The real part of the given array is :\n",
      " [1.  2.3 3. ] \n",
      "\n",
      "The real part of the given array is :\n",
      " [4.  7.1 5.9]\n"
     ]
    }
   ],
   "source": [
    "arr=np.array([1+4j,2.3+7.1j,3+5.9j])\n",
    "\n",
    "print(\"The given array is :\\n\",arr,\"\\n\")\n",
    "\n",
    "r=arr.real\n",
    "i=arr.imag\n",
    "print(\"The real part of the given array is :\\n\",r,\"\\n\")\n",
    "print(\"The real part of the given array is :\\n\",i)"
   ]
  },
  {
   "cell_type": "markdown",
   "metadata": {},
   "source": [
    "<h3>Q53. Write the NumPy program to test whether each element of a 1-D\n",
    "array is also present in the second array?</h3>"
   ]
  },
  {
   "cell_type": "code",
   "execution_count": 18,
   "metadata": {},
   "outputs": [
    {
     "name": "stdout",
     "output_type": "stream",
     "text": [
      "[False  True  True False False]\n"
     ]
    }
   ],
   "source": [
    "firstarr=[0,20,10,40,30]\n",
    "secarr=[20,10]\n",
    "\n",
    "print(np.in1d(firstarr,secarr))"
   ]
  },
  {
   "cell_type": "markdown",
   "metadata": {},
   "source": [
    "<h3>Q54 Write the NumPy program to find common values between two\n",
    "arrays?</h3>\n"
   ]
  },
  {
   "cell_type": "code",
   "execution_count": 21,
   "metadata": {},
   "outputs": [
    {
     "name": "stdout",
     "output_type": "stream",
     "text": [
      "The common between two given array is:  [10 20]\n"
     ]
    }
   ],
   "source": [
    "firstarr=[0,20,10,40,30]\n",
    "secarr=[20,10]\n",
    "\n",
    "print(\"The common between two given array is: \",np.intersect1d(firstarr,secarr))"
   ]
  },
  {
   "cell_type": "markdown",
   "metadata": {},
   "source": [
    "<h3>Q55. Write the NumPy program to get the unique elements of an array?</h3>"
   ]
  },
  {
   "cell_type": "raw",
   "metadata": {},
   "source": [
    "Expected Output\n",
    "\n",
    "Original array-\n",
    "[10 10 20 20 30 30]\n",
    "Unique elements of the above array-\n",
    "[10 20 30]\n",
    "\n",
    "Original array-\n",
    "[[1 1]\n",
    "[2 3]]\n",
    "Unique elements of the above array-\n",
    "[1 2 3]"
   ]
  },
  {
   "cell_type": "code",
   "execution_count": 25,
   "metadata": {},
   "outputs": [
    {
     "name": "stdout",
     "output_type": "stream",
     "text": [
      "Original array-\n",
      " [10, 10, 20, 20, 30, 30]\n",
      "Unique elements of the above array-\n",
      "[10 20 30]\n",
      "Original array-\n",
      " [[1, 1], [2, 3]]\n",
      "Unique elements of the above array-\n",
      "[1 2 3]\n"
     ]
    }
   ],
   "source": [
    "\n",
    "def returnUniqueElements(arr):\n",
    "    print(\"Original array-\\n\",arr)\n",
    "    print(\"Unique elements of the above array-\")\n",
    "    print(np.unique(arr))\n",
    "\n",
    "returnUniqueElements([10,10,20,20,30,30])\n",
    "\n",
    "returnUniqueElements([[1,1],[2,3]])\n"
   ]
  },
  {
   "cell_type": "markdown",
   "metadata": {},
   "source": [
    "<h3>Q56. Write the NumPy program to find the set exclusive-or of two arrays.\n",
    "Set exclusive-or will return the sorted, unique values that are in\n",
    "only one (not both) of the input arrays?</h3>\n"
   ]
  },
  {
   "cell_type": "code",
   "execution_count": 27,
   "metadata": {},
   "outputs": [
    {
     "name": "stdout",
     "output_type": "stream",
     "text": [
      "The set exclusive-or of two arrays is:  [ 0 30 40]\n"
     ]
    }
   ],
   "source": [
    "firstarr=[0,20,10,40,30]\n",
    "secarr=[20,10]\n",
    "\n",
    "print(\"The set exclusive-or of two arrays is: \",np.setxor1d(firstarr,secarr))"
   ]
  },
  {
   "cell_type": "markdown",
   "metadata": {},
   "source": [
    "<h3>Q57. Write the NumPy program to test if all elements in an array\n",
    "evaluate to True ?</h3>"
   ]
  },
  {
   "cell_type": "code",
   "execution_count": 31,
   "metadata": {},
   "outputs": [
    {
     "name": "stdout",
     "output_type": "stream",
     "text": [
      "True\n",
      "False\n"
     ]
    }
   ],
   "source": [
    "print(np.all([20,10,40,30])) #this will evaluate to True only if all elements are non zero\n",
    "\n",
    "print(np.all([0,20,10,40,30]))"
   ]
  },
  {
   "cell_type": "markdown",
   "metadata": {},
   "source": [
    "<h3>Q58 Write the NumPy program to test whether any array element along\n",
    "the given axis evaluates to True?</h3>"
   ]
  },
  {
   "cell_type": "code",
   "execution_count": 34,
   "metadata": {},
   "outputs": [
    {
     "name": "stdout",
     "output_type": "stream",
     "text": [
      "True\n"
     ]
    }
   ],
   "source": [
    "print(np.any([20,0,40,30])) #this will evaluate to True only if any element is non zero"
   ]
  },
  {
   "cell_type": "markdown",
   "metadata": {},
   "source": [
    "<h3>Q59. Write the NumPy program to construct an array by repeating</h3>"
   ]
  },
  {
   "cell_type": "raw",
   "metadata": {},
   "source": [
    "Sample array- [1, 2, 3, 4]\n",
    "Expected OutputOriginal array\n",
    "[1, 2, 3, 4]\n",
    "Repeating 2 times\n",
    "[1 2 3 4 1 2 3 4]"
   ]
  },
  {
   "cell_type": "code",
   "execution_count": 37,
   "metadata": {},
   "outputs": [
    {
     "name": "stdout",
     "output_type": "stream",
     "text": [
      "The resultant array is:\n",
      "  [1 2 3 4 1 2 3 4 1 2 3 4]\n"
     ]
    }
   ],
   "source": [
    "arr=np.array([1, 2, 3, 4])\n",
    "\n",
    "print(\"The resultant array is:\\n \",np.tile(arr,3))"
   ]
  },
  {
   "cell_type": "markdown",
   "metadata": {},
   "source": [
    "<h3>Q60. Write the NumPy program to find the indices of the maximum and\n",
    "minimum values with the given axis of an array?\n",
    "</h3>"
   ]
  },
  {
   "cell_type": "code",
   "execution_count": 38,
   "metadata": {},
   "outputs": [
    {
     "name": "stdout",
     "output_type": "stream",
     "text": [
      "Original array:  [1 2 3 4 5 6]\n",
      "Maximum Values:  5\n",
      "Minimum Values:  0\n"
     ]
    }
   ],
   "source": [
    "x = np.array([1, 2, 3, 4, 5, 6])\n",
    "print(\"Original array: \",x)\n",
    "print(\"Maximum Values: \",np.argmax(x))\n",
    "print(\"Minimum Values: \",np.argmin(x))"
   ]
  },
  {
   "cell_type": "markdown",
   "metadata": {},
   "source": [
    "<h3>Q61. Write the NumPy program compare two arrays using numpy?</h3>"
   ]
  },
  {
   "cell_type": "raw",
   "metadata": {},
   "source": [
    "Array a- [1 2]\n",
    "Array b- [4 5]\n"
   ]
  },
  {
   "cell_type": "code",
   "execution_count": 44,
   "metadata": {},
   "outputs": [
    {
     "name": "stdout",
     "output_type": "stream",
     "text": [
      "Array a:  [1 2]\n",
      "Array b:  [4 5]\n",
      "a > b\n",
      "[False False]\n",
      "a >= b\n",
      "[False False]\n",
      "a < b\n",
      "[ True  True]\n",
      "a <= b\n",
      "[ True  True]\n"
     ]
    }
   ],
   "source": [
    "a = np.array([1, 2])\n",
    "b = np.array([4, 5])\n",
    "print(\"Array a: \",a)\n",
    "print(\"Array b: \",b)\n",
    "print(\"a > b\")\n",
    "print(np.greater(a, b))\n",
    "print(\"a >= b\")\n",
    "print(np.greater_equal(a, b))\n",
    "print(\"a < b\")\n",
    "print(np.less(a, b))\n",
    "print(\"a <= b\")\n",
    "print(np.less_equal(a, b))"
   ]
  },
  {
   "cell_type": "markdown",
   "metadata": {},
   "source": [
    "<h3>Q62. Write the NumPy program to sort an along the first, last axis of an\n",
    "array?</h3>"
   ]
  },
  {
   "cell_type": "code",
   "execution_count": 45,
   "metadata": {},
   "outputs": [
    {
     "name": "stdout",
     "output_type": "stream",
     "text": [
      "Original array: \n",
      "[[4 6]\n",
      " [2 1]]\n",
      "Sort along the first axis: \n",
      "[[2 1]\n",
      " [4 6]]\n",
      "Sort along the last axis: \n",
      "[[1 2]\n",
      " [4 6]]\n"
     ]
    }
   ],
   "source": [
    "a = np.array([[4, 6],[2, 1]])\n",
    "print(\"Original array: \")\n",
    "print(a)\n",
    "print(\"Sort along the first axis: \")\n",
    "x = np.sort(a, axis=0) #along row\n",
    "print(x)\n",
    "print(\"Sort along the last axis: \")\n",
    "y = np.sort(x, axis=1) #along column\n",
    "print(y)"
   ]
  },
  {
   "cell_type": "markdown",
   "metadata": {},
   "source": [
    "<h3>Q63. Write the NumPy program to sort pairs of first name and last name\n",
    "return their indices (first by last name, then by first name)</h3>"
   ]
  },
  {
   "cell_type": "code",
   "execution_count": 6,
   "metadata": {},
   "outputs": [
    {
     "name": "stdout",
     "output_type": "stream",
     "text": [
      "[1 3 2 4 0]\n"
     ]
    }
   ],
   "source": [
    "import numpy as np\n",
    "first_names =    ('Margery', 'Betsey', 'Shelley', 'Lanell', 'Genesis')\n",
    "last_names = ('Woolum', 'Battle', 'Plotner', 'Brien', 'Stahl')\n",
    "x = np.lexsort((first_names, last_names))\n",
    "print(x)"
   ]
  },
  {
   "cell_type": "markdown",
   "metadata": {},
   "source": [
    "<h3>Q64. Write the NumPy program to get the values and indices of the\n",
    "elements that are bigger than 10 in the given array?</h3>\n"
   ]
  },
  {
   "cell_type": "code",
   "execution_count": 46,
   "metadata": {},
   "outputs": [
    {
     "name": "stdout",
     "output_type": "stream",
     "text": [
      "Original array: \n",
      "[[ 0 10 20]\n",
      " [20 30 40]]\n",
      "Values bigger than 10 = [20 20 30 40]\n",
      "Their indices are  (array([0, 1, 1, 1], dtype=int64), array([2, 0, 1, 2], dtype=int64))\n"
     ]
    }
   ],
   "source": [
    "x = np.array([[0, 10, 20], [20, 30, 40]])\n",
    "print(\"Original array: \")\n",
    "print(x)\n",
    "print(\"Values bigger than 10 =\", x[x>10])\n",
    "print(\"Their indices are \", np.nonzero(x > 10))"
   ]
  },
  {
   "cell_type": "markdown",
   "metadata": {},
   "source": [
    "<h3>Q65. Write the NumPy program to find the memory size of a NumPy\n",
    "array?\n",
    "</h3>"
   ]
  },
  {
   "cell_type": "code",
   "execution_count": 47,
   "metadata": {},
   "outputs": [
    {
     "name": "stdout",
     "output_type": "stream",
     "text": [
      "256 bytes\n"
     ]
    }
   ],
   "source": [
    "n = np.zeros((8,4))\n",
    "print(\"%d bytes\" % (n.size * n.itemsize))"
   ]
  },
  {
   "cell_type": "markdown",
   "metadata": {},
   "source": [
    "<h3>Q66. Write the NumPy program to create an array of ones and an array\n",
    "of zeros?</h3>"
   ]
  },
  {
   "cell_type": "code",
   "execution_count": 48,
   "metadata": {},
   "outputs": [
    {
     "name": "stdout",
     "output_type": "stream",
     "text": [
      "Create an array of zeros\n",
      "[[0. 0.]]\n",
      "====================\n",
      "Create an array of ones\n",
      "[[1. 1.]]\n"
     ]
    }
   ],
   "source": [
    "print(\"Create an array of zeros\")\n",
    "x = np.zeros((1,2))\n",
    "print(x)\n",
    "\n",
    "print(\"=\"*20)\n",
    "print(\"Create an array of ones\")\n",
    "y= np.ones((1,2)) \n",
    "print(y)"
   ]
  },
  {
   "cell_type": "markdown",
   "metadata": {},
   "source": [
    "<h3>Q67. Write the NumPy program to change the dimension of an array?</h3>"
   ]
  },
  {
   "cell_type": "code",
   "execution_count": 52,
   "metadata": {},
   "outputs": [
    {
     "name": "stdout",
     "output_type": "stream",
     "text": [
      "Change array shape to (3, 3) -> 3 rows and 3 columns \n",
      "[[1 2 3]\n",
      " [4 5 6]\n",
      " [7 8 9]]\n"
     ]
    }
   ],
   "source": [
    "x = np.array([1,2,3,4,5,6,7,8,9])\n",
    "print(\"Change array shape to (3, 3) -> 3 rows and 3 columns \")\n",
    "x.shape=(3,3)\n",
    "print(x)"
   ]
  },
  {
   "cell_type": "markdown",
   "metadata": {},
   "source": [
    "<h3>Q68. Write the NumPy program to create a new shape to an array\n",
    "without changing its data ?</h3>"
   ]
  },
  {
   "cell_type": "code",
   "execution_count": 54,
   "metadata": {},
   "outputs": [
    {
     "name": "stdout",
     "output_type": "stream",
     "text": [
      "Change array shape to (3, 3) -> 3 rows and 3 columns \n",
      "[[1 2 3]\n",
      " [4 5 6]\n",
      " [7 8 9]]\n"
     ]
    }
   ],
   "source": [
    "x = np.array([1,2,3,4,5,6,7,8,9])\n",
    "print(\"Change array shape to (3, 3) -> 3 rows and 3 columns \")\n",
    "y=np.reshape(x,(3,3))\n",
    "print(y)"
   ]
  },
  {
   "cell_type": "markdown",
   "metadata": {},
   "source": [
    "<h3>Q69. Write the NumPy program to create a new array of 3*5, filled with\n",
    "2?\n",
    "</h3>"
   ]
  },
  {
   "cell_type": "code",
   "execution_count": 55,
   "metadata": {},
   "outputs": [
    {
     "name": "stdout",
     "output_type": "stream",
     "text": [
      "[[2 2 2 2 2]\n",
      " [2 2 2 2 2]\n",
      " [2 2 2 2 2]]\n"
     ]
    }
   ],
   "source": [
    "arr=np.full((3,5),2)\n",
    "\n",
    "print(arr)"
   ]
  },
  {
   "cell_type": "markdown",
   "metadata": {},
   "source": [
    "<h3>Q70. Write the NumPy program to create a 3-D array with ones on a\n",
    "diagonal and zeros elsewhere?</h3>"
   ]
  },
  {
   "cell_type": "code",
   "execution_count": 56,
   "metadata": {},
   "outputs": [
    {
     "name": "stdout",
     "output_type": "stream",
     "text": [
      "[[1. 0. 0.]\n",
      " [0. 1. 0.]\n",
      " [0. 0. 1.]]\n"
     ]
    }
   ],
   "source": [
    "x = np.eye(3)\n",
    "print(x)"
   ]
  },
  {
   "cell_type": "markdown",
   "metadata": {},
   "source": [
    "<h3>Q71. Write the NumPy program to split an array of 14 elements into the\n",
    "3 arrays and each of which has 2, 4, and 8 elements in original\n",
    "order?\n",
    "</h3>"
   ]
  },
  {
   "cell_type": "code",
   "execution_count": 59,
   "metadata": {},
   "outputs": [
    {
     "name": "stdout",
     "output_type": "stream",
     "text": [
      "Original array: [ 1  2  3  4  5  6  7  8  9 10 11 12 13 14]\n",
      "After splitting:\n",
      "[array([1, 2]), array([3, 4]), array([ 5,  6,  7,  8,  9, 10, 11, 12, 13, 14])]\n"
     ]
    }
   ],
   "source": [
    "x = np.arange(1, 15)\n",
    "print(\"Original array:\",x)\n",
    "print(\"After splitting:\")\n",
    "print(np.split(x, [2, 4]))"
   ]
  },
  {
   "cell_type": "markdown",
   "metadata": {},
   "source": [
    "<h3>Q72. Write the NumPy program to split of an array of shape 4x4 it into\n",
    "two arrays along the second axis ?</h3>"
   ]
  },
  {
   "cell_type": "code",
   "execution_count": 60,
   "metadata": {},
   "outputs": [
    {
     "name": "stdout",
     "output_type": "stream",
     "text": [
      "Original array: [[ 0  1  2  3]\n",
      " [ 4  5  6  7]\n",
      " [ 8  9 10 11]\n",
      " [12 13 14 15]]\n",
      "After splitting horizontally:\n",
      "[array([[ 0,  1],\n",
      "       [ 4,  5],\n",
      "       [ 8,  9],\n",
      "       [12, 13]]), array([[ 2,  3],\n",
      "       [ 6,  7],\n",
      "       [10, 11],\n",
      "       [14, 15]]), array([], shape=(4, 0), dtype=int32)]\n"
     ]
    }
   ],
   "source": [
    "x = np.arange(16).reshape((4, 4))\n",
    "print(\"Original array:\",x)\n",
    "print(\"After splitting horizontally:\")\n",
    "print(np.hsplit(x, [2, 6]))"
   ]
  },
  {
   "cell_type": "markdown",
   "metadata": {},
   "source": [
    "<h3>Q73. Write the NumPy program to create a 5x5 matrix with row values\n",
    "ranging from 0 to 4?</h3>"
   ]
  },
  {
   "cell_type": "code",
   "execution_count": 61,
   "metadata": {},
   "outputs": [
    {
     "name": "stdout",
     "output_type": "stream",
     "text": [
      "Original array:\n",
      "[[0. 0. 0. 0. 0.]\n",
      " [0. 0. 0. 0. 0.]\n",
      " [0. 0. 0. 0. 0.]\n",
      " [0. 0. 0. 0. 0.]\n",
      " [0. 0. 0. 0. 0.]]\n",
      "Row values ranging from 0 to 4.\n",
      "[[0. 1. 2. 3. 4.]\n",
      " [0. 1. 2. 3. 4.]\n",
      " [0. 1. 2. 3. 4.]\n",
      " [0. 1. 2. 3. 4.]\n",
      " [0. 1. 2. 3. 4.]]\n"
     ]
    }
   ],
   "source": [
    "x = np.zeros((5,5))\n",
    "print(\"Original array:\")\n",
    "print(x)\n",
    "print(\"Row values ranging from 0 to 4.\")\n",
    "x += np.arange(5)\n",
    "print(x)"
   ]
  },
  {
   "cell_type": "markdown",
   "metadata": {},
   "source": [
    "<h3>Q74. Write the NumPy program to create an array of zeros and three\n",
    "column types (integer, float, character)?</h3>"
   ]
  },
  {
   "cell_type": "code",
   "execution_count": 62,
   "metadata": {},
   "outputs": [
    {
     "name": "stdout",
     "output_type": "stream",
     "text": [
      "[(1, 2., b'Albert Einstein') (2, 2., b'Edmond Halley')\n",
      " (3, 3., b'Gertrude B. Elion')]\n"
     ]
    }
   ],
   "source": [
    "x = np.zeros((3,), dtype=('i4,f4,a40'))\n",
    "new_data = [(1, 2., \"Albert Einstein\"), (2, 2., \"Edmond Halley\"), (3, 3., \"Gertrude B. Elion\")]\n",
    "x[:] = new_data\n",
    "print(x)"
   ]
  },
  {
   "cell_type": "markdown",
   "metadata": {},
   "source": [
    "<h3>Q75. Write the NumPy program to remove the negative values in the\n",
    "numpy array with 0?</h3>"
   ]
  },
  {
   "cell_type": "code",
   "execution_count": 63,
   "metadata": {},
   "outputs": [
    {
     "name": "stdout",
     "output_type": "stream",
     "text": [
      "Original array:\n",
      "[-1 -4  0  2  3  4  5 -6]\n",
      "Replace the negative values of the said array with 0:\n",
      "[0 0 0 2 3 4 5 0]\n"
     ]
    }
   ],
   "source": [
    "x = np.array([-1, -4, 0, 2, 3, 4, 5, -6])\n",
    "print(\"Original array:\")\n",
    "print(x)\n",
    "print(\"Replace the negative values of the said array with 0:\")\n",
    "x[x < 0] = 0\n",
    "print(x)"
   ]
  },
  {
   "cell_type": "markdown",
   "metadata": {},
   "source": [
    "<h3>Q76. Write the NumPy program to compute the histogram of a set of\n",
    "data?</h3>"
   ]
  },
  {
   "cell_type": "code",
   "execution_count": 14,
   "metadata": {},
   "outputs": [
    {
     "data": {
      "image/png": "[encoded data removed]",
      "text/plain": [
       "<Figure size 432x288 with 1 Axes>"
      ]
     },
     "metadata": {
      "needs_background": "light"
     },
     "output_type": "display_data"
    }
   ],
   "source": [
    "import matplotlib.pyplot as plt\n",
    "plt.hist([1,0,1,3,4], bins=[0, 1, 2, 3, 5])\n",
    "plt.show()"
   ]
  },
  {
   "cell_type": "markdown",
   "metadata": {},
   "source": [
    "<h3>Q77. Write the NumPy program to compute the line graph of a set of\n",
    "data?\n",
    "</h3>"
   ]
  },
  {
   "cell_type": "code",
   "execution_count": 16,
   "metadata": {},
   "outputs": [
    {
     "data": {
      "text/plain": [
       "<bound method Figure.show of <Figure size 432x288 with 1 Axes>>"
      ]
     },
     "execution_count": 16,
     "metadata": {},
     "output_type": "execute_result"
    },
    {
     "data": {
      "image/png": "[encoded data removed]",
      "text/plain": [
       "<Figure size 432x288 with 1 Axes>"
      ]
     },
     "metadata": {
      "needs_background": "light"
     },
     "output_type": "display_data"
    }
   ],
   "source": [
    "import numpy as np\n",
    "arr = np.random.randint(1, 50, 10)\n",
    "y, x = np.histogram(arr, bins=np.arange(51))\n",
    "fig, ax = plt.subplots()\n",
    "ax.plot(x[1:], y)\n",
    "fig.show"
   ]
  },
  {
   "cell_type": "markdown",
   "metadata": {},
   "source": [
    "<h3>Q78. Write the NumPy program to extracts all the elements from second\n",
    "row from given (4x4) array?</h3>"
   ]
  },
  {
   "cell_type": "code",
   "execution_count": 17,
   "metadata": {},
   "outputs": [
    {
     "name": "stdout",
     "output_type": "stream",
     "text": [
      "Original array:\n",
      "[[ 0  1  2  3]\n",
      " [ 4  5  6  7]\n",
      " [ 8  9 10 11]\n",
      " [12 13 14 15]]\n",
      "\n",
      "Extracted data: Second row\n",
      "[4 5 6 7]\n"
     ]
    }
   ],
   "source": [
    "arra_data = np.arange(0,16).reshape((4, 4))\n",
    "print(\"Original array:\")\n",
    "print(arra_data)\n",
    "print(\"\\nExtracted data: Second row\")\n",
    "print(arra_data[1,:])\n"
   ]
  },
  {
   "cell_type": "markdown",
   "metadata": {},
   "source": [
    "<h3>Q79. Write the NumPy program to extract first element of the second\n",
    "row and fourth element of fourth row from a given (4x4) array? </h3>"
   ]
  },
  {
   "cell_type": "code",
   "execution_count": 22,
   "metadata": {},
   "outputs": [
    {
     "name": "stdout",
     "output_type": "stream",
     "text": [
      "Original array:\n",
      "[[ 0  1  2  3]\n",
      " [ 4  5  6  7]\n",
      " [ 8  9 10 11]\n",
      " [12 13 14 15]]\n",
      "\n",
      "First element of the second row\n",
      "4\n",
      "\n",
      "Fourth element of fourth row \n",
      "15\n"
     ]
    }
   ],
   "source": [
    "arra_data = np.arange(0,16).reshape((4, 4))\n",
    "print(\"Original array:\")\n",
    "print(arra_data)\n",
    "print(\"\\nFirst element of the second row\")\n",
    "print(arra_data[1,:][0])\n",
    "\n",
    "print(\"\\nFourth element of fourth row \")\n",
    "print(arra_data[3,:][3])"
   ]
  },
  {
   "cell_type": "markdown",
   "metadata": {},
   "source": [
    "<h3>Q80. Write the NumPy program to add two arrays A and B of sizes (3,3)\n",
    "and (,3)?</h3>"
   ]
  },
  {
   "cell_type": "code",
   "execution_count": 25,
   "metadata": {},
   "outputs": [
    {
     "name": "stdout",
     "output_type": "stream",
     "text": [
      "\n",
      "First array is :\n",
      " [[0 1 2]\n",
      " [3 4 5]\n",
      " [6 7 8]]\n",
      "\n",
      "Second array is : [0 1 2]\n",
      "\n",
      "The sum of two array is \n",
      " [[ 0  2  4]\n",
      " [ 3  5  7]\n",
      " [ 6  8 10]]\n"
     ]
    }
   ],
   "source": [
    "arr1=np.arange(9).reshape(3,3)\n",
    "print(\"\\nFirst array is :\\n\",arr1)\n",
    "\n",
    "arr2=np.arange(3)\n",
    "print(\"\\nSecond array is :\",arr2)\n",
    "\n",
    "print(\"\\nThe sum of two array is \\n\",arr1+arr2)"
   ]
  },
  {
   "cell_type": "markdown",
   "metadata": {},
   "source": [
    "<h3>Q81. Write the NumPy program to copy data from a given array to\n",
    "another array?"
   ]
  },
  {
   "cell_type": "code",
   "execution_count": 26,
   "metadata": {},
   "outputs": [
    {
     "name": "stdout",
     "output_type": "stream",
     "text": [
      "Original array:\n",
      "[24 27 30 29 18 14]\n",
      "\n",
      "Copy of the said array:\n",
      "[24 27 30 29 18 14]\n"
     ]
    }
   ],
   "source": [
    "x = np.array([24, 27, 30, 29, 18, 14])\n",
    "print(\"Original array:\")\n",
    "print(x)\n",
    "y = np.empty_like (x)\n",
    "y[:] = x\n",
    "print(\"\\nCopy of the said array:\")\n",
    "print(y)"
   ]
  },
  {
   "cell_type": "markdown",
   "metadata": {},
   "source": [
    "<h3>Q82. Write the NumPy program to calculate the sum of all columns of\n",
    "the 2D numpy array?</h3>"
   ]
  },
  {
   "cell_type": "code",
   "execution_count": 31,
   "metadata": {},
   "outputs": [
    {
     "name": "stdout",
     "output_type": "stream",
     "text": [
      "Original array:\n",
      "[[0 1]\n",
      " [2 3]]\n",
      "Sum of all elements:\n",
      "6\n",
      "Sum of each column:\n",
      "[2 4]\n"
     ]
    }
   ],
   "source": [
    "x = np.array([[0,1],[2,3]])\n",
    "print(\"Original array:\")\n",
    "print(x)\n",
    "print(\"Sum of all elements:\")\n",
    "print(np.sum(x))\n",
    "print(\"Sum of each column:\")\n",
    "print(np.sum(x, axis=0))"
   ]
  },
  {
   "cell_type": "markdown",
   "metadata": {},
   "source": [
    "<h3>Q83. Write the NumPy program to calculate averages without NaNs\n",
    "along the given array?</h3>"
   ]
  },
  {
   "cell_type": "code",
   "execution_count": 34,
   "metadata": {},
   "outputs": [
    {
     "name": "stdout",
     "output_type": "stream",
     "text": [
      "Original array:\n",
      "[[10. 20. 30.]\n",
      " [40. 50. nan]\n",
      " [nan  6. nan]\n",
      " [nan nan nan]]\n",
      "Averages without NaNs along the said array:\n",
      "[20. 45.  6. nan]\n"
     ]
    }
   ],
   "source": [
    "arr1 = np.array([[10, 20 ,30], [40, 50, np.nan], [np.nan, 6, np.nan], [np.nan, np.nan, np.nan]])\n",
    "print(\"Original array:\")\n",
    "print(arr1)\n",
    "temp = np.ma.masked_array(arr1,np.isnan(arr1))\n",
    "result = np.mean(temp, axis=1)\n",
    "print(\"Averages without NaNs along the said array:\")\n",
    "print(result.filled(np.nan))\n"
   ]
  },
  {
   "cell_type": "markdown",
   "metadata": {},
   "source": [
    "<h3>Q84. Create two arrays of six elements. Write the NumPy program to\n",
    "count the number of instances of a value occurring in one array on\n",
    "the condition of another array.</h3>"
   ]
  },
  {
   "cell_type": "code",
   "execution_count": 39,
   "metadata": {},
   "outputs": [
    {
     "name": "stdout",
     "output_type": "stream",
     "text": [
      "Original arrays:\n",
      "[ 10 -10  10 -10 -10 -10]\n",
      "[0.85 0.45 0.9  0.8  0.12 0.6 ]\n",
      "\n",
      "Number of instances of a value occurring in one aray on the condition of another array:\n",
      "2\n"
     ]
    }
   ],
   "source": [
    "x = np.array([10,-10,10,-10,-10,-10])\n",
    "y = np.array([.85,.45,.9,.8,.12,.6])\n",
    "print(\"Original arrays:\")\n",
    "print(x)\n",
    "print(y)\n",
    "result = np.sum((x == 10) & (y > .5))\n",
    "print(\"\\nNumber of instances of a value occurring in one aray on the condition of another array:\")\n",
    "print(result)\n"
   ]
  },
  {
   "cell_type": "markdown",
   "metadata": {},
   "source": [
    "<h3>Q85. Write the NumPy program to convert a Python dictionary to a\n",
    "Numpy ndarray ?</h3>"
   ]
  },
  {
   "cell_type": "code",
   "execution_count": 40,
   "metadata": {},
   "outputs": [
    {
     "name": "stdout",
     "output_type": "stream",
     "text": [
      "\n",
      "Original dictionary:\n",
      "{'column0': {'a': 1, 'b': 0.0, 'c': 0.0, 'd': 2.0}, 'column1': {'a': 3.0, 'b': 1, 'c': 0.0, 'd': -1.0}, 'column2': {'a': 4, 'b': 1, 'c': 5.0, 'd': -1.0}, 'column3': {'a': 3.0, 'b': -1.0, 'c': -1.0, 'd': -1.0}}\n",
      "Type:  <class 'dict'>\n",
      "\n",
      "ndarray:\n",
      "[[ 1.  0.  0.  2.]\n",
      " [ 3.  1.  0. -1.]\n",
      " [ 4.  1.  5. -1.]\n",
      " [ 3. -1. -1. -1.]]\n",
      "Type:  <class 'numpy.ndarray'>\n"
     ]
    }
   ],
   "source": [
    "import numpy as np\n",
    "from ast import literal_eval\n",
    "udict = \"\"\"{\"column0\":{\"a\":1,\"b\":0.0,\"c\":0.0,\"d\":2.0},\n",
    "   \"column1\":{\"a\":3.0,\"b\":1,\"c\":0.0,\"d\":-1.0},\n",
    "   \"column2\":{\"a\":4,\"b\":1,\"c\":5.0,\"d\":-1.0},\n",
    "   \"column3\":{\"a\":3.0,\"b\":-1.0,\"c\":-1.0,\"d\":-1.0}\n",
    "  }\"\"\"\n",
    "t = literal_eval(udict)\n",
    "print(\"\\nOriginal dictionary:\")\n",
    "print(t)\n",
    "print(\"Type: \",type(t))\n",
    "result_nparra = np.array([[v[j] for j in ['a', 'b', 'c', 'd']] for k, v in t.items()])\n",
    "print(\"\\nndarray:\")\n",
    "print(result_nparra)\n",
    "print(\"Type: \",type(result_nparra))"
   ]
  },
  {
   "cell_type": "markdown",
   "metadata": {},
   "source": [
    "<h3>Q86. Write the Numpy program to find and store the non-zero unique\n",
    "rows in an array after comparing each row with other row in the\n",
    "given matrix?</h3>"
   ]
  },
  {
   "cell_type": "markdown",
   "metadata": {},
   "source": [
    "<h3>Q87. Write the NumPy program to multiply the matrix by another matrix\n",
    "of complex numbers and create a new matrix of complex\n",
    "numbers?</h3>"
   ]
  },
  {
   "cell_type": "code",
   "execution_count": 41,
   "metadata": {},
   "outputs": [
    {
     "name": "stdout",
     "output_type": "stream",
     "text": [
      "First array:\n",
      "[1.+2.j 3.+4.j]\n",
      "Second array:\n",
      "[5.+6.j 7.+8.j]\n",
      "Product of above two arrays:\n",
      "(70-8j)\n"
     ]
    }
   ],
   "source": [
    "x = np.array([1+2j,3+4j])\n",
    "print(\"First array:\")\n",
    "print(x)\n",
    "y = np.array([5+6j,7+8j])\n",
    "print(\"Second array:\")\n",
    "print(y)\n",
    "z = np.vdot(x, y)\n",
    "print(\"Product of above two arrays:\")\n",
    "print(z)"
   ]
  },
  {
   "cell_type": "markdown",
   "metadata": {},
   "source": [
    "<h3>Q88. Write a NumPy program to generate the matrix product of two\n",
    "Arrays?</h3>"
   ]
  },
  {
   "cell_type": "code",
   "execution_count": 42,
   "metadata": {},
   "outputs": [
    {
     "name": "stdout",
     "output_type": "stream",
     "text": [
      "Matrices and vectors.\n",
      "x:\n",
      "[[1, 0], [1, 1]]\n",
      "y:\n",
      "[[3, 1], [2, 2]]\n",
      "Matrix product of above two arrays:\n",
      "[[3 1]\n",
      " [5 3]]\n"
     ]
    }
   ],
   "source": [
    "x = [[1, 0], [1, 1]]\n",
    "y = [[3, 1], [2, 2]]\n",
    "print(\"Matrices and vectors.\")\n",
    "print(\"x:\")\n",
    "print(x)\n",
    "print(\"y:\")\n",
    "print(y)\n",
    "print(\"Matrix product of above two arrays:\")\n",
    "print(np.matmul(x, y))"
   ]
  },
  {
   "cell_type": "markdown",
   "metadata": {},
   "source": [
    "<h3>Q89. Write the NumPy program to find roots of the following\n",
    "Polynomial</h3>"
   ]
  },
  {
   "cell_type": "code",
   "execution_count": 43,
   "metadata": {},
   "outputs": [
    {
     "name": "stdout",
     "output_type": "stream",
     "text": [
      "Roots of the first polynomial:\n",
      "[1. 1.]\n",
      "Roots of the second polynomial:\n",
      "[11.04461946+0.j        -0.8711421 +0.j         0.91326132+0.4531004j\n",
      "  0.91326132-0.4531004j]\n"
     ]
    }
   ],
   "source": [
    "print(\"Roots of the first polynomial:\")\n",
    "print(np.roots([1, -2, 1]))\n",
    "print(\"Roots of the second polynomial:\")\n",
    "print(np.roots([1, -12, 10, 7, -10]))"
   ]
  },
  {
   "cell_type": "markdown",
   "metadata": {},
   "source": [
    "<h3>Q90. Write the NumPy program to calculate inverse of sine, cosine,\n",
    "and inverse tangent for all elements in a given array? </h3>"
   ]
  },
  {
   "cell_type": "code",
   "execution_count": 44,
   "metadata": {},
   "outputs": [
    {
     "name": "stdout",
     "output_type": "stream",
     "text": [
      "Inverse sine: [-1.57079633  0.          1.57079633]\n",
      "Inverse cosine: [3.14159265 1.57079633 0.        ]\n",
      "Inverse tangent: [-0.78539816  0.          0.78539816]\n"
     ]
    }
   ],
   "source": [
    "x = np.array([-1., 0, 1.])\n",
    "print(\"Inverse sine:\", np.arcsin(x))\n",
    "print(\"Inverse cosine:\", np.arccos(x))\n",
    "print(\"Inverse tangent:\", np.arctan(x))"
   ]
  },
  {
   "cell_type": "markdown",
   "metadata": {},
   "source": [
    "<h3>Q91. Write the NumPy program to calculate the difference between in\n",
    "neighbouring elements, element-wise of a given array?\n",
    "</h3>"
   ]
  },
  {
   "cell_type": "code",
   "execution_count": 46,
   "metadata": {},
   "outputs": [
    {
     "name": "stdout",
     "output_type": "stream",
     "text": [
      "Original array: \n",
      "[1 3 5 7 0]\n",
      "Difference between neighboring elements, element-wise of the said array.\n",
      "[ 2  2  2 -7]\n"
     ]
    }
   ],
   "source": [
    "x = np.array([1, 3, 5, 7, 0])\n",
    "print(\"Original array: \")\n",
    "print(x)\n",
    "print(\"Difference between neighboring elements, element-wise of the said array.\")\n",
    "print(np.diff(x))"
   ]
  },
  {
   "cell_type": "markdown",
   "metadata": {},
   "source": [
    "<h3>Q92. Write the Python program to find the maximum and the minimum\n",
    "value of a given flattened array?\n",
    "</h3>"
   ]
  },
  {
   "cell_type": "code",
   "execution_count": 47,
   "metadata": {},
   "outputs": [
    {
     "name": "stdout",
     "output_type": "stream",
     "text": [
      "Original flattened array:\n",
      "[[0 1]\n",
      " [2 3]]\n",
      "Maximum value of the above flattened array:\n",
      "3\n",
      "Minimum value of the above flattened array:\n",
      "0\n"
     ]
    }
   ],
   "source": [
    "a = np.arange(4).reshape((2,2))\n",
    "print(\"Original flattened array:\")\n",
    "print(a)\n",
    "print(\"Maximum value of the above flattened array:\")\n",
    "print(np.amax(a))\n",
    "print(\"Minimum value of the above flattened array:\")\n",
    "print(np.amin(a))"
   ]
  },
  {
   "cell_type": "markdown",
   "metadata": {},
   "source": [
    "<h3>Q93. Write the NumPy program to calculate the difference between in\n",
    "the maximum and the minimum values of a given array along the\n",
    "second axis ?</h3>"
   ]
  },
  {
   "cell_type": "code",
   "execution_count": 1,
   "metadata": {},
   "outputs": [
    {
     "name": "stdout",
     "output_type": "stream",
     "text": [
      "\n",
      "Original array:\n",
      "[[ 0  1  2  3  4  5]\n",
      " [ 6  7  8  9 10 11]]\n",
      "\n",
      "Difference between the maximum and the minimum values of the said array:\n",
      "[5 5]\n",
      "[5 5]\n"
     ]
    }
   ],
   "source": [
    "import numpy as np\n",
    "\n",
    "x = np.arange(12).reshape((2, 6))\n",
    "print(\"\\nOriginal array:\")\n",
    "print(x)\n",
    "r1 = np.ptp(x, 1)\n",
    "r2 = np.amax(x, 1) - np.amin(x, 1)\n",
    "assert np.allclose(r1, r2)\n",
    "print(\"\\nDifference between the maximum and the minimum values of the said array:\")\n",
    "print(r1)\n",
    "print(r2)"
   ]
  },
  {
   "cell_type": "markdown",
   "metadata": {},
   "source": [
    "<h3>Q94. Write the NumPy program to compute the weighted of the given\n",
    "array ?</h3>"
   ]
  },
  {
   "cell_type": "code",
   "execution_count": 49,
   "metadata": {},
   "outputs": [
    {
     "name": "stdout",
     "output_type": "stream",
     "text": [
      "\n",
      "Original array:\n",
      "[0 1 2 3 4]\n",
      "\n",
      "Weighted average of the said array:\n",
      "2.6666666666666665\n"
     ]
    }
   ],
   "source": [
    "x = np.arange(5)\n",
    "print(\"\\nOriginal array:\")\n",
    "print(x)\n",
    "weights = np.arange(1, 6)\n",
    "r1 = np.average(x, weights=weights)\n",
    "r2 = (x*(weights/weights.sum())).sum()\n",
    "assert np.allclose(r1, r2)\n",
    "print(\"\\nWeighted average of the said array:\")\n",
    "print(r1)\n"
   ]
  },
  {
   "cell_type": "markdown",
   "metadata": {},
   "source": [
    "<h3>Q95. Write the NumPy program to compute the mean, standard\n",
    "deviation, and the variance of a given array along the second\n",
    "axis?</h3>"
   ]
  },
  {
   "cell_type": "code",
   "execution_count": 50,
   "metadata": {},
   "outputs": [
    {
     "name": "stdout",
     "output_type": "stream",
     "text": [
      "\n",
      "Original array:\n",
      "[0 1 2 3 4 5]\n",
      "\n",
      "Mean:  2.5\n",
      "\n",
      "std:  1\n",
      "\n",
      "variance:  2.9166666666666665\n"
     ]
    }
   ],
   "source": [
    "x = np.arange(6)\n",
    "print(\"\\nOriginal array:\")\n",
    "print(x)\n",
    "r1 = np.mean(x)\n",
    "r2 = np.average(x)\n",
    "assert np.allclose(r1, r2)\n",
    "print(\"\\nMean: \", r1)\n",
    "r1 = np.std(x)\n",
    "r2 = np.sqrt(np.mean((x - np.mean(x)) ** 2 ))\n",
    "assert np.allclose(r1, r2)\n",
    "print(\"\\nstd: \", 1)\n",
    "r1= np.var(x)\n",
    "r2 = np.mean((x - np.mean(x)) ** 2 )\n",
    "assert np.allclose(r1, r2)\n",
    "print(\"\\nvariance: \", r1)"
   ]
  },
  {
   "cell_type": "markdown",
   "metadata": {},
   "source": [
    "<h3>Q96. Write the Numpy program to compute the covariance matrix of the\n",
    "two given arrays?\n",
    "</h3>"
   ]
  },
  {
   "cell_type": "code",
   "execution_count": 2,
   "metadata": {},
   "outputs": [
    {
     "name": "stdout",
     "output_type": "stream",
     "text": [
      "\n",
      "Original array1:\n",
      "[0 1 2]\n",
      "\n",
      "Original array2:\n",
      "[2 1 0]\n",
      "\n",
      "Covariance matrix of the said arrays:\n",
      " [[ 1. -1.]\n",
      " [-1.  1.]]\n"
     ]
    }
   ],
   "source": [
    "import numpy as np\n",
    "\n",
    "x = np.array([0, 1, 2])\n",
    "y = np.array([2, 1, 0])\n",
    "print(\"\\nOriginal array1:\")\n",
    "print(x)\n",
    "print(\"\\nOriginal array2:\")\n",
    "print(y)\n",
    "print(\"\\nCovariance matrix of the said arrays:\\n\",np.cov(x, y))"
   ]
  },
  {
   "cell_type": "markdown",
   "metadata": {},
   "source": [
    "<h3>Q97. Write a NumPy program to compute the cross-correlation of two\n",
    "given arrays ?</h3>"
   ]
  },
  {
   "cell_type": "code",
   "execution_count": 4,
   "metadata": {},
   "outputs": [
    {
     "name": "stdout",
     "output_type": "stream",
     "text": [
      "\n",
      "Original array1:\n",
      "[0 1 3]\n",
      "\n",
      "Original array1:\n",
      "[2 4 5]\n",
      "\n",
      "Cross-correlation of the said arrays:\n",
      " [19]\n"
     ]
    }
   ],
   "source": [
    "import numpy as np\n",
    "x = np.array([0, 1, 3])\n",
    "y = np.array([2, 4, 5])\n",
    "print(\"\\nOriginal array1:\")\n",
    "print(x)\n",
    "print(\"\\nOriginal array1:\")\n",
    "print(y)\n",
    "print(\"\\nCross-correlation of the said arrays:\\n\",np.correlate(x, y))"
   ]
  },
  {
   "cell_type": "markdown",
   "metadata": {},
   "source": [
    "<h3>Q98. Write the NumPy program to compute Pearson product-moment\n",
    "correlation coefficients of two given arrays?</h3>"
   ]
  },
  {
   "cell_type": "code",
   "execution_count": 5,
   "metadata": {},
   "outputs": [
    {
     "name": "stdout",
     "output_type": "stream",
     "text": [
      "\n",
      "Original array1:\n",
      "[0 1 3]\n",
      "\n",
      "Original array1:\n",
      "[2 4 5]\n",
      "\n",
      "Pearson product-moment correlation coefficients of the said arrays:\n",
      " [[1.         0.92857143]\n",
      " [0.92857143 1.        ]]\n"
     ]
    }
   ],
   "source": [
    "import numpy as np\n",
    "x = np.array([0, 1, 3])\n",
    "y = np.array([2, 4, 5])\n",
    "print(\"\\nOriginal array1:\")\n",
    "print(x)\n",
    "print(\"\\nOriginal array1:\")\n",
    "print(y)\n",
    "print(\"\\nPearson product-moment correlation coefficients of the said arrays:\\n\",np.corrcoef(x, y))"
   ]
  },
  {
   "cell_type": "markdown",
   "metadata": {},
   "source": [
    "<h3>Q99. Write the python program to count the number of occurrences of\n",
    "each value in a given array of non-negative integers?\n",
    "</h3>"
   ]
  },
  {
   "cell_type": "code",
   "execution_count": 2,
   "metadata": {},
   "outputs": [
    {
     "name": "stdout",
     "output_type": "stream",
     "text": [
      "Original array:\n",
      "[0, 1, 6, 1, 4, 1, 2, 2, 7]\n",
      "Number of occurrences of each value in array: \n",
      "[1 3 2 0 1 0 1 1]\n"
     ]
    }
   ],
   "source": [
    "import numpy as np\n",
    "array1 = [0, 1, 6, 1, 4, 1, 2, 2, 7] \n",
    "print(\"Original array:\")\n",
    "print(array1)\n",
    "print(\"Number of occurrences of each value in array: \")\n",
    "print(np.bincount(array1))"
   ]
  },
  {
   "cell_type": "markdown",
   "metadata": {},
   "source": [
    "<h3>Q100. Write a Numpy program to compute the histogram of nums\n",
    "against the bins?</h3>"
   ]
  },
  {
   "cell_type": "code",
   "execution_count": 52,
   "metadata": {},
   "outputs": [
    {
     "name": "stdout",
     "output_type": "stream",
     "text": [
      "nums:  [0.5 0.7 1.  1.2 1.3 2.1]\n",
      "bins:  [0 1 2 3]\n",
      "Result: (array([2, 3, 1], dtype=int64), array([0, 1, 2, 3]))\n"
     ]
    },
    {
     "data": {
      "image/png": "[encoded data removed]",
      "text/plain": [
       "<Figure size 432x288 with 1 Axes>"
      ]
     },
     "metadata": {
      "needs_background": "light"
     },
     "output_type": "display_data"
    }
   ],
   "source": [
    "import numpy as np\n",
    "import matplotlib.pyplot as plt\n",
    "nums = np.array([0.5, 0.7, 1.0, 1.2, 1.3, 2.1])\n",
    "bins = np.array([0, 1, 2, 3])\n",
    "print(\"nums: \",nums)\n",
    "print(\"bins: \",bins)\n",
    "print(\"Result:\", np.histogram(nums, bins))\n",
    "plt.hist(nums, bins=bins)\n",
    "plt.show()"
   ]
  },
  {
   "cell_type": "markdown",
   "metadata": {},
   "source": [
    "<h3>Q101. Write the Python program to add, subtract, multiply and divide\n",
    "two pandas series? </h3>"
   ]
  },
  {
   "cell_type": "code",
   "execution_count": 10,
   "metadata": {},
   "outputs": [
    {
     "name": "stdout",
     "output_type": "stream",
     "text": [
      "First series is:\n",
      "  0    0\n",
      "1    1\n",
      "2    2\n",
      "3    3\n",
      "4    4\n",
      "dtype: int32\n",
      "Second series is:\n",
      "  0    10\n",
      "1    11\n",
      "2    12\n",
      "3    13\n",
      "4    14\n",
      "dtype: int32\n",
      "==================================================\n",
      "Addition of two series:\n",
      " 0    10\n",
      "1    12\n",
      "2    14\n",
      "3    16\n",
      "4    18\n",
      "dtype: int32\n",
      "==================================================\n",
      "Substraction of two series:\n",
      " 0   -10\n",
      "1   -10\n",
      "2   -10\n",
      "3   -10\n",
      "4   -10\n",
      "dtype: int32\n",
      "==================================================\n",
      "Multiplication of two series:\n",
      " 0     0\n",
      "1    11\n",
      "2    24\n",
      "3    39\n",
      "4    56\n",
      "dtype: int32\n",
      "==================================================\n",
      "Division of two series:\n",
      " 0    0.000000\n",
      "1    0.090909\n",
      "2    0.166667\n",
      "3    0.230769\n",
      "4    0.285714\n",
      "dtype: float64\n"
     ]
    }
   ],
   "source": [
    "import pandas as pd\n",
    "\n",
    "ser1=pd.Series(np.arange(5))\n",
    "ser2=pd.Series(np.arange(10,15))\n",
    "\n",
    "print(\"First series is:\\n \",ser1)\n",
    "print(\"Second series is:\\n \",ser2)\n",
    "print(\"=\"*50)\n",
    "print(\"Addition of two series:\\n\",ser1+ser2)\n",
    "print(\"=\"*50)\n",
    "print(\"Substraction of two series:\\n\",ser1-ser2)\n",
    "print(\"=\"*50)\n",
    "print(\"Multiplication of two series:\\n\",ser1*ser2)\n",
    "print(\"=\"*50)\n",
    "print(\"Division of two series:\\n\",ser1/ser2)"
   ]
  },
  {
   "cell_type": "markdown",
   "metadata": {},
   "source": [
    "<h3>Q102. Write a Python program to convert a dictionary to the Pandas\n",
    "Series?</h3>"
   ]
  },
  {
   "cell_type": "code",
   "execution_count": 8,
   "metadata": {},
   "outputs": [
    {
     "name": "stdout",
     "output_type": "stream",
     "text": [
      "Converted Series :\n",
      "a    100\n",
      "b    200\n",
      "c    300\n",
      "d    400\n",
      "e    800\n",
      "dtype: int64\n"
     ]
    }
   ],
   "source": [
    "ser3=pd.Series({'a': 100, 'b': 200, 'c': 300, 'd': 400, 'e': 800})\n",
    "\n",
    "print(\"Converted Series :\")\n",
    "print(ser3)"
   ]
  },
  {
   "cell_type": "markdown",
   "metadata": {},
   "source": [
    "<h3>Q103. Write a python program to change the data type of given a\n",
    "column or a Series?</h3>"
   ]
  },
  {
   "cell_type": "code",
   "execution_count": 12,
   "metadata": {},
   "outputs": [
    {
     "name": "stdout",
     "output_type": "stream",
     "text": [
      "Original Data Series:\n",
      "0       100\n",
      "1       200\n",
      "2    python\n",
      "3    300.12\n",
      "4       400\n",
      "dtype: object\n",
      "==================================================\n",
      "After changing data to numeric type:\n",
      "0    100.00\n",
      "1    200.00\n",
      "2       NaN\n",
      "3    300.12\n",
      "4    400.00\n",
      "dtype: float64\n"
     ]
    }
   ],
   "source": [
    "s1 = pd.Series(['100', '200', 'python', '300.12', '400'])\n",
    "print(\"Original Data Series:\")\n",
    "print(s1)\n",
    "print(\"=\"*50)\n",
    "print(\"After changing data to numeric type:\")\n",
    "s2 = pd.to_numeric(s1, errors='coerce')\n",
    "print(s2)"
   ]
  },
  {
   "cell_type": "markdown",
   "metadata": {},
   "source": [
    "<h3>Q104. Write the python pandas program to convert the first column of a\n",
    "DataFrame as a Series?</h3>"
   ]
  },
  {
   "cell_type": "code",
   "execution_count": 28,
   "metadata": {},
   "outputs": [
    {
     "data": {
      "text/html": [
       "<div>\n",
       "<style scoped>\n",
       "    .dataframe tbody tr th:only-of-type {\n",
       "        vertical-align: middle;\n",
       "    }\n",
       "\n",
       "    .dataframe tbody tr th {\n",
       "        vertical-align: top;\n",
       "    }\n",
       "\n",
       "    .dataframe thead th {\n",
       "        text-align: right;\n",
       "    }\n",
       "</style>\n",
       "<table border=\"1\" class=\"dataframe\">\n",
       "  <thead>\n",
       "    <tr style=\"text-align: right;\">\n",
       "      <th></th>\n",
       "      <th>col</th>\n",
       "    </tr>\n",
       "  </thead>\n",
       "  <tbody>\n",
       "    <tr>\n",
       "      <th>0</th>\n",
       "      <td>1</td>\n",
       "    </tr>\n",
       "    <tr>\n",
       "      <th>1</th>\n",
       "      <td>2</td>\n",
       "    </tr>\n",
       "    <tr>\n",
       "      <th>2</th>\n",
       "      <td>3</td>\n",
       "    </tr>\n",
       "    <tr>\n",
       "      <th>3</th>\n",
       "      <td>4</td>\n",
       "    </tr>\n",
       "    <tr>\n",
       "      <th>4</th>\n",
       "      <td>7</td>\n",
       "    </tr>\n",
       "    <tr>\n",
       "      <th>5</th>\n",
       "      <td>11</td>\n",
       "    </tr>\n",
       "  </tbody>\n",
       "</table>\n",
       "</div>"
      ],
      "text/plain": [
       "   col\n",
       "0    1\n",
       "1    2\n",
       "2    3\n",
       "3    4\n",
       "4    7\n",
       "5   11"
      ]
     },
     "execution_count": 28,
     "metadata": {},
     "output_type": "execute_result"
    }
   ],
   "source": [
    "df1=pd.DataFrame({'col':[1,2,3,4,7,11],'col2':[4,5,6,9,5,0],'col3':[7,5,8,12,0,11]})\n",
    "\n",
    "df1.iloc[:,:1]\n"
   ]
  },
  {
   "cell_type": "markdown",
   "metadata": {},
   "source": [
    "<h3>Q105. Write a pandas program to create the mean and standard\n",
    "deviation of the data of a given Series?</h3>"
   ]
  },
  {
   "cell_type": "code",
   "execution_count": 36,
   "metadata": {},
   "outputs": [
    {
     "name": "stdout",
     "output_type": "stream",
     "text": [
      "Original Data Series:\n",
      "0     5\n",
      "1     5\n",
      "2     4\n",
      "3     8\n",
      "4     9\n",
      "5     6\n",
      "6     5\n",
      "7     5\n",
      "8     6\n",
      "9     3\n",
      "10    7\n",
      "11    8\n",
      "12    9\n",
      "13    5\n",
      "14    9\n",
      "dtype: int32\n",
      "Mean of the said Data Series:\n",
      "6.266666666666667\n",
      "Standard deviation of the said Data Series:\n",
      "1.9444671200491874\n"
     ]
    }
   ],
   "source": [
    "s = pd.Series(np.random.randint(3,10,15))\n",
    "print(\"Original Data Series:\")\n",
    "print(s)\n",
    "print(\"Mean of the said Data Series:\")\n",
    "print(s.mean())\n",
    "print(\"Standard deviation of the said Data Series:\")\n",
    "print(s.std())"
   ]
  },
  {
   "cell_type": "markdown",
   "metadata": {},
   "source": [
    "<h3>Q106. Write a pandas program to get powers of an array values\n",
    "element-wise?</h3>"
   ]
  },
  {
   "cell_type": "code",
   "execution_count": 39,
   "metadata": {},
   "outputs": [
    {
     "name": "stdout",
     "output_type": "stream",
     "text": [
      "Original array\n",
      "[0 1 2 3 4 5 6]\n",
      "First array elements raised to powers from second array, element-wise:\n",
      "[  0   1   8  27  64 125 216]\n"
     ]
    }
   ],
   "source": [
    "x = np.arange(7)\n",
    "print(\"Original array\")\n",
    "print(x)\n",
    "print(\"First array elements raised to powers from second array, element-wise:\")\n",
    "print(np.power(x, 3))\n",
    "\n"
   ]
  },
  {
   "cell_type": "markdown",
   "metadata": {},
   "source": [
    "<h3>Q107. Write the pandas program to get the first 3 rows of a given\n",
    "DataFrame?</h3>"
   ]
  },
  {
   "cell_type": "code",
   "execution_count": 43,
   "metadata": {},
   "outputs": [
    {
     "name": "stdout",
     "output_type": "stream",
     "text": [
      "   col  col2  col3\n",
      "0    1     4     7\n",
      "1    2     5     5\n",
      "2    3     6     8\n",
      "3    4     9    12\n",
      "4    7     5     0\n",
      "5   11     0    11 \n",
      " ==================================================\n"
     ]
    }
   ],
   "source": [
    "df1=pd.DataFrame({'col':[1,2,3,4,7,11],'col2':[4,5,6,9,5,0],'col3':[7,5,8,12,0,11]})\n",
    "\n",
    "print(df1,\"\\n\",\"=\"*50)\n"
   ]
  },
  {
   "cell_type": "markdown",
   "metadata": {},
   "source": [
    "<h3>Q108: Write the pandas program to select the specified columns and\n",
    " the rows from a given data frame?</h3>"
   ]
  },
  {
   "cell_type": "code",
   "execution_count": 44,
   "metadata": {},
   "outputs": [
    {
     "name": "stdout",
     "output_type": "stream",
     "text": [
      "        name  score  attempts qualify\n",
      "a  Anastasia   12.5         1     yes\n",
      "b       Dima    9.0         3      no\n",
      "c  Katherine   16.5         2     yes\n",
      "d      James    NaN         3      no\n",
      "e      Emily    9.0         2      no\n",
      "f    Michael   20.0         3     yes\n",
      "g    Matthew   14.5         1     yes\n",
      "h      Laura    NaN         1      no\n",
      "i      Kevin    8.0         2      no\n",
      "j      Jonas   19.0         1     yes\n",
      "==================================================\n",
      "Select specific columns and rows:\n",
      "   score qualify\n",
      "b    9.0      no\n",
      "d    NaN      no\n",
      "f   20.0     yes\n",
      "g   14.5     yes\n"
     ]
    }
   ],
   "source": [
    "exam_data  = {'name': ['Anastasia', 'Dima', 'Katherine', 'James', 'Emily', 'Michael', 'Matthew', 'Laura', 'Kevin', 'Jonas'],\n",
    "        'score': [12.5, 9, 16.5, np.nan, 9, 20, 14.5, np.nan, 8, 19],\n",
    "        'attempts': [1, 3, 2, 3, 2, 3, 1, 1, 2, 1],\n",
    "        'qualify': ['yes', 'no', 'yes', 'no', 'no', 'yes', 'yes', 'no', 'no', 'yes']}\n",
    "labels = ['a', 'b', 'c', 'd', 'e', 'f', 'g', 'h', 'i', 'j']\n",
    "\n",
    "df = pd.DataFrame(exam_data , index=labels)\n",
    "print(df)\n",
    "print(\"=\"*50)\n",
    "\n",
    "print(\"Select specific columns and rows:\")\n",
    "print(df.iloc[[1, 3, 5, 6], [1, 3]])"
   ]
  },
  {
   "cell_type": "markdown",
   "metadata": {},
   "source": [
    "<h3>Q109. Write the pandas program to calculate mean score for each\n",
    "different student in DataFrame?</h3>"
   ]
  },
  {
   "cell_type": "code",
   "execution_count": 46,
   "metadata": {},
   "outputs": [
    {
     "name": "stdout",
     "output_type": "stream",
     "text": [
      "        name  score  attempts qualify\n",
      "a  Anastasia   12.5         1     yes\n",
      "b       Dima    9.0         3      no\n",
      "c  Katherine   16.5         2     yes\n",
      "d      James    NaN         3      no\n",
      "e      Emily    9.0         2      no\n",
      "f    Michael   20.0         3     yes\n",
      "g    Matthew   14.5         1     yes\n",
      "h      Laura    NaN         1      no\n",
      "i      Kevin    8.0         2      no\n",
      "j      Jonas   19.0         1     yes\n",
      "==================================================\n",
      "\n",
      "Mean score for each different student in data frame:\n",
      "13.5625\n"
     ]
    }
   ],
   "source": [
    "exam_data  = {'name': ['Anastasia', 'Dima', 'Katherine', 'James', 'Emily', 'Michael', 'Matthew', 'Laura', 'Kevin', 'Jonas'],\n",
    "        'score': [12.5, 9, 16.5, np.nan, 9, 20, 14.5, np.nan, 8, 19],\n",
    "        'attempts': [1, 3, 2, 3, 2, 3, 1, 1, 2, 1],\n",
    "        'qualify': ['yes', 'no', 'yes', 'no', 'no', 'yes', 'yes', 'no', 'no', 'yes']}\n",
    "labels = ['a', 'b', 'c', 'd', 'e', 'f', 'g', 'h', 'i', 'j']\n",
    "\n",
    "df = pd.DataFrame(exam_data , index=labels)\n",
    "print(df)\n",
    "print(\"=\"*50)\n",
    "\n",
    "print(\"\\nMean score for each different student in data frame:\")\n",
    "print(df['score'].mean())\n"
   ]
  },
  {
   "cell_type": "markdown",
   "metadata": {},
   "source": [
    "<h3>Q110. Write the Pandas program to rename columns of a given\n",
    "DataFrame ?</h3>"
   ]
  },
  {
   "cell_type": "code",
   "execution_count": 47,
   "metadata": {},
   "outputs": [
    {
     "name": "stdout",
     "output_type": "stream",
     "text": [
      "Original DataFrame\n",
      "   col1  col2  col3\n",
      "0     1     4     7\n",
      "1     2     5     8\n",
      "2     3     6     9\n",
      "New DataFrame after renaming columns:\n",
      "   Column1  Column2  Column3\n",
      "0        1        4        7\n",
      "1        2        5        8\n",
      "2        3        6        9\n"
     ]
    }
   ],
   "source": [
    "d = {'col1': [1, 2, 3], 'col2': [4, 5, 6], 'col3': [7, 8, 9]}\n",
    "df = pd.DataFrame(data=d)\n",
    "print(\"Original DataFrame\")\n",
    "print(df)\n",
    "df.columns = ['Column1', 'Column2', 'Column3']\n",
    "df = df.rename(columns={'col1': 'Column1', 'col2': 'Column2', 'col3': 'Column3'})\n",
    "print(\"New DataFrame after renaming columns:\")\n",
    "print(df)"
   ]
  },
  {
   "cell_type": "markdown",
   "metadata": {},
   "source": [
    "<h3>Q111. Write a pandas program to count city-wise number of people from\n",
    "a given of data set (city, name of the person)?</h3>"
   ]
  },
  {
   "cell_type": "code",
   "execution_count": 52,
   "metadata": {},
   "outputs": [
    {
     "name": "stdout",
     "output_type": "stream",
     "text": [
      "          city  Number of people\n",
      "0   California                 4\n",
      "1      Georgia                 2\n",
      "2  Los Angeles                 4\n"
     ]
    }
   ],
   "source": [
    "df1 = pd.DataFrame({'name': ['Anastasia', 'Dima', 'Katherine', 'James', 'Emily', 'Michael', 'Matthew', 'Laura', 'Kevin', 'Jonas'],\n",
    "'city': ['California', 'Los Angeles', 'California', 'California', 'California', 'Los Angeles', 'Los Angeles', 'Georgia', 'Georgia', 'Los Angeles']})\n",
    "\n",
    "\n",
    "g1 = df1.groupby([\"city\"]).size().reset_index(name='Number of people')\n",
    "\n",
    "print(g1)"
   ]
  },
  {
   "cell_type": "markdown",
   "metadata": {},
   "source": [
    "<h3>Q112. Write a pandas program to widen output display to see more\n",
    "columns?</h3>"
   ]
  },
  {
   "cell_type": "code",
   "execution_count": 58,
   "metadata": {},
   "outputs": [
    {
     "name": "stdout",
     "output_type": "stream",
     "text": [
      "Original DataFrame\n",
      "   col1  col2  col3\n",
      "0     1     4     7\n",
      "1     4     5     8\n",
      "2     3     6     9\n",
      "3     4     7     0\n",
      "4     5     8     1\n"
     ]
    }
   ],
   "source": [
    "d = {'col1': [1, 4, 3, 4, 5], 'col2': [4, 5, 6, 7, 8], 'col3': [7, 8, 9, 0, 1]}\n",
    "df = pd.DataFrame(data=d)\n",
    "pd.set_option('display.max_rows', 500)\n",
    "pd.set_option('display.max_columns', 500)\n",
    "pd.set_option('display.width', 1000)\n",
    "print(\"Original DataFrame\")\n",
    "print(df)"
   ]
  },
  {
   "cell_type": "markdown",
   "metadata": {},
   "source": [
    "<h3>Q113. Write a pandas program to convert the data frame column type\n",
    "from string to DateTime?</h3>"
   ]
  },
  {
   "cell_type": "code",
   "execution_count": 60,
   "metadata": {},
   "outputs": [
    {
     "name": "stdout",
     "output_type": "stream",
     "text": [
      "String Date:\n",
      "           a  b\n",
      "0  3/11/2000  1\n",
      "1  3/12/2000  2\n",
      "2  3/13/2000  3\n",
      "Original DataFrame (string to datetime):\n",
      "           a\n",
      "0 2000-03-11\n",
      "1 2000-03-12\n",
      "2 2000-03-13\n"
     ]
    }
   ],
   "source": [
    "s = pd.DataFrame({'a':['3/11/2000', '3/12/2000', '3/13/2000'],'b':[1,2,3]})\n",
    "print(\"String Date:\")\n",
    "print(s)\n",
    "r = pd.to_datetime(s['a'])\n",
    "df = pd.DataFrame(r)\n",
    "print(\"Original DataFrame (string to datetime):\")\n",
    "print(df)"
   ]
  },
  {
   "cell_type": "markdown",
   "metadata": {},
   "source": [
    "<h3>Q114. Write a pandas program to append the data to an empty\n",
    "DataFrame?</h3>"
   ]
  },
  {
   "cell_type": "code",
   "execution_count": 61,
   "metadata": {},
   "outputs": [
    {
     "name": "stdout",
     "output_type": "stream",
     "text": [
      "After appending some data:\n",
      "   col1  col2\n",
      "0     0     0\n",
      "1     1     1\n",
      "2     2     2\n"
     ]
    }
   ],
   "source": [
    "df = pd.DataFrame()\n",
    "data = pd.DataFrame({\"col1\": range(3),\"col2\": range(3)})\n",
    "print(\"After appending some data:\")\n",
    "df = df.append(data)\n",
    "print(df)"
   ]
  },
  {
   "cell_type": "markdown",
   "metadata": {},
   "source": [
    "<h3>Q115. Write a pandas program to count the number of columns of a\n",
    "DataFrame?</h3>\n"
   ]
  },
  {
   "cell_type": "code",
   "execution_count": 63,
   "metadata": {},
   "outputs": [
    {
     "name": "stdout",
     "output_type": "stream",
     "text": [
      "Original DataFrame\n",
      "   col1  col2  col3\n",
      "0     1     4     7\n",
      "1     2     5     8\n",
      "2     3     6    12\n",
      "3     4     9     1\n",
      "4     7     5    11\n",
      "\n",
      "Number of columns:\n",
      "3\n"
     ]
    }
   ],
   "source": [
    "d = {'col1': [1, 2, 3, 4, 7], 'col2': [4, 5, 6, 9, 5], 'col3': [7, 8, 12, 1, 11]}\n",
    "df = pd.DataFrame(data=d)\n",
    "print(\"Original DataFrame\")\n",
    "print(df)\n",
    "print(\"\\nNumber of columns:\")\n",
    "print(len(df.columns))\n"
   ]
  },
  {
   "cell_type": "markdown",
   "metadata": {},
   "source": [
    "<h3>Q116. Write a Pandas program to remove the last n rows of a given\n",
    "DataFrame ?</h3>"
   ]
  },
  {
   "cell_type": "code",
   "execution_count": 64,
   "metadata": {},
   "outputs": [
    {
     "name": "stdout",
     "output_type": "stream",
     "text": [
      "Original DataFrame\n",
      "   col1  col2  col3\n",
      "0     1     4     7\n",
      "1     2     5     5\n",
      "2     3     6     8\n",
      "3     4     9    12\n",
      "4     7     5     1\n",
      "5    11     0    11\n",
      "\n",
      "After removing last 3 rows of the said DataFrame:\n",
      "   col1  col2  col3\n",
      "0     1     4     7\n",
      "1     2     5     5\n",
      "2     3     6     8\n"
     ]
    }
   ],
   "source": [
    "d = {'col1': [1, 2, 3, 4, 7, 11], 'col2': [4, 5, 6, 9, 5, 0], 'col3': [7, 5, 8, 12, 1,11]}\n",
    "df = pd.DataFrame(data=d)\n",
    "print(\"Original DataFrame\")\n",
    "print(df)\n",
    "print(\"\\nAfter removing last 3 rows of the said DataFrame:\")\n",
    "df1 = df.iloc[:3]\n",
    "print(df1)"
   ]
  },
  {
   "cell_type": "code",
   "execution_count": 68,
   "metadata": {},
   "outputs": [
    {
     "name": "stdout",
     "output_type": "stream",
     "text": [
      "Original DataFrame\n",
      "   col1  col2  col3\n",
      "0     1     4     7\n",
      "1     2     5     5\n",
      "2     3     6     8\n",
      "3     4     9    12\n",
      "4     7     5     1\n",
      "5    11     0    11\n"
     ]
    },
    {
     "data": {
      "text/html": [
       "<div>\n",
       "<style scoped>\n",
       "    .dataframe tbody tr th:only-of-type {\n",
       "        vertical-align: middle;\n",
       "    }\n",
       "\n",
       "    .dataframe tbody tr th {\n",
       "        vertical-align: top;\n",
       "    }\n",
       "\n",
       "    .dataframe thead th {\n",
       "        text-align: right;\n",
       "    }\n",
       "</style>\n",
       "<table border=\"1\" class=\"dataframe\">\n",
       "  <thead>\n",
       "    <tr style=\"text-align: right;\">\n",
       "      <th></th>\n",
       "      <th>col1</th>\n",
       "      <th>col2</th>\n",
       "      <th>col3</th>\n",
       "    </tr>\n",
       "  </thead>\n",
       "  <tbody>\n",
       "    <tr>\n",
       "      <th>0</th>\n",
       "      <td>1</td>\n",
       "      <td>4</td>\n",
       "      <td>7</td>\n",
       "    </tr>\n",
       "    <tr>\n",
       "      <th>1</th>\n",
       "      <td>2</td>\n",
       "      <td>5</td>\n",
       "      <td>5</td>\n",
       "    </tr>\n",
       "    <tr>\n",
       "      <th>2</th>\n",
       "      <td>3</td>\n",
       "      <td>6</td>\n",
       "      <td>8</td>\n",
       "    </tr>\n",
       "    <tr>\n",
       "      <th>3</th>\n",
       "      <td>4</td>\n",
       "      <td>9</td>\n",
       "      <td>12</td>\n",
       "    </tr>\n",
       "  </tbody>\n",
       "</table>\n",
       "</div>"
      ],
      "text/plain": [
       "   col1  col2  col3\n",
       "0     1     4     7\n",
       "1     2     5     5\n",
       "2     3     6     8\n",
       "3     4     9    12"
      ]
     },
     "execution_count": 68,
     "metadata": {},
     "output_type": "execute_result"
    }
   ],
   "source": [
    "d = {'col1': [1, 2, 3, 4, 7, 11], 'col2': [4, 5, 6, 9, 5, 0], 'col3': [7, 5, 8, 12, 1,11]}\n",
    "df = pd.DataFrame(data=d)\n",
    "print(\"Original DataFrame\")\n",
    "print(df)\n",
    "\n",
    "df.drop(df.tail(2).index,inplace=True)\n",
    "df"
   ]
  },
  {
   "cell_type": "markdown",
   "metadata": {},
   "source": [
    "<h3>Q117. Write a Pandas program to import excel data (coalpublic2013.xlsx\n",
    ") into a Pandas data frame.</h3>"
   ]
  },
  {
   "cell_type": "code",
   "execution_count": 72,
   "metadata": {},
   "outputs": [
    {
     "data": {
      "text/html": [
       "<div>\n",
       "<style scoped>\n",
       "    .dataframe tbody tr th:only-of-type {\n",
       "        vertical-align: middle;\n",
       "    }\n",
       "\n",
       "    .dataframe tbody tr th {\n",
       "        vertical-align: top;\n",
       "    }\n",
       "\n",
       "    .dataframe thead th {\n",
       "        text-align: right;\n",
       "    }\n",
       "</style>\n",
       "<table border=\"1\" class=\"dataframe\">\n",
       "  <thead>\n",
       "    <tr style=\"text-align: right;\">\n",
       "      <th></th>\n",
       "      <th>Year</th>\n",
       "      <th>MSHA ID</th>\n",
       "      <th>Mine Name</th>\n",
       "      <th>Mine State</th>\n",
       "      <th>Mine County</th>\n",
       "      <th>Mine Status</th>\n",
       "      <th>Mine Type</th>\n",
       "      <th>Company Type</th>\n",
       "      <th>Operation Type</th>\n",
       "      <th>Operating Company</th>\n",
       "      <th>Operating Company Address</th>\n",
       "      <th>Union Code</th>\n",
       "      <th>Coal Supply Region</th>\n",
       "      <th>Production (short tons)</th>\n",
       "      <th>Average Employees</th>\n",
       "      <th>Labor Hours</th>\n",
       "    </tr>\n",
       "  </thead>\n",
       "  <tbody>\n",
       "    <tr>\n",
       "      <th>0</th>\n",
       "      <td>2013</td>\n",
       "      <td>103381</td>\n",
       "      <td>Tacoa Highwall Miner</td>\n",
       "      <td>Alabama</td>\n",
       "      <td>Bibb</td>\n",
       "      <td>Active, men working, not producing</td>\n",
       "      <td>Surface</td>\n",
       "      <td>Indepedent Producer Operator</td>\n",
       "      <td>Mine only</td>\n",
       "      <td>Jesse Creek Mining, Llc</td>\n",
       "      <td>1615 Kent Dairy Rd, Alabaster, AL 35007</td>\n",
       "      <td></td>\n",
       "      <td>Appalachia Southern</td>\n",
       "      <td>56004</td>\n",
       "      <td>10</td>\n",
       "      <td>22392</td>\n",
       "    </tr>\n",
       "    <tr>\n",
       "      <th>1</th>\n",
       "      <td>2013</td>\n",
       "      <td>103404</td>\n",
       "      <td>Reid School Mine</td>\n",
       "      <td>Alabama</td>\n",
       "      <td>Blount</td>\n",
       "      <td>Permanently abandoned</td>\n",
       "      <td>Surface</td>\n",
       "      <td>Indepedent Producer Operator</td>\n",
       "      <td>Mine only</td>\n",
       "      <td>Taft Coal Sales &amp; Associates,</td>\n",
       "      <td>3000 Riverchase Galleria Ste 1, Birmingham, AL...</td>\n",
       "      <td>UNIT</td>\n",
       "      <td>Appalachia Southern</td>\n",
       "      <td>28807</td>\n",
       "      <td>18</td>\n",
       "      <td>28447</td>\n",
       "    </tr>\n",
       "    <tr>\n",
       "      <th>2</th>\n",
       "      <td>2013</td>\n",
       "      <td>100759</td>\n",
       "      <td>North River #1 Underground Min</td>\n",
       "      <td>Alabama</td>\n",
       "      <td>Fayette</td>\n",
       "      <td>Active, men working, not producing</td>\n",
       "      <td>Underground</td>\n",
       "      <td>Indepedent Producer Operator</td>\n",
       "      <td>Mine and Preparation Plant</td>\n",
       "      <td>Jim Walter Resources Inc</td>\n",
       "      <td>3114 County Rd 63 S, Berry, AL 35546</td>\n",
       "      <td>UNIT</td>\n",
       "      <td>Appalachia Southern</td>\n",
       "      <td>1440115</td>\n",
       "      <td>183</td>\n",
       "      <td>474784</td>\n",
       "    </tr>\n",
       "    <tr>\n",
       "      <th>3</th>\n",
       "      <td>2013</td>\n",
       "      <td>103246</td>\n",
       "      <td>Bear Creek</td>\n",
       "      <td>Alabama</td>\n",
       "      <td>Franklin</td>\n",
       "      <td>Active</td>\n",
       "      <td>Surface</td>\n",
       "      <td>Indepedent Producer Operator</td>\n",
       "      <td>Mine only</td>\n",
       "      <td>Birmingham Coal &amp; Coke Co., In</td>\n",
       "      <td>912 Edenton Street, Birmingham, AL 35242</td>\n",
       "      <td></td>\n",
       "      <td>Appalachia Southern</td>\n",
       "      <td>87587</td>\n",
       "      <td>13</td>\n",
       "      <td>29193</td>\n",
       "    </tr>\n",
       "    <tr>\n",
       "      <th>4</th>\n",
       "      <td>2013</td>\n",
       "      <td>103451</td>\n",
       "      <td>Knight Mine</td>\n",
       "      <td>Alabama</td>\n",
       "      <td>Franklin</td>\n",
       "      <td>Active</td>\n",
       "      <td>Surface</td>\n",
       "      <td>Indepedent Producer Operator</td>\n",
       "      <td>Mine only</td>\n",
       "      <td>Birmingham Coal &amp; Coke Co., In</td>\n",
       "      <td>P.O. Box 354, Lynn, AL 35242</td>\n",
       "      <td></td>\n",
       "      <td>Appalachia Southern</td>\n",
       "      <td>147499</td>\n",
       "      <td>27</td>\n",
       "      <td>46393</td>\n",
       "    </tr>\n",
       "  </tbody>\n",
       "</table>\n",
       "</div>"
      ],
      "text/plain": [
       "   Year  MSHA ID                       Mine Name Mine State Mine County                         Mine Status    Mine Type                  Company Type              Operation Type               Operating Company                          Operating Company Address Union Code   Coal Supply Region  Production (short tons)  Average Employees  Labor Hours\n",
       "0  2013   103381            Tacoa Highwall Miner    Alabama        Bibb  Active, men working, not producing      Surface  Indepedent Producer Operator                   Mine only         Jesse Creek Mining, Llc            1615 Kent Dairy Rd, Alabaster, AL 35007             Appalachia Southern                    56004                 10        22392\n",
       "1  2013   103404                Reid School Mine    Alabama      Blount               Permanently abandoned      Surface  Indepedent Producer Operator                   Mine only   Taft Coal Sales & Associates,  3000 Riverchase Galleria Ste 1, Birmingham, AL...       UNIT  Appalachia Southern                    28807                 18        28447\n",
       "2  2013   100759  North River #1 Underground Min    Alabama     Fayette  Active, men working, not producing  Underground  Indepedent Producer Operator  Mine and Preparation Plant        Jim Walter Resources Inc               3114 County Rd 63 S, Berry, AL 35546       UNIT  Appalachia Southern                  1440115                183       474784\n",
       "3  2013   103246                      Bear Creek    Alabama    Franklin                              Active      Surface  Indepedent Producer Operator                   Mine only  Birmingham Coal & Coke Co., In           912 Edenton Street, Birmingham, AL 35242             Appalachia Southern                    87587                 13        29193\n",
       "4  2013   103451                     Knight Mine    Alabama    Franklin                              Active      Surface  Indepedent Producer Operator                   Mine only  Birmingham Coal & Coke Co., In                       P.O. Box 354, Lynn, AL 35242             Appalachia Southern                   147499                 27        46393"
      ]
     },
     "execution_count": 72,
     "metadata": {},
     "output_type": "execute_result"
    }
   ],
   "source": [
    "df = pd.read_excel('coalpublic2013.xlsx')\n",
    "df.head()"
   ]
  },
  {
   "cell_type": "markdown",
   "metadata": {},
   "source": [
    "<h3>Q118. Write a Pandas program to import excel data (coalpublic2013.xlsx\n",
    ") into a data frame and find details where \"Mine Name\" starts with\n",
    "\"P. </h3>\n"
   ]
  },
  {
   "cell_type": "code",
   "execution_count": 76,
   "metadata": {},
   "outputs": [
    {
     "data": {
      "text/html": [
       "<div>\n",
       "<style scoped>\n",
       "    .dataframe tbody tr th:only-of-type {\n",
       "        vertical-align: middle;\n",
       "    }\n",
       "\n",
       "    .dataframe tbody tr th {\n",
       "        vertical-align: top;\n",
       "    }\n",
       "\n",
       "    .dataframe thead th {\n",
       "        text-align: right;\n",
       "    }\n",
       "</style>\n",
       "<table border=\"1\" class=\"dataframe\">\n",
       "  <thead>\n",
       "    <tr style=\"text-align: right;\">\n",
       "      <th></th>\n",
       "      <th>Year</th>\n",
       "      <th>MSHA ID</th>\n",
       "      <th>Mine Name</th>\n",
       "      <th>Mine State</th>\n",
       "      <th>Mine County</th>\n",
       "      <th>Mine Status</th>\n",
       "      <th>Mine Type</th>\n",
       "      <th>Company Type</th>\n",
       "      <th>Operation Type</th>\n",
       "      <th>Operating Company</th>\n",
       "      <th>Operating Company Address</th>\n",
       "      <th>Union Code</th>\n",
       "      <th>Coal Supply Region</th>\n",
       "      <th>Production (short tons)</th>\n",
       "      <th>Average Employees</th>\n",
       "      <th>Labor Hours</th>\n",
       "    </tr>\n",
       "  </thead>\n",
       "  <tbody>\n",
       "    <tr>\n",
       "      <th>13</th>\n",
       "      <td>2013</td>\n",
       "      <td>103332</td>\n",
       "      <td>Powhatan Mine</td>\n",
       "      <td>Alabama</td>\n",
       "      <td>Jefferson</td>\n",
       "      <td>Active</td>\n",
       "      <td>Surface</td>\n",
       "      <td>Indepedent Producer Operator</td>\n",
       "      <td>Mine only</td>\n",
       "      <td>Rac Mining Llc</td>\n",
       "      <td>P.O. Box 354, Lynn, AL 35575</td>\n",
       "      <td></td>\n",
       "      <td>Appalachia Southern</td>\n",
       "      <td>140521</td>\n",
       "      <td>27</td>\n",
       "      <td>61394</td>\n",
       "    </tr>\n",
       "    <tr>\n",
       "      <th>18</th>\n",
       "      <td>2013</td>\n",
       "      <td>102976</td>\n",
       "      <td>Piney Woods Preparation Plant</td>\n",
       "      <td>Alabama</td>\n",
       "      <td>Shelby</td>\n",
       "      <td>Active</td>\n",
       "      <td>Surface</td>\n",
       "      <td>Indepedent Producer Operator</td>\n",
       "      <td>Preparation Plant</td>\n",
       "      <td>Jesse Creek Mining, Llc</td>\n",
       "      <td>1615 Kent Dairy Rd, Alabaster, AL 35007</td>\n",
       "      <td></td>\n",
       "      <td>Appalachia Southern</td>\n",
       "      <td>0</td>\n",
       "      <td>5</td>\n",
       "      <td>14828</td>\n",
       "    </tr>\n",
       "    <tr>\n",
       "      <th>19</th>\n",
       "      <td>2013</td>\n",
       "      <td>102976</td>\n",
       "      <td>Piney Woods Preparation Plant</td>\n",
       "      <td>Alabama</td>\n",
       "      <td>Shelby</td>\n",
       "      <td>Active</td>\n",
       "      <td>Underground</td>\n",
       "      <td>Indepedent Producer Operator</td>\n",
       "      <td>Preparation Plant</td>\n",
       "      <td>Jesse Creek Mining, Llc</td>\n",
       "      <td>1615 Kent Dairy Rd, Alabaster, AL 35007</td>\n",
       "      <td></td>\n",
       "      <td>Appalachia Southern</td>\n",
       "      <td>0</td>\n",
       "      <td>9</td>\n",
       "      <td>23193</td>\n",
       "    </tr>\n",
       "    <tr>\n",
       "      <th>46</th>\n",
       "      <td>2013</td>\n",
       "      <td>103321</td>\n",
       "      <td>Poplar Springs</td>\n",
       "      <td>Alabama</td>\n",
       "      <td>Winston</td>\n",
       "      <td>Active</td>\n",
       "      <td>Surface</td>\n",
       "      <td>Indepedent Producer Operator</td>\n",
       "      <td>Mine only</td>\n",
       "      <td>Reed Minerals, Inc.</td>\n",
       "      <td>P.O. Box 2420, Jasper, AL 35502</td>\n",
       "      <td></td>\n",
       "      <td>Appalachia Southern</td>\n",
       "      <td>189370</td>\n",
       "      <td>41</td>\n",
       "      <td>76366</td>\n",
       "    </tr>\n",
       "    <tr>\n",
       "      <th>50</th>\n",
       "      <td>2013</td>\n",
       "      <td>301569</td>\n",
       "      <td>Penny #1</td>\n",
       "      <td>Arkansas</td>\n",
       "      <td>Sebastian</td>\n",
       "      <td>Temporarily closed</td>\n",
       "      <td>Surface</td>\n",
       "      <td>Indepedent Producer Operator</td>\n",
       "      <td>Mine only</td>\n",
       "      <td>Comer Mining Company</td>\n",
       "      <td>P.O. Box 986, Greenwood, AR 72936</td>\n",
       "      <td></td>\n",
       "      <td>Interior</td>\n",
       "      <td>3973</td>\n",
       "      <td>2</td>\n",
       "      <td>2790</td>\n",
       "    </tr>\n",
       "  </tbody>\n",
       "</table>\n",
       "</div>"
      ],
      "text/plain": [
       "    Year  MSHA ID                      Mine Name Mine State Mine County         Mine Status    Mine Type                  Company Type     Operation Type        Operating Company                Operating Company Address Union Code   Coal Supply Region  Production (short tons)  Average Employees  Labor Hours\n",
       "13  2013   103332                  Powhatan Mine    Alabama   Jefferson              Active      Surface  Indepedent Producer Operator          Mine only           Rac Mining Llc             P.O. Box 354, Lynn, AL 35575             Appalachia Southern                   140521                 27        61394\n",
       "18  2013   102976  Piney Woods Preparation Plant    Alabama      Shelby              Active      Surface  Indepedent Producer Operator  Preparation Plant  Jesse Creek Mining, Llc  1615 Kent Dairy Rd, Alabaster, AL 35007             Appalachia Southern                        0                  5        14828\n",
       "19  2013   102976  Piney Woods Preparation Plant    Alabama      Shelby              Active  Underground  Indepedent Producer Operator  Preparation Plant  Jesse Creek Mining, Llc  1615 Kent Dairy Rd, Alabaster, AL 35007             Appalachia Southern                        0                  9        23193\n",
       "46  2013   103321                 Poplar Springs    Alabama     Winston              Active      Surface  Indepedent Producer Operator          Mine only      Reed Minerals, Inc.          P.O. Box 2420, Jasper, AL 35502             Appalachia Southern                   189370                 41        76366\n",
       "50  2013   301569                       Penny #1   Arkansas   Sebastian  Temporarily closed      Surface  Indepedent Producer Operator          Mine only     Comer Mining Company        P.O. Box 986, Greenwood, AR 72936                        Interior                     3973                  2         2790"
      ]
     },
     "execution_count": 76,
     "metadata": {},
     "output_type": "execute_result"
    }
   ],
   "source": [
    "df = pd.read_excel('coalpublic2013.xlsx')\n",
    "df[df['Mine Name'].apply(lambda x:str(x).startswith('P'))].head()"
   ]
  },
  {
   "cell_type": "markdown",
   "metadata": {},
   "source": [
    "<h3> Q119. Write a Pandas program to import excel data (employee.xlsx )\n",
    "into a Pandas dataframe and find the list of employees where\n",
    "hire_date> 01-01-07</h3>"
   ]
  },
  {
   "cell_type": "code",
   "execution_count": 86,
   "metadata": {},
   "outputs": [
    {
     "name": "stdout",
     "output_type": "stream",
     "text": [
      "   emp_id first_name last_name            hire_date\n",
      "0     100     Steven      King           17-06-2003\n",
      "1     101      Neena   Kochhar           21-09-2005\n",
      "2     102     Lex De      Haan           13-01-2001\n",
      "3     103  Alexander    Hunold  2006-03-01 00:00:00\n",
      "4     104      Bruce     Ernst           21-05-2007\n"
     ]
    },
    {
     "data": {
      "text/html": [
       "<div>\n",
       "<style scoped>\n",
       "    .dataframe tbody tr th:only-of-type {\n",
       "        vertical-align: middle;\n",
       "    }\n",
       "\n",
       "    .dataframe tbody tr th {\n",
       "        vertical-align: top;\n",
       "    }\n",
       "\n",
       "    .dataframe thead th {\n",
       "        text-align: right;\n",
       "    }\n",
       "</style>\n",
       "<table border=\"1\" class=\"dataframe\">\n",
       "  <thead>\n",
       "    <tr style=\"text-align: right;\">\n",
       "      <th></th>\n",
       "      <th>emp_id</th>\n",
       "      <th>first_name</th>\n",
       "      <th>last_name</th>\n",
       "      <th>hire_date</th>\n",
       "    </tr>\n",
       "  </thead>\n",
       "  <tbody>\n",
       "    <tr>\n",
       "      <th>4</th>\n",
       "      <td>104</td>\n",
       "      <td>Bruce</td>\n",
       "      <td>Ernst</td>\n",
       "      <td>2007-05-21</td>\n",
       "    </tr>\n",
       "    <tr>\n",
       "      <th>7</th>\n",
       "      <td>107</td>\n",
       "      <td>Diana</td>\n",
       "      <td>Lorentz</td>\n",
       "      <td>2007-07-02</td>\n",
       "    </tr>\n",
       "    <tr>\n",
       "      <th>13</th>\n",
       "      <td>113</td>\n",
       "      <td>Luis</td>\n",
       "      <td>Popp</td>\n",
       "      <td>2007-07-12</td>\n",
       "    </tr>\n",
       "    <tr>\n",
       "      <th>19</th>\n",
       "      <td>119</td>\n",
       "      <td>Karen</td>\n",
       "      <td>Colmenares</td>\n",
       "      <td>2007-10-08</td>\n",
       "    </tr>\n",
       "  </tbody>\n",
       "</table>\n",
       "</div>"
      ],
      "text/plain": [
       "    emp_id first_name   last_name  hire_date\n",
       "4      104      Bruce       Ernst 2007-05-21\n",
       "7      107      Diana     Lorentz 2007-07-02\n",
       "13     113       Luis        Popp 2007-07-12\n",
       "19     119      Karen  Colmenares 2007-10-08"
      ]
     },
     "execution_count": 86,
     "metadata": {},
     "output_type": "execute_result"
    }
   ],
   "source": [
    "df = pd.read_excel('Employee.xlsx')\n",
    "print(df.head())\n",
    "df['hire_date']=pd.to_datetime(df['hire_date'])\n",
    "df.head()\n",
    "\n",
    "df[df['hire_date']>'20070101']"
   ]
  },
  {
   "cell_type": "markdown",
   "metadata": {},
   "source": [
    "<h3> Q120. Write a Pandas program to import excel data (employee.xlsx )\n",
    "into a Pandas dataframe and find a list of the employees of a specified\n",
    "year</h3>"
   ]
  },
  {
   "cell_type": "code",
   "execution_count": 88,
   "metadata": {},
   "outputs": [
    {
     "data": {
      "text/html": [
       "<div>\n",
       "<style scoped>\n",
       "    .dataframe tbody tr th:only-of-type {\n",
       "        vertical-align: middle;\n",
       "    }\n",
       "\n",
       "    .dataframe tbody tr th {\n",
       "        vertical-align: top;\n",
       "    }\n",
       "\n",
       "    .dataframe thead th {\n",
       "        text-align: right;\n",
       "    }\n",
       "</style>\n",
       "<table border=\"1\" class=\"dataframe\">\n",
       "  <thead>\n",
       "    <tr style=\"text-align: right;\">\n",
       "      <th></th>\n",
       "      <th>emp_id</th>\n",
       "      <th>first_name</th>\n",
       "      <th>last_name</th>\n",
       "    </tr>\n",
       "    <tr>\n",
       "      <th>hire_date</th>\n",
       "      <th></th>\n",
       "      <th></th>\n",
       "      <th></th>\n",
       "    </tr>\n",
       "  </thead>\n",
       "  <tbody>\n",
       "    <tr>\n",
       "      <th>2005-09-21</th>\n",
       "      <td>101</td>\n",
       "      <td>Neena</td>\n",
       "      <td>Kochhar</td>\n",
       "    </tr>\n",
       "    <tr>\n",
       "      <th>2005-06-25</th>\n",
       "      <td>105</td>\n",
       "      <td>David</td>\n",
       "      <td>Austin</td>\n",
       "    </tr>\n",
       "    <tr>\n",
       "      <th>2005-09-28</th>\n",
       "      <td>110</td>\n",
       "      <td>John</td>\n",
       "      <td>Chen</td>\n",
       "    </tr>\n",
       "    <tr>\n",
       "      <th>2005-09-30</th>\n",
       "      <td>111</td>\n",
       "      <td>Ismael</td>\n",
       "      <td>Sciarra</td>\n",
       "    </tr>\n",
       "    <tr>\n",
       "      <th>2005-12-24</th>\n",
       "      <td>116</td>\n",
       "      <td>Shelli</td>\n",
       "      <td>Baida</td>\n",
       "    </tr>\n",
       "    <tr>\n",
       "      <th>2005-07-24</th>\n",
       "      <td>117</td>\n",
       "      <td>Sigal</td>\n",
       "      <td>Tobias</td>\n",
       "    </tr>\n",
       "  </tbody>\n",
       "</table>\n",
       "</div>"
      ],
      "text/plain": [
       "            emp_id first_name last_name\n",
       "hire_date                              \n",
       "2005-09-21     101      Neena   Kochhar\n",
       "2005-06-25     105      David    Austin\n",
       "2005-09-28     110       John      Chen\n",
       "2005-09-30     111     Ismael   Sciarra\n",
       "2005-12-24     116     Shelli     Baida\n",
       "2005-07-24     117      Sigal    Tobias"
      ]
     },
     "execution_count": 88,
     "metadata": {},
     "output_type": "execute_result"
    }
   ],
   "source": [
    "df = pd.read_excel('Employee.xlsx')\n",
    "df['hire_date']=pd.to_datetime(df['hire_date'])\n",
    "\n",
    "\n",
    "df2 = df.set_index(['hire_date'])\n",
    "result = df2[\"2005\"]\n",
    "result"
   ]
  },
  {
   "cell_type": "markdown",
   "metadata": {},
   "source": [
    "<h3>Q121. Write a pandas program to import three datasheets from a given\n",
    "excel data (coalpublic2013.xlsx ) in to a single dataframe.</h3>"
   ]
  },
  {
   "cell_type": "code",
   "execution_count": 97,
   "metadata": {},
   "outputs": [
    {
     "name": "stdout",
     "output_type": "stream",
     "text": [
      "    emp_id   first_name    last_name            hire_date\n",
      "0      100       Steven         King           17-06-2003\n",
      "1      101        Neena      Kochhar           21-09-2005\n",
      "2      102       Lex De         Haan           13-01-2001\n",
      "3      103    Alexander       Hunold  2006-03-01 00:00:00\n",
      "4      104        Bruce        Ernst           21-05-2007\n",
      "5      105        David       Austin           25-06-2005\n",
      "6      106        Valli    Pataballa  2006-05-02 00:00:00\n",
      "7      107        Diana      Lorentz  2007-07-02 00:00:00\n",
      "8      108        Nancy    Greenberg           17-08-2002\n",
      "9      109       Daniel       Faviet           16-08-2002\n",
      "10     110         John         Chen           28-09-2005\n",
      "11     111       Ismael      Sciarra           30-09-2005\n",
      "12     112  Jose Manuel        Urman  2006-07-03 00:00:00\n",
      "13     113         Luis         Popp  2007-07-12 00:00:00\n",
      "14     114          Den     Raphaely  2002-07-12 00:00:00\n",
      "15     115    Alexander         Khoo           18-05-2003\n",
      "16     116       Shelli        Baida           24-12-2005\n",
      "17     117        Sigal       Tobias           24-07-2005\n",
      "18     118          Guy       Himuro           15-11-2006\n",
      "19     119        Karen   Colmenares  2007-10-08 00:00:00\n",
      "0      120      Matthew        Weiss           18-07-2004\n",
      "1      121         Adam        Fripp  2005-10-04 00:00:00\n",
      "2      122        Payam     Kaufling  2003-01-05 00:00:00\n",
      "3      123       Shanta      Vollman  2005-10-10 00:00:00\n",
      "4      124        Kevin      Mourgos           16-11-2007\n",
      "5      125        Julia        Nayer           16-07-2005\n",
      "6      126        Irene  Mikkilineni           28-09-2006\n",
      "7      127        James       Landry           14-01-2007\n",
      "8      128       Steven       Markle  2008-08-03 00:00:00\n",
      "9      129        Laura       Bissot           20-08-2005\n",
      "10     130        Mozhe     Atkinson           30-10-2005\n",
      "11     131        James       Marlow           16-02-2005\n",
      "12     132           TJ        Olson  2007-10-04 00:00:00\n",
      "13     133        Jason       Mallin           14-06-2004\n",
      "14     134      Michael       Rogers           26-08-2006\n",
      "15     135           Ki          Gee  2007-12-12 00:00:00\n",
      "16     136        Hazel   Philtanker  2008-06-02 00:00:00\n",
      "17     137       Renske       Ladwig           14-07-2003\n",
      "18     138      Stephen       Stiles           26-10-2005\n",
      "19     119        Karen   Colmenares  2007-10-08 00:00:00\n",
      "0      141       Trenna         Rajs           17-10-2003\n",
      "1      142       Curtis       Davies           29-01-2005\n",
      "2      143      Randall        Matos           15-03-2006\n",
      "3      144        Peter       Vargas  2006-09-07 00:00:00\n",
      "4      145         John      Russell  2004-01-10 00:00:00\n",
      "5      146        Karen     Partners  2005-05-01 00:00:00\n",
      "6      147      Alberto    Errazuriz  2005-10-03 00:00:00\n",
      "7      148       Gerald    Cambrault           15-10-2007\n",
      "8      149        Eleni      Zlotkey           29-01-2008\n",
      "9      109       Daniel       Faviet           16-08-2002\n",
      "10     110         John         Chen           28-09-2005\n",
      "11     111       Ismael      Sciarra           30-09-2005\n",
      "12     112  Jose Manuel        Urman  2006-07-03 00:00:00\n",
      "13     113         Luis         Popp  2007-07-12 00:00:00\n",
      "14     114          Den     Raphaely  2002-07-12 00:00:00\n",
      "15     115    Alexander         Khoo           18-05-2003\n",
      "16     116       Shelli        Baida           24-12-2005\n",
      "17     117        Sigal       Tobias           24-07-2005\n",
      "18     118          Guy       Himuro           15-11-2006\n",
      "19     119        Karen   Colmenares  2007-10-08 00:00:00\n"
     ]
    }
   ],
   "source": [
    "df1 = pd.read_excel('Employee.xlsx',sheet_name=0)\n",
    "df2 = pd.read_excel('Employee.xlsx',sheet_name=1)\n",
    "df3 = pd.read_excel('Employee.xlsx',sheet_name=2)\n",
    "df = pd.concat([df1,df2, df3])\n",
    "print(df)"
   ]
  },
  {
   "cell_type": "markdown",
   "metadata": {},
   "source": [
    "<h3>Q 122. Write a pandas program to import three datasheets from a given\n",
    "excel data (employee.xlsx ) into a single data frame and export the\n",
    "result into new Excel file.</h3>\n"
   ]
  },
  {
   "cell_type": "code",
   "execution_count": 98,
   "metadata": {},
   "outputs": [
    {
     "name": "stdout",
     "output_type": "stream",
     "text": [
      "    emp_id   first_name    last_name            hire_date\n",
      "0      100       Steven         King           17-06-2003\n",
      "1      101        Neena      Kochhar           21-09-2005\n",
      "2      102       Lex De         Haan           13-01-2001\n",
      "3      103    Alexander       Hunold  2006-03-01 00:00:00\n",
      "4      104        Bruce        Ernst           21-05-2007\n",
      "5      105        David       Austin           25-06-2005\n",
      "6      106        Valli    Pataballa  2006-05-02 00:00:00\n",
      "7      107        Diana      Lorentz  2007-07-02 00:00:00\n",
      "8      108        Nancy    Greenberg           17-08-2002\n",
      "9      109       Daniel       Faviet           16-08-2002\n",
      "10     110         John         Chen           28-09-2005\n",
      "11     111       Ismael      Sciarra           30-09-2005\n",
      "12     112  Jose Manuel        Urman  2006-07-03 00:00:00\n",
      "13     113         Luis         Popp  2007-07-12 00:00:00\n",
      "14     114          Den     Raphaely  2002-07-12 00:00:00\n",
      "15     115    Alexander         Khoo           18-05-2003\n",
      "16     116       Shelli        Baida           24-12-2005\n",
      "17     117        Sigal       Tobias           24-07-2005\n",
      "18     118          Guy       Himuro           15-11-2006\n",
      "19     119        Karen   Colmenares  2007-10-08 00:00:00\n",
      "0      120      Matthew        Weiss           18-07-2004\n",
      "1      121         Adam        Fripp  2005-10-04 00:00:00\n",
      "2      122        Payam     Kaufling  2003-01-05 00:00:00\n",
      "3      123       Shanta      Vollman  2005-10-10 00:00:00\n",
      "4      124        Kevin      Mourgos           16-11-2007\n",
      "5      125        Julia        Nayer           16-07-2005\n",
      "6      126        Irene  Mikkilineni           28-09-2006\n",
      "7      127        James       Landry           14-01-2007\n",
      "8      128       Steven       Markle  2008-08-03 00:00:00\n",
      "9      129        Laura       Bissot           20-08-2005\n",
      "10     130        Mozhe     Atkinson           30-10-2005\n",
      "11     131        James       Marlow           16-02-2005\n",
      "12     132           TJ        Olson  2007-10-04 00:00:00\n",
      "13     133        Jason       Mallin           14-06-2004\n",
      "14     134      Michael       Rogers           26-08-2006\n",
      "15     135           Ki          Gee  2007-12-12 00:00:00\n",
      "16     136        Hazel   Philtanker  2008-06-02 00:00:00\n",
      "17     137       Renske       Ladwig           14-07-2003\n",
      "18     138      Stephen       Stiles           26-10-2005\n",
      "19     119        Karen   Colmenares  2007-10-08 00:00:00\n",
      "0      141       Trenna         Rajs           17-10-2003\n",
      "1      142       Curtis       Davies           29-01-2005\n",
      "2      143      Randall        Matos           15-03-2006\n",
      "3      144        Peter       Vargas  2006-09-07 00:00:00\n",
      "4      145         John      Russell  2004-01-10 00:00:00\n",
      "5      146        Karen     Partners  2005-05-01 00:00:00\n",
      "6      147      Alberto    Errazuriz  2005-10-03 00:00:00\n",
      "7      148       Gerald    Cambrault           15-10-2007\n",
      "8      149        Eleni      Zlotkey           29-01-2008\n",
      "9      109       Daniel       Faviet           16-08-2002\n",
      "10     110         John         Chen           28-09-2005\n",
      "11     111       Ismael      Sciarra           30-09-2005\n",
      "12     112  Jose Manuel        Urman  2006-07-03 00:00:00\n",
      "13     113         Luis         Popp  2007-07-12 00:00:00\n",
      "14     114          Den     Raphaely  2002-07-12 00:00:00\n",
      "15     115    Alexander         Khoo           18-05-2003\n",
      "16     116       Shelli        Baida           24-12-2005\n",
      "17     117        Sigal       Tobias           24-07-2005\n",
      "18     118          Guy       Himuro           15-11-2006\n",
      "19     119        Karen   Colmenares  2007-10-08 00:00:00\n"
     ]
    }
   ],
   "source": [
    "df1 = pd.read_excel('Employee.xlsx',sheet_name=0)\n",
    "df2 = pd.read_excel('Employee.xlsx',sheet_name=1)\n",
    "df3 = pd.read_excel('Employee.xlsx',sheet_name=2)\n",
    "df = pd.concat([df1,df2, df3])\n",
    "print(df)\n",
    "\n",
    "df.to_excel(\"output.xlsx\",index=False)"
   ]
  },
  {
   "cell_type": "markdown",
   "metadata": {},
   "source": [
    "<h3>Q123. Write a pandas program to create the Pivot table with multiple\n",
    "indexes from the data set of the titanic.csv.</h3>"
   ]
  },
  {
   "cell_type": "code",
   "execution_count": 118,
   "metadata": {},
   "outputs": [
    {
     "ename": "TypeError",
     "evalue": "parser_f() got an unexpected keyword argument 'index'",
     "output_type": "error",
     "traceback": [
      "\u001b[1;31m---------------------------------------------------------------------------\u001b[0m",
      "\u001b[1;31mTypeError\u001b[0m                                 Traceback (most recent call last)",
      "\u001b[1;32m<ipython-input-118-d4c2a3cb3ff9>\u001b[0m in \u001b[0;36m<module>\u001b[1;34m\u001b[0m\n\u001b[1;32m----> 1\u001b[1;33m \u001b[0mdf\u001b[0m\u001b[1;33m=\u001b[0m\u001b[0mpd\u001b[0m\u001b[1;33m.\u001b[0m\u001b[0mread_csv\u001b[0m\u001b[1;33m(\u001b[0m\u001b[1;34m\"titanic.csv\"\u001b[0m\u001b[1;33m,\u001b[0m\u001b[0mindex\u001b[0m\u001b[1;33m=\u001b[0m\u001b[1;33m[\u001b[0m\u001b[1;34m\"Sex\"\u001b[0m\u001b[1;33m,\u001b[0m\u001b[1;34m\"Age\"\u001b[0m\u001b[1;33m]\u001b[0m\u001b[1;33m,\u001b[0m \u001b[0maggfunc\u001b[0m\u001b[1;33m=\u001b[0m\u001b[0mnp\u001b[0m\u001b[1;33m.\u001b[0m\u001b[0msum\u001b[0m\u001b[1;33m)\u001b[0m\u001b[1;33m\u001b[0m\u001b[0m\n\u001b[0m\u001b[0;32m      2\u001b[0m \u001b[0mdf\u001b[0m\u001b[1;33m\u001b[0m\u001b[0m\n",
      "\u001b[1;31mTypeError\u001b[0m: parser_f() got an unexpected keyword argument 'index'"
     ]
    }
   ],
   "source": [
    "df=pd.read_csv(\"titanic.csv\",index=[\"Sex\",\"Age\"], aggfunc=np.sum)\n",
    "df"
   ]
  },
  {
   "cell_type": "markdown",
   "metadata": {},
   "source": [
    "<h3>Q124. Write a Pandas program to create the Pivot table and find survival\n",
    "rate by gender?</h3>"
   ]
  },
  {
   "cell_type": "code",
   "execution_count": 117,
   "metadata": {},
   "outputs": [
    {
     "name": "stdout",
     "output_type": "stream",
     "text": [
      "   PassengerId  Survived  Pclass                                               Name     Sex   Age  SibSp  Parch            Ticket     Fare Cabin Embarked\n",
      "0            1         0       3                            Braund, Mr. Owen Harris    male  22.0      1      0         A/5 21171   7.2500   NaN        S\n",
      "1            2         1       1  Cumings, Mrs. John Bradley (Florence Briggs Th...  female  38.0      1      0          PC 17599  71.2833   C85        C\n",
      "2            3         1       3                             Heikkinen, Miss. Laina  female  26.0      0      0  STON/O2. 3101282   7.9250   NaN        S\n",
      "3            4         1       1       Futrelle, Mrs. Jacques Heath (Lily May Peel)  female  35.0      1      0            113803  53.1000  C123        S\n",
      "4            5         0       3                           Allen, Mr. William Henry    male  35.0      0      0            373450   8.0500   NaN        S\n",
      "====================================================================================================\n",
      "Pclass               1         2         3\n",
      "Sex    Age                                \n",
      "female 0.75        NaN       NaN  1.000000\n",
      "       1.00        NaN       NaN  1.000000\n",
      "       2.00   0.000000  1.000000  0.250000\n",
      "       3.00        NaN  1.000000  0.000000\n",
      "       4.00        NaN  1.000000  1.000000\n",
      "       5.00        NaN  1.000000  1.000000\n",
      "       6.00        NaN  1.000000  0.000000\n",
      "       7.00        NaN  1.000000       NaN\n",
      "       8.00        NaN  1.000000  0.000000\n",
      "       9.00        NaN       NaN  0.000000\n",
      "       10.00       NaN       NaN  0.000000\n",
      "       11.00       NaN       NaN  0.000000\n",
      "       13.00       NaN  1.000000  1.000000\n",
      "       14.00  1.000000  1.000000  0.500000\n",
      "       14.50       NaN       NaN  0.000000\n",
      "       15.00  1.000000       NaN  1.000000\n",
      "       16.00  1.000000       NaN  0.666667\n",
      "       17.00  1.000000  1.000000  0.500000\n",
      "       18.00  1.000000  1.000000  0.375000\n",
      "       19.00  1.000000  1.000000  1.000000\n",
      "       20.00       NaN       NaN  0.000000\n",
      "       21.00  1.000000  1.000000  0.250000\n",
      "       22.00  1.000000  1.000000  0.666667\n",
      "       23.00  1.000000  1.000000  0.500000\n",
      "       24.00  1.000000  0.857143  0.750000\n",
      "       25.00  0.000000  1.000000  0.000000\n",
      "       26.00  1.000000  0.000000  0.666667\n",
      "       27.00       NaN  0.666667  1.000000\n",
      "       28.00       NaN  1.000000  0.000000\n",
      "       29.00  1.000000  1.000000  0.333333\n",
      "       30.00  1.000000  1.000000  0.333333\n",
      "       30.50       NaN       NaN  0.000000\n",
      "       31.00  1.000000  1.000000  0.500000\n",
      "       32.00  1.000000  1.000000  0.000000\n",
      "       32.50       NaN  1.000000       NaN\n",
      "       33.00  1.000000  1.000000  1.000000\n",
      "       34.00       NaN  1.000000       NaN\n",
      "       35.00  1.000000  1.000000  1.000000\n",
      "       36.00  1.000000  1.000000  1.000000\n",
      "       37.00       NaN       NaN  0.000000\n",
      "       38.00  1.000000  0.000000  1.000000\n",
      "       39.00  1.000000       NaN  0.000000\n",
      "       40.00  1.000000  1.000000  0.000000\n",
      "       41.00  1.000000  1.000000  0.000000\n",
      "       42.00  1.000000  1.000000       NaN\n",
      "       43.00  1.000000       NaN  0.000000\n",
      "       44.00  1.000000  0.000000       NaN\n",
      "       45.00  1.000000  1.000000  0.000000\n",
      "       47.00  1.000000       NaN  0.000000\n",
      "       48.00  1.000000  1.000000  0.000000\n",
      "       49.00  1.000000       NaN       NaN\n",
      "       50.00  0.500000  1.000000       NaN\n",
      "       51.00  1.000000       NaN       NaN\n",
      "       52.00  1.000000       NaN       NaN\n",
      "       53.00  1.000000       NaN       NaN\n",
      "       54.00  1.000000  1.000000       NaN\n",
      "       55.00       NaN  1.000000       NaN\n",
      "       56.00  1.000000       NaN       NaN\n",
      "       57.00       NaN  0.000000       NaN\n",
      "       58.00  1.000000       NaN       NaN\n",
      "       60.00  1.000000       NaN       NaN\n",
      "       62.00  1.000000       NaN       NaN\n",
      "       63.00  1.000000       NaN  1.000000\n",
      "male   0.42        NaN       NaN  1.000000\n",
      "       0.67        NaN  1.000000       NaN\n",
      "       0.83        NaN  1.000000       NaN\n",
      "       0.92   1.000000       NaN       NaN\n",
      "       1.00        NaN  1.000000  0.333333\n",
      "       2.00        NaN  1.000000  0.000000\n",
      "       3.00        NaN  1.000000  1.000000\n",
      "       4.00   1.000000       NaN  0.250000\n",
      "       6.00        NaN       NaN  1.000000\n",
      "       7.00        NaN       NaN  0.000000\n",
      "       8.00        NaN  1.000000  0.000000\n",
      "       9.00        NaN       NaN  0.500000\n",
      "       10.00       NaN       NaN  0.000000\n",
      "       11.00  1.000000       NaN  0.000000\n",
      "       12.00       NaN       NaN  1.000000\n",
      "       14.00       NaN       NaN  0.000000\n",
      "       15.00       NaN       NaN  0.000000\n",
      "       16.00       NaN  0.000000  0.111111\n",
      "       17.00  1.000000       NaN  0.000000\n",
      "       18.00  0.000000  0.000000  0.125000\n",
      "       19.00  0.000000  0.250000  0.083333\n",
      "       20.00       NaN       NaN  0.230769\n",
      "       20.50       NaN       NaN  0.000000\n",
      "       21.00  0.000000  0.000000  0.076923\n",
      "       22.00  0.000000       NaN  0.071429\n",
      "       23.00  1.000000  0.000000  0.000000\n",
      "       23.50       NaN       NaN  0.000000\n",
      "       24.00  0.000000  0.000000  0.111111\n",
      "       24.50       NaN       NaN  0.000000\n",
      "       25.00  1.000000  0.000000  0.181818\n",
      "       26.00  1.000000  0.000000  0.181818\n",
      "       27.00  0.750000  0.000000  0.600000\n",
      "       28.00  0.500000  0.000000  0.000000\n",
      "       28.50       NaN       NaN  0.000000\n",
      "       29.00  0.000000  0.000000  0.375000\n",
      "       30.00  0.000000  0.000000  0.125000\n",
      "       30.50       NaN       NaN  0.000000\n",
      "       31.00  0.333333  0.250000  0.333333\n",
      "       32.00  1.000000  0.333333  0.454545\n",
      "       32.50       NaN  0.000000       NaN\n",
      "       33.00  0.000000  0.000000  0.000000\n",
      "       34.00  1.000000  0.166667  0.000000\n",
      "       34.50       NaN       NaN  0.000000\n",
      "       35.00  1.000000  0.000000  0.000000\n",
      "       36.00  0.666667  0.000000  0.000000\n",
      "       36.50       NaN  0.000000       NaN\n",
      "       37.00  0.333333  0.000000  0.000000\n",
      "       38.00  0.333333       NaN  0.000000\n",
      "       39.00  0.000000  0.000000  0.250000\n",
      "       40.00  0.333333       NaN  0.000000\n",
      "       40.50       NaN       NaN  0.000000\n",
      "       41.00       NaN       NaN  0.000000\n",
      "       42.00  0.666667  0.333333  0.000000\n",
      "       43.00       NaN  0.000000  0.000000\n",
      "       44.00  0.000000  0.000000  0.250000\n",
      "       45.00  0.250000       NaN  0.500000\n",
      "       45.50  0.000000       NaN  0.000000\n",
      "       46.00  0.000000  0.000000       NaN\n",
      "       47.00  0.000000  0.000000  0.000000\n",
      "       48.00  1.000000  0.000000  0.000000\n",
      "       49.00  0.666667       NaN  0.000000\n",
      "       50.00  0.333333  0.000000  0.000000\n",
      "       51.00  0.500000  0.000000  0.000000\n",
      "       52.00  0.500000  0.000000       NaN\n",
      "       54.00  0.000000  0.000000       NaN\n",
      "       55.00  0.000000       NaN       NaN\n",
      "       55.50       NaN       NaN  0.000000\n",
      "       56.00  0.333333       NaN       NaN\n",
      "       57.00       NaN  0.000000       NaN\n",
      "       58.00  0.000000       NaN       NaN\n",
      "       59.00       NaN  0.000000  0.000000\n",
      "       60.00  0.500000  0.000000       NaN\n",
      "       61.00  0.000000       NaN  0.000000\n",
      "       62.00  0.000000  1.000000       NaN\n",
      "       64.00  0.000000       NaN       NaN\n",
      "       65.00  0.000000       NaN  0.000000\n",
      "       66.00       NaN  0.000000       NaN\n",
      "       70.00  0.000000  0.000000       NaN\n",
      "       70.50       NaN       NaN  0.000000\n",
      "       71.00  0.000000       NaN       NaN\n",
      "       74.00       NaN       NaN  0.000000\n",
      "       80.00  1.000000       NaN       NaN\n"
     ]
    }
   ],
   "source": [
    "df = pd.read_csv('titanic.csv')\n",
    "print(df.head())\n",
    "age = pd.cut(df['Age'], [0, 20, 55])\n",
    "result = df.pivot_table('Survived', index=['Sex', 'Age'], columns='Pclass')\n",
    "print(\"==\"*50)\n",
    "print(result)"
   ]
  },
  {
   "cell_type": "markdown",
   "metadata": {},
   "source": [
    "<h3>Q125. Write a pandas program to make partition each of the passengers\n",
    "into 4 categories based on their age.</h3>"
   ]
  },
  {
   "cell_type": "code",
   "execution_count": 120,
   "metadata": {},
   "outputs": [
    {
     "name": "stdout",
     "output_type": "stream",
     "text": [
      "0      (10, 30]\n",
      "1      (30, 60]\n",
      "2      (10, 30]\n",
      "3      (30, 60]\n",
      "4      (30, 60]\n",
      "5           NaN\n",
      "6      (30, 60]\n",
      "7       (0, 10]\n",
      "8      (10, 30]\n",
      "9      (10, 30]\n",
      "10      (0, 10]\n",
      "11     (30, 60]\n",
      "12     (10, 30]\n",
      "13     (30, 60]\n",
      "14     (10, 30]\n",
      "15     (30, 60]\n",
      "16      (0, 10]\n",
      "17          NaN\n",
      "18     (30, 60]\n",
      "19          NaN\n",
      "20     (30, 60]\n",
      "21     (30, 60]\n",
      "22     (10, 30]\n",
      "23     (10, 30]\n",
      "24      (0, 10]\n",
      "25     (30, 60]\n",
      "26          NaN\n",
      "27     (10, 30]\n",
      "28          NaN\n",
      "29          NaN\n",
      "30     (30, 60]\n",
      "31          NaN\n",
      "32          NaN\n",
      "33     (60, 80]\n",
      "34     (10, 30]\n",
      "35     (30, 60]\n",
      "36          NaN\n",
      "37     (10, 30]\n",
      "38     (10, 30]\n",
      "39     (10, 30]\n",
      "40     (30, 60]\n",
      "41     (10, 30]\n",
      "42          NaN\n",
      "43      (0, 10]\n",
      "44     (10, 30]\n",
      "45          NaN\n",
      "46          NaN\n",
      "47          NaN\n",
      "48          NaN\n",
      "49     (10, 30]\n",
      "50      (0, 10]\n",
      "51     (10, 30]\n",
      "52     (30, 60]\n",
      "53     (10, 30]\n",
      "54     (60, 80]\n",
      "55          NaN\n",
      "56     (10, 30]\n",
      "57     (10, 30]\n",
      "58      (0, 10]\n",
      "59     (10, 30]\n",
      "60     (10, 30]\n",
      "61     (30, 60]\n",
      "62     (30, 60]\n",
      "63      (0, 10]\n",
      "64          NaN\n",
      "65          NaN\n",
      "66     (10, 30]\n",
      "67     (10, 30]\n",
      "68     (10, 30]\n",
      "69     (10, 30]\n",
      "70     (30, 60]\n",
      "71     (10, 30]\n",
      "72     (10, 30]\n",
      "73     (10, 30]\n",
      "74     (30, 60]\n",
      "75     (10, 30]\n",
      "76          NaN\n",
      "77          NaN\n",
      "78      (0, 10]\n",
      "79     (10, 30]\n",
      "80     (10, 30]\n",
      "81     (10, 30]\n",
      "82          NaN\n",
      "83     (10, 30]\n",
      "84     (10, 30]\n",
      "85     (30, 60]\n",
      "86     (10, 30]\n",
      "87          NaN\n",
      "88     (10, 30]\n",
      "89     (10, 30]\n",
      "90     (10, 30]\n",
      "91     (10, 30]\n",
      "92     (30, 60]\n",
      "93     (10, 30]\n",
      "94     (30, 60]\n",
      "95          NaN\n",
      "96     (60, 80]\n",
      "97     (10, 30]\n",
      "98     (30, 60]\n",
      "99     (30, 60]\n",
      "100    (10, 30]\n",
      "101         NaN\n",
      "102    (10, 30]\n",
      "103    (30, 60]\n",
      "104    (30, 60]\n",
      "105    (10, 30]\n",
      "106    (10, 30]\n",
      "107         NaN\n",
      "108    (30, 60]\n",
      "109         NaN\n",
      "110    (30, 60]\n",
      "111    (10, 30]\n",
      "112    (10, 30]\n",
      "113    (10, 30]\n",
      "114    (10, 30]\n",
      "115    (10, 30]\n",
      "116    (60, 80]\n",
      "117    (10, 30]\n",
      "118    (10, 30]\n",
      "119     (0, 10]\n",
      "120    (10, 30]\n",
      "121         NaN\n",
      "122    (30, 60]\n",
      "123    (30, 60]\n",
      "124    (30, 60]\n",
      "125    (10, 30]\n",
      "126         NaN\n",
      "127    (10, 30]\n",
      "128         NaN\n",
      "129    (30, 60]\n",
      "130    (30, 60]\n",
      "131    (10, 30]\n",
      "132    (30, 60]\n",
      "133    (10, 30]\n",
      "134    (10, 30]\n",
      "135    (10, 30]\n",
      "136    (10, 30]\n",
      "137    (30, 60]\n",
      "138    (10, 30]\n",
      "139    (10, 30]\n",
      "140         NaN\n",
      "141    (10, 30]\n",
      "142    (10, 30]\n",
      "143    (10, 30]\n",
      "144    (10, 30]\n",
      "145    (10, 30]\n",
      "146    (10, 30]\n",
      "147     (0, 10]\n",
      "148    (30, 60]\n",
      "149    (30, 60]\n",
      "150    (30, 60]\n",
      "151    (10, 30]\n",
      "152    (30, 60]\n",
      "153    (30, 60]\n",
      "154         NaN\n",
      "155    (30, 60]\n",
      "156    (10, 30]\n",
      "157    (10, 30]\n",
      "158         NaN\n",
      "159         NaN\n",
      "160    (30, 60]\n",
      "161    (30, 60]\n",
      "162    (10, 30]\n",
      "163    (10, 30]\n",
      "164     (0, 10]\n",
      "165     (0, 10]\n",
      "166         NaN\n",
      "167    (30, 60]\n",
      "168         NaN\n",
      "169    (10, 30]\n",
      "170    (60, 80]\n",
      "171     (0, 10]\n",
      "172     (0, 10]\n",
      "173    (10, 30]\n",
      "174    (30, 60]\n",
      "175    (10, 30]\n",
      "176         NaN\n",
      "177    (30, 60]\n",
      "178    (10, 30]\n",
      "179    (30, 60]\n",
      "180         NaN\n",
      "181         NaN\n",
      "182     (0, 10]\n",
      "183     (0, 10]\n",
      "184     (0, 10]\n",
      "185         NaN\n",
      "186         NaN\n",
      "187    (30, 60]\n",
      "188    (30, 60]\n",
      "189    (30, 60]\n",
      "190    (30, 60]\n",
      "191    (10, 30]\n",
      "192    (10, 30]\n",
      "193     (0, 10]\n",
      "194    (30, 60]\n",
      "195    (30, 60]\n",
      "196         NaN\n",
      "197    (30, 60]\n",
      "198         NaN\n",
      "199    (10, 30]\n",
      "200    (10, 30]\n",
      "201         NaN\n",
      "202    (30, 60]\n",
      "203    (30, 60]\n",
      "204    (10, 30]\n",
      "205     (0, 10]\n",
      "206    (30, 60]\n",
      "207    (10, 30]\n",
      "208    (10, 30]\n",
      "209    (30, 60]\n",
      "210    (10, 30]\n",
      "211    (30, 60]\n",
      "212    (10, 30]\n",
      "213    (10, 30]\n",
      "214         NaN\n",
      "215    (30, 60]\n",
      "216    (10, 30]\n",
      "217    (30, 60]\n",
      "218    (30, 60]\n",
      "219    (10, 30]\n",
      "220    (10, 30]\n",
      "221    (10, 30]\n",
      "222    (30, 60]\n",
      "223         NaN\n",
      "224    (30, 60]\n",
      "225    (10, 30]\n",
      "226    (10, 30]\n",
      "227    (10, 30]\n",
      "228    (10, 30]\n",
      "229         NaN\n",
      "230    (30, 60]\n",
      "231    (10, 30]\n",
      "232    (30, 60]\n",
      "233     (0, 10]\n",
      "234    (10, 30]\n",
      "235         NaN\n",
      "236    (30, 60]\n",
      "237     (0, 10]\n",
      "238    (10, 30]\n",
      "239    (30, 60]\n",
      "240         NaN\n",
      "241         NaN\n",
      "242    (10, 30]\n",
      "243    (10, 30]\n",
      "244    (10, 30]\n",
      "245    (30, 60]\n",
      "246    (10, 30]\n",
      "247    (10, 30]\n",
      "248    (30, 60]\n",
      "249    (30, 60]\n",
      "         ...   \n",
      "641    (10, 30]\n",
      "642     (0, 10]\n",
      "643         NaN\n",
      "644     (0, 10]\n",
      "645    (30, 60]\n",
      "646    (10, 30]\n",
      "647    (30, 60]\n",
      "648         NaN\n",
      "649    (10, 30]\n",
      "650         NaN\n",
      "651    (10, 30]\n",
      "652    (10, 30]\n",
      "653         NaN\n",
      "654    (10, 30]\n",
      "655    (10, 30]\n",
      "656         NaN\n",
      "657    (30, 60]\n",
      "658    (10, 30]\n",
      "659    (30, 60]\n",
      "660    (30, 60]\n",
      "661    (30, 60]\n",
      "662    (30, 60]\n",
      "663    (30, 60]\n",
      "664    (10, 30]\n",
      "665    (30, 60]\n",
      "666    (10, 30]\n",
      "667         NaN\n",
      "668    (30, 60]\n",
      "669         NaN\n",
      "670    (30, 60]\n",
      "671    (30, 60]\n",
      "672    (60, 80]\n",
      "673    (30, 60]\n",
      "674         NaN\n",
      "675    (10, 30]\n",
      "676    (10, 30]\n",
      "677    (10, 30]\n",
      "678    (30, 60]\n",
      "679    (30, 60]\n",
      "680         NaN\n",
      "681    (10, 30]\n",
      "682    (10, 30]\n",
      "683    (10, 30]\n",
      "684    (30, 60]\n",
      "685    (10, 30]\n",
      "686    (10, 30]\n",
      "687    (10, 30]\n",
      "688    (10, 30]\n",
      "689    (10, 30]\n",
      "690    (30, 60]\n",
      "691     (0, 10]\n",
      "692         NaN\n",
      "693    (10, 30]\n",
      "694    (30, 60]\n",
      "695    (30, 60]\n",
      "696    (30, 60]\n",
      "697         NaN\n",
      "698    (30, 60]\n",
      "699    (30, 60]\n",
      "700    (10, 30]\n",
      "701    (30, 60]\n",
      "702    (10, 30]\n",
      "703    (10, 30]\n",
      "704    (10, 30]\n",
      "705    (30, 60]\n",
      "706    (30, 60]\n",
      "707    (30, 60]\n",
      "708    (10, 30]\n",
      "709         NaN\n",
      "710    (10, 30]\n",
      "711         NaN\n",
      "712    (30, 60]\n",
      "713    (10, 30]\n",
      "714    (30, 60]\n",
      "715    (10, 30]\n",
      "716    (30, 60]\n",
      "717    (10, 30]\n",
      "718         NaN\n",
      "719    (30, 60]\n",
      "720     (0, 10]\n",
      "721    (10, 30]\n",
      "722    (30, 60]\n",
      "723    (30, 60]\n",
      "724    (10, 30]\n",
      "725    (10, 30]\n",
      "726    (10, 30]\n",
      "727         NaN\n",
      "728    (10, 30]\n",
      "729    (10, 30]\n",
      "730    (10, 30]\n",
      "731    (10, 30]\n",
      "732         NaN\n",
      "733    (10, 30]\n",
      "734    (10, 30]\n",
      "735    (10, 30]\n",
      "736    (30, 60]\n",
      "737    (30, 60]\n",
      "738         NaN\n",
      "739         NaN\n",
      "740         NaN\n",
      "741    (30, 60]\n",
      "742    (10, 30]\n",
      "743    (10, 30]\n",
      "744    (30, 60]\n",
      "745    (60, 80]\n",
      "746    (10, 30]\n",
      "747    (10, 30]\n",
      "748    (10, 30]\n",
      "749    (30, 60]\n",
      "750     (0, 10]\n",
      "751     (0, 10]\n",
      "752    (30, 60]\n",
      "753    (10, 30]\n",
      "754    (30, 60]\n",
      "755     (0, 10]\n",
      "756    (10, 30]\n",
      "757    (10, 30]\n",
      "758    (30, 60]\n",
      "759    (30, 60]\n",
      "760         NaN\n",
      "761    (30, 60]\n",
      "762    (10, 30]\n",
      "763    (30, 60]\n",
      "764    (10, 30]\n",
      "765    (30, 60]\n",
      "766         NaN\n",
      "767    (30, 60]\n",
      "768         NaN\n",
      "769    (30, 60]\n",
      "770    (10, 30]\n",
      "771    (30, 60]\n",
      "772    (30, 60]\n",
      "773         NaN\n",
      "774    (30, 60]\n",
      "775    (10, 30]\n",
      "776         NaN\n",
      "777     (0, 10]\n",
      "778         NaN\n",
      "779    (30, 60]\n",
      "780    (10, 30]\n",
      "781    (10, 30]\n",
      "782    (10, 30]\n",
      "783         NaN\n",
      "784    (10, 30]\n",
      "785    (10, 30]\n",
      "786    (10, 30]\n",
      "787     (0, 10]\n",
      "788     (0, 10]\n",
      "789    (30, 60]\n",
      "790         NaN\n",
      "791    (10, 30]\n",
      "792         NaN\n",
      "793         NaN\n",
      "794    (10, 30]\n",
      "795    (30, 60]\n",
      "796    (30, 60]\n",
      "797    (30, 60]\n",
      "798    (10, 30]\n",
      "799    (10, 30]\n",
      "800    (30, 60]\n",
      "801    (30, 60]\n",
      "802    (10, 30]\n",
      "803     (0, 10]\n",
      "804    (10, 30]\n",
      "805    (30, 60]\n",
      "806    (30, 60]\n",
      "807    (10, 30]\n",
      "808    (30, 60]\n",
      "809    (30, 60]\n",
      "810    (10, 30]\n",
      "811    (30, 60]\n",
      "812    (30, 60]\n",
      "813     (0, 10]\n",
      "814    (30, 60]\n",
      "815         NaN\n",
      "816    (10, 30]\n",
      "817    (30, 60]\n",
      "818    (30, 60]\n",
      "819     (0, 10]\n",
      "820    (30, 60]\n",
      "821    (10, 30]\n",
      "822    (30, 60]\n",
      "823    (10, 30]\n",
      "824     (0, 10]\n",
      "825         NaN\n",
      "826         NaN\n",
      "827     (0, 10]\n",
      "828         NaN\n",
      "829    (60, 80]\n",
      "830    (10, 30]\n",
      "831     (0, 10]\n",
      "832         NaN\n",
      "833    (10, 30]\n",
      "834    (10, 30]\n",
      "835    (30, 60]\n",
      "836    (10, 30]\n",
      "837         NaN\n",
      "838    (30, 60]\n",
      "839         NaN\n",
      "840    (10, 30]\n",
      "841    (10, 30]\n",
      "842    (10, 30]\n",
      "843    (30, 60]\n",
      "844    (10, 30]\n",
      "845    (30, 60]\n",
      "846         NaN\n",
      "847    (30, 60]\n",
      "848    (10, 30]\n",
      "849         NaN\n",
      "850     (0, 10]\n",
      "851    (60, 80]\n",
      "852     (0, 10]\n",
      "853    (10, 30]\n",
      "854    (30, 60]\n",
      "855    (10, 30]\n",
      "856    (30, 60]\n",
      "857    (30, 60]\n",
      "858    (10, 30]\n",
      "859         NaN\n",
      "860    (30, 60]\n",
      "861    (10, 30]\n",
      "862    (30, 60]\n",
      "863         NaN\n",
      "864    (10, 30]\n",
      "865    (30, 60]\n",
      "866    (10, 30]\n",
      "867    (30, 60]\n",
      "868         NaN\n",
      "869     (0, 10]\n",
      "870    (10, 30]\n",
      "871    (30, 60]\n",
      "872    (30, 60]\n",
      "873    (30, 60]\n",
      "874    (10, 30]\n",
      "875    (10, 30]\n",
      "876    (10, 30]\n",
      "877    (10, 30]\n",
      "878         NaN\n",
      "879    (30, 60]\n",
      "880    (10, 30]\n",
      "881    (30, 60]\n",
      "882    (10, 30]\n",
      "883    (10, 30]\n",
      "884    (10, 30]\n",
      "885    (30, 60]\n",
      "886    (10, 30]\n",
      "887    (10, 30]\n",
      "888         NaN\n",
      "889    (10, 30]\n",
      "890    (30, 60]\n",
      "Name: Age, Length: 891, dtype: category\n",
      "Categories (4, interval[int64]): [(0, 10] < (10, 30] < (30, 60] < (60, 80]]\n"
     ]
    }
   ],
   "source": [
    "df = pd.read_csv('titanic.csv')\n",
    "result = pd.cut(df['Age'], [0, 10, 30, 60, 80])\n",
    "print(result)"
   ]
  },
  {
   "cell_type": "markdown",
   "metadata": {},
   "source": [
    "<h3>Q126. Write a pandas program to create the Pivot table and find survival\n",
    "rate by the gender, age of the different categories of various\n",
    "classes.\n"
   ]
  },
  {
   "cell_type": "code",
   "execution_count": 4,
   "metadata": {},
   "outputs": [
    {
     "name": "stdout",
     "output_type": "stream",
     "text": [
      "==================================================\n",
      "Fare            (-0.001, 14.454]                     (14.454, 512.329]  \\\n",
      "Pclass                         1         2         3                 1   \n",
      "Sex    Age                                                               \n",
      "female (0, 10]               NaN       NaN  0.800000          0.000000   \n",
      "       (10, 30]              NaN  0.933333  0.568182          0.970588   \n",
      "       (30, 60]              NaN  0.846154  0.142857          0.979167   \n",
      "       (60, 80]              NaN       NaN  1.000000          1.000000   \n",
      "male   (0, 10]               NaN       NaN  1.000000          1.000000   \n",
      "       (10, 30]              NaN  0.034483  0.140625          0.458333   \n",
      "       (30, 60]              0.0  0.130435  0.109375          0.440678   \n",
      "       (60, 80]              NaN  0.333333  0.000000          0.083333   \n",
      "\n",
      "Fare                                 \n",
      "Pclass                  2         3  \n",
      "Sex    Age                           \n",
      "female (0, 10]   1.000000  0.411765  \n",
      "       (10, 30]  0.904762  0.307692  \n",
      "       (30, 60]  0.941176  0.333333  \n",
      "       (60, 80]       NaN       NaN  \n",
      "male   (0, 10]   1.000000  0.263158  \n",
      "       (10, 30]  0.000000  0.130435  \n",
      "       (30, 60]  0.047619  0.166667  \n",
      "       (60, 80]       NaN       NaN  \n"
     ]
    }
   ],
   "source": [
    "import pandas as pd\n",
    "\n",
    "df = pd.read_csv('titanic.csv')\n",
    "fare = pd.qcut(df['Fare'], 2)\n",
    "age = pd.cut(df['Age'], [0, 10, 30, 60, 80])\n",
    "\n",
    "print(\"=\"*50)\n",
    "result = df.pivot_table('Survived', index=['Sex', age], columns=[fare, 'Pclass'])\n",
    "print(result)"
   ]
  },
  {
   "cell_type": "markdown",
   "metadata": {},
   "source": [
    "<h3>Q127. Write a pandas program to create the Pivot table and calculate\n",
    "number of women and men were in a particular cabin class."
   ]
  },
  {
   "cell_type": "code",
   "execution_count": 6,
   "metadata": {},
   "outputs": [
    {
     "name": "stdout",
     "output_type": "stream",
     "text": [
      "        Age                                              ...  Ticket        \\\n",
      "Cabin   A10  A14  A16  A19  A20  A23  A24  A26  A31  A32 ...      E8 F E69   \n",
      "Sex                                                      ...                 \n",
      "female  NaN  NaN  1.0  NaN  NaN  NaN  NaN  NaN  NaN  NaN ...     1.0   1.0   \n",
      "male    1.0  0.0  NaN  0.0  1.0  1.0  1.0  1.0  1.0  0.0 ...     1.0   NaN   \n",
      "\n",
      "                                                  \n",
      "Cabin  F G63 F G73   F2  F33  F38   F4   G6    T  \n",
      "Sex                                               \n",
      "female   NaN   NaN  NaN  3.0  NaN  1.0  4.0  NaN  \n",
      "male     1.0   2.0  3.0  NaN  1.0  1.0  NaN  1.0  \n",
      "\n",
      "[2 rows x 1470 columns]\n"
     ]
    }
   ],
   "source": [
    "df = pd.read_csv('titanic.csv')\n",
    "result = df.pivot_table(index=['Sex'], columns=['Cabin'], aggfunc='count')\n",
    "print(result)"
   ]
  },
  {
   "cell_type": "markdown",
   "metadata": {},
   "source": [
    "<h3>Q128. Write a pandas program to create the Pivot table and separate\n",
    "the gender according to whether they travelled alone or not to get\n",
    "the probability of survival"
   ]
  },
  {
   "cell_type": "code",
   "execution_count": 11,
   "metadata": {},
   "outputs": [
    {
     "name": "stdout",
     "output_type": "stream",
     "text": [
      "Index(['PassengerId', 'Survived', 'Pclass', 'Name', 'Sex', 'Age', 'SibSp',\n",
      "       'Parch', 'Ticket', 'Fare', 'Cabin', 'Embarked', 'Alone'],\n",
      "      dtype='object')\n",
      "Pclass        1  2  3\n",
      "Sex    Alone         \n",
      "female 0      0  0  0\n",
      "       1      1  1  1\n",
      "male   0      0  0  0\n",
      "       1      1  1  1\n"
     ]
    }
   ],
   "source": [
    "df = pd.read_csv('titanic.csv')\n",
    "print(df.columns)\n",
    "result = df.pivot_table( 'Survived' , [ 'Sex' , 'Alone' ] , 'Pclass' )\n",
    "print(result)"
   ]
  },
  {
   "cell_type": "markdown",
   "metadata": {},
   "source": [
    "<h3>Q129. Write a pandas program to create the Pivot table and find the\n",
    "probability of survival by class, gender, solo boarding, and the port\n",
    "of embarkation."
   ]
  },
  {
   "cell_type": "code",
   "execution_count": 12,
   "metadata": {},
   "outputs": [
    {
     "name": "stdout",
     "output_type": "stream",
     "text": [
      "Embarked        C              Q              S          \n",
      "Pclass          1    2    3    1    2    3    1    2    3\n",
      "Sex    Alone                                             \n",
      "female 0      0.0  NaN  0.0  NaN  NaN  0.0  0.0  0.0  0.0\n",
      "       1      1.0  1.0  1.0  1.0  1.0  1.0  1.0  1.0  1.0\n",
      "male   0      0.0  0.0  0.0  0.0  0.0  0.0  0.0  0.0  0.0\n",
      "       1      1.0  1.0  1.0  NaN  NaN  1.0  1.0  1.0  1.0\n"
     ]
    }
   ],
   "source": [
    "df = pd.read_csv('titanic.csv')\n",
    "result = df.pivot_table('Survived', ['Sex' , 'Alone' ], [ 'Embarked', 'Pclass' ])\n",
    "print(result)\n"
   ]
  },
  {
   "cell_type": "markdown",
   "metadata": {},
   "source": [
    "<h3>Q130. Write a pandas program to get current date, oldest date and\n",
    "number of days between Current date and the oldest date of Ufo\n",
    "dataset."
   ]
  },
  {
   "cell_type": "code",
   "execution_count": 49,
   "metadata": {},
   "outputs": [
    {
     "name": "stderr",
     "output_type": "stream",
     "text": [
      "C:\\Users\\Roshan\\Anaconda3\\lib\\site-packages\\IPython\\core\\interactiveshell.py:3049: DtypeWarning: Columns (5,9) have mixed types. Specify dtype option on import or set low_memory=False.\n",
      "  interactivity=interactivity, compiler=compiler, result=result)\n"
     ]
    },
    {
     "data": {
      "text/html": [
       "<div>\n",
       "<style scoped>\n",
       "    .dataframe tbody tr th:only-of-type {\n",
       "        vertical-align: middle;\n",
       "    }\n",
       "\n",
       "    .dataframe tbody tr th {\n",
       "        vertical-align: top;\n",
       "    }\n",
       "\n",
       "    .dataframe thead th {\n",
       "        text-align: right;\n",
       "    }\n",
       "</style>\n",
       "<table border=\"1\" class=\"dataframe\">\n",
       "  <thead>\n",
       "    <tr style=\"text-align: right;\">\n",
       "      <th></th>\n",
       "      <th>Date_time</th>\n",
       "      <th>city</th>\n",
       "      <th>state/province</th>\n",
       "      <th>country</th>\n",
       "      <th>UFO_shape</th>\n",
       "      <th>length_of_encounter_seconds</th>\n",
       "      <th>described_duration_of_encounter</th>\n",
       "      <th>description</th>\n",
       "      <th>date_documented</th>\n",
       "      <th>latitude</th>\n",
       "      <th>longitude</th>\n",
       "    </tr>\n",
       "  </thead>\n",
       "  <tbody>\n",
       "    <tr>\n",
       "      <th>0</th>\n",
       "      <td>10/10/1949 20:30</td>\n",
       "      <td>san marcos</td>\n",
       "      <td>tx</td>\n",
       "      <td>us</td>\n",
       "      <td>cylinder</td>\n",
       "      <td>2700</td>\n",
       "      <td>45 minutes</td>\n",
       "      <td>This event took place in early fall around 194...</td>\n",
       "      <td>4/27/2004</td>\n",
       "      <td>29.8830556</td>\n",
       "      <td>-97.941111</td>\n",
       "    </tr>\n",
       "    <tr>\n",
       "      <th>1</th>\n",
       "      <td>10/10/1949 21:00</td>\n",
       "      <td>lackland afb</td>\n",
       "      <td>tx</td>\n",
       "      <td>NaN</td>\n",
       "      <td>light</td>\n",
       "      <td>7200</td>\n",
       "      <td>1-2 hrs</td>\n",
       "      <td>1949 Lackland AFB&amp;#44 TX.  Lights racing acros...</td>\n",
       "      <td>12/16/2005</td>\n",
       "      <td>29.38421</td>\n",
       "      <td>-98.581082</td>\n",
       "    </tr>\n",
       "    <tr>\n",
       "      <th>2</th>\n",
       "      <td>10/10/1955 17:00</td>\n",
       "      <td>chester (uk/england)</td>\n",
       "      <td>NaN</td>\n",
       "      <td>gb</td>\n",
       "      <td>circle</td>\n",
       "      <td>20</td>\n",
       "      <td>20 seconds</td>\n",
       "      <td>Green/Orange circular disc over Chester&amp;#44 En...</td>\n",
       "      <td>1/21/2008</td>\n",
       "      <td>53.2</td>\n",
       "      <td>-2.916667</td>\n",
       "    </tr>\n",
       "    <tr>\n",
       "      <th>3</th>\n",
       "      <td>10/10/1956 21:00</td>\n",
       "      <td>edna</td>\n",
       "      <td>tx</td>\n",
       "      <td>us</td>\n",
       "      <td>circle</td>\n",
       "      <td>20</td>\n",
       "      <td>1/2 hour</td>\n",
       "      <td>My older brother and twin sister were leaving ...</td>\n",
       "      <td>1/17/2004</td>\n",
       "      <td>28.9783333</td>\n",
       "      <td>-96.645833</td>\n",
       "    </tr>\n",
       "    <tr>\n",
       "      <th>4</th>\n",
       "      <td>10/10/1960 20:00</td>\n",
       "      <td>kaneohe</td>\n",
       "      <td>hi</td>\n",
       "      <td>us</td>\n",
       "      <td>light</td>\n",
       "      <td>900</td>\n",
       "      <td>15 minutes</td>\n",
       "      <td>AS a Marine 1st Lt. flying an FJ4B fighter/att...</td>\n",
       "      <td>1/22/2004</td>\n",
       "      <td>21.4180556</td>\n",
       "      <td>-157.803611</td>\n",
       "    </tr>\n",
       "  </tbody>\n",
       "</table>\n",
       "</div>"
      ],
      "text/plain": [
       "          Date_time                  city state/province country UFO_shape  \\\n",
       "0  10/10/1949 20:30            san marcos             tx      us  cylinder   \n",
       "1  10/10/1949 21:00          lackland afb             tx     NaN     light   \n",
       "2  10/10/1955 17:00  chester (uk/england)            NaN      gb    circle   \n",
       "3  10/10/1956 21:00                  edna             tx      us    circle   \n",
       "4  10/10/1960 20:00               kaneohe             hi      us     light   \n",
       "\n",
       "  length_of_encounter_seconds described_duration_of_encounter  \\\n",
       "0                        2700                      45 minutes   \n",
       "1                        7200                         1-2 hrs   \n",
       "2                          20                      20 seconds   \n",
       "3                          20                        1/2 hour   \n",
       "4                         900                      15 minutes   \n",
       "\n",
       "                                         description date_documented  \\\n",
       "0  This event took place in early fall around 194...       4/27/2004   \n",
       "1  1949 Lackland AFB&#44 TX.  Lights racing acros...      12/16/2005   \n",
       "2  Green/Orange circular disc over Chester&#44 En...       1/21/2008   \n",
       "3  My older brother and twin sister were leaving ...       1/17/2004   \n",
       "4  AS a Marine 1st Lt. flying an FJ4B fighter/att...       1/22/2004   \n",
       "\n",
       "     latitude   longitude  \n",
       "0  29.8830556  -97.941111  \n",
       "1    29.38421  -98.581082  \n",
       "2        53.2   -2.916667  \n",
       "3  28.9783333  -96.645833  \n",
       "4  21.4180556 -157.803611  "
      ]
     },
     "execution_count": 49,
     "metadata": {},
     "output_type": "execute_result"
    }
   ],
   "source": [
    "df = pd.read_csv('ufo.csv')\n",
    "df.head()"
   ]
  },
  {
   "cell_type": "code",
   "execution_count": 51,
   "metadata": {},
   "outputs": [
    {
     "name": "stdout",
     "output_type": "stream",
     "text": [
      "\n",
      "Current date of Ufo dataset:\n",
      "2014-05-08 18:45:00\n",
      "\n",
      "Oldest date of Ufo dataset:\n",
      "1906-11-11 00:00:00\n",
      "\n",
      "Number of days between Current date and oldest date of Ufo dataset:\n",
      "39260\n"
     ]
    }
   ],
   "source": [
    "df['Date_time'] = pd.to_datetime(df.Date_time.str.replace('24:','00:'))\n",
    "print(\"\\nCurrent date of Ufo dataset:\")\n",
    "print(df.Date_time.max())\n",
    "print(\"\\nOldest date of Ufo dataset:\")\n",
    "print(df.Date_time.min())\n",
    "print(\"\\nNumber of days between Current date and oldest date of Ufo dataset:\")\n",
    "print((df.Date_time.max() - df.Date_time.min()).days)"
   ]
  },
  {
   "cell_type": "markdown",
   "metadata": {},
   "source": [
    "<h3>Q131. Write a pandas program to get all sighting days of the\n",
    "unidentified flying object (ufo) between 1950-10-10 and 1960-10-\n",
    "10."
   ]
  },
  {
   "cell_type": "code",
   "execution_count": 27,
   "metadata": {},
   "outputs": [
    {
     "name": "stdout",
     "output_type": "stream",
     "text": [
      "Original Dataframe:\n",
      "            Date_time                  city state/province country UFO_shape  \\\n",
      "0 1949-10-10 20:30:00            san marcos             tx      us  cylinder   \n",
      "1 1949-10-10 21:00:00          lackland afb             tx     NaN     light   \n",
      "2 1955-10-10 17:00:00  chester (uk/england)            NaN      gb    circle   \n",
      "3 1956-10-10 21:00:00                  edna             tx      us    circle   \n",
      "4 1960-10-10 20:00:00               kaneohe             hi      us     light   \n",
      "\n",
      "  length_of_encounter_seconds described_duration_of_encounter  \\\n",
      "0                        2700                      45 minutes   \n",
      "1                        7200                         1-2 hrs   \n",
      "2                          20                      20 seconds   \n",
      "3                          20                        1/2 hour   \n",
      "4                         900                      15 minutes   \n",
      "\n",
      "                                         description date_documented  \\\n",
      "0  This event took place in early fall around 194...       4/27/2004   \n",
      "1  1949 Lackland AFB&#44 TX.  Lights racing acros...      12/16/2005   \n",
      "2  Green/Orange circular disc over Chester&#44 En...       1/21/2008   \n",
      "3  My older brother and twin sister were leaving ...       1/17/2004   \n",
      "4  AS a Marine 1st Lt. flying an FJ4B fighter/att...       1/22/2004   \n",
      "\n",
      "     latitude   longitude  \n",
      "0  29.8830556  -97.941111  \n",
      "1    29.38421  -98.581082  \n",
      "2        53.2   -2.916667  \n",
      "3  28.9783333  -96.645833  \n",
      "4  21.4180556 -157.803611  \n",
      "\n",
      "Sighting days of the unidentified flying object (ufo) between 1949-10-10 and 1960-10-10:\n",
      "                Date_time                                               city  \\\n",
      "2     1955-10-10 17:00:00                               chester (uk/england)   \n",
      "3     1956-10-10 21:00:00                                               edna   \n",
      "480   1952-10-01 03:30:00                                    fukuoka (japan)   \n",
      "481   1952-10-01 12:00:00                                        kansas city   \n",
      "482   1954-10-01 19:00:00                                          flatwoods   \n",
      "483   1955-10-01 22:00:00                                   mono lake (area)   \n",
      "484   1956-10-01 19:00:00                                            newport   \n",
      "485   1957-10-01 16:00:00                                    nelchina (near)   \n",
      "486   1957-10-01 21:00:00                                           paterson   \n",
      "487   1957-10-01 22:00:00                                 northeast cape afs   \n",
      "488   1959-10-01 19:00:00                                       jacksonville   \n",
      "1707  1950-10-15 15:00:00                               sandy hook/highlands   \n",
      "1708  1952-10-15 21:00:00                                           richland   \n",
      "1709  1952-10-15 00:00:00                   edmonton (southwest of) (canada)   \n",
      "1710  1953-10-15 14:00:00                                       mauriceville   \n",
      "1711  1954-10-15 16:30:00                                             blanco   \n",
      "1712  1954-10-15 21:30:00                                           manistee   \n",
      "1713  1955-10-15 20:00:00                                          rhinebeck   \n",
      "1714  1956-10-15 01:00:00                         mechra bel ksire (morocco)   \n",
      "1715  1956-10-15 21:30:00                                         mt. vernon   \n",
      "1716  1957-10-15 02:00:00                             new york city (queens)   \n",
      "1717  1957-10-15 20:30:00                            houston (ellington afb)   \n",
      "1718  1957-10-15 22:00:00                       commerce city (n. of denver)   \n",
      "1719  1959-10-15 00:00:00                                         marysville   \n",
      "2280  1959-10-16 22:30:00                                        four states   \n",
      "3088  1958-10-20 21:00:00                                           st. paul   \n",
      "4428  1958-10-25 20:00:00                                         terrebonne   \n",
      "5413  1958-10-30 01:00:00                                          riverside   \n",
      "5636  1953-10-31 19:00:00                                        new orleans   \n",
      "6020  1955-10-03 06:00:00                            stanley (near) (canada)   \n",
      "...                   ...                                                ...   \n",
      "72743 1957-09-10 19:15:00                                           st. paul   \n",
      "72744 1960-09-10 10:00:00                                            wichita   \n",
      "73293 1954-09-01 13:00:00                                             geneva   \n",
      "73294 1957-09-01 16:00:00                                             graham   \n",
      "73295 1957-09-01 23:00:00                                        brecksville   \n",
      "73296 1958-09-01 20:00:00                                              fargo   \n",
      "74266 1958-09-14 19:30:00                                            ashland   \n",
      "74517 1952-09-15 14:00:00                                       norridgewock   \n",
      "74518 1954-09-15 09:30:00                                    palmer township   \n",
      "74519 1956-09-15 20:00:00                                       middle river   \n",
      "74520 1957-09-15 04:00:00                                            el paso   \n",
      "74521 1957-09-15 21:30:00                                       lake jackson   \n",
      "74522 1957-09-15 23:00:00                                             tacoma   \n",
      "74523 1959-09-15 01:00:00                                          goldfield   \n",
      "74524 1959-09-15 11:30:00                                             dayton   \n",
      "74525 1959-09-15 00:00:00                                             fallon   \n",
      "74526 1960-09-15 19:00:00                                          kingsport   \n",
      "74527 1960-09-15 20:30:00                                            seattle   \n",
      "74528 1960-09-15 21:00:00                                         susanville   \n",
      "74529 1960-09-15 21:30:00                                  barrhead (canada)   \n",
      "75992 1956-09-20 16:00:00                                               hope   \n",
      "75993 1957-09-20 00:00:00                                       hopkinsville   \n",
      "75994 1958-09-20 22:20:00  davis jct. (on highway72 east to highway 51 no...   \n",
      "76277 1956-09-21 00:00:00                                          greenwich   \n",
      "79261 1957-09-05 17:30:00                                los gatos (west of)   \n",
      "79262 1960-09-05 21:00:00                                            buffalo   \n",
      "79668 1958-09-07 19:00:00                                             arthur   \n",
      "80101 1952-09-09 20:00:00                                       philadelphia   \n",
      "80102 1954-09-09 12:30:00                                           beaumont   \n",
      "80103 1956-09-09 05:55:00                                            norfolk   \n",
      "\n",
      "      state/province country  UFO_shape length_of_encounter_seconds  \\\n",
      "2                NaN      gb     circle                          20   \n",
      "3                 tx      us     circle                          20   \n",
      "480              NaN     NaN       disk                        1200   \n",
      "481               mo      us       disk                          90   \n",
      "482               wv      us     circle                          60   \n",
      "483               ca     NaN     circle                           5   \n",
      "484               nh      us  rectangle                         300   \n",
      "485               ak      us    unknown                         180   \n",
      "486               nj      us       disk                          10   \n",
      "487               ak     NaN        NaN                         900   \n",
      "488               il      us    unknown                          60   \n",
      "1707              nj     NaN   triangle                         300   \n",
      "1708              wa      us     circle                           5   \n",
      "1709              ab      ca   cylinder                         120   \n",
      "1710              tx      us       disk                         300   \n",
      "1711              tx      us      other                         300   \n",
      "1712              mi      us     circle                           8   \n",
      "1713              ny      us      light                        2400   \n",
      "1714             NaN     NaN    unknown                         300   \n",
      "1715              in     NaN       disk                           8   \n",
      "1716              ny      us        NaN                       10800   \n",
      "1717              tx      us      light                           3   \n",
      "1718              co      us   fireball                         600   \n",
      "1719              wa      us      other                          75   \n",
      "2280              wv      us     sphere                         600   \n",
      "3088              mn      us      other                           2   \n",
      "4428              or      us    unknown                         120   \n",
      "5413              il      us      light                         600   \n",
      "5636              la      us       oval                           2   \n",
      "6020              nb      ca       disk                        7200   \n",
      "...              ...     ...        ...                         ...   \n",
      "72743             mn      us       disk                         300   \n",
      "72744             ks      us       oval                        1200   \n",
      "73293             ny      us       disk                         120   \n",
      "73294             tx      us     sphere                          30   \n",
      "73295             oh      us     circle                         180   \n",
      "73296             nd      us       disk                         900   \n",
      "74266             ky      us     circle                          45   \n",
      "74517             me      us       disk                         300   \n",
      "74518             pa     NaN      other                         600   \n",
      "74519             md      us     circle                          60   \n",
      "74520             tx      us       disk                         600   \n",
      "74521             tx      us   fireball                          13   \n",
      "74522             wa      us       disk                          20   \n",
      "74523             nv      us      light                          60   \n",
      "74524             oh      us       disk                         900   \n",
      "74525             nv      us       oval                        7200   \n",
      "74526             tn      us     circle                         300   \n",
      "74527             wa      us       disk                         120   \n",
      "74528             ca      us        NaN                         360   \n",
      "74529             ab      ca      other                        1200   \n",
      "75992             ar      us     circle                        1200   \n",
      "75993             ky      us      cigar                         600   \n",
      "75994             il     NaN   fireball                         300   \n",
      "76277             ct      us      light                        1290   \n",
      "79261             ca      us       disk                          60   \n",
      "79262             ny      us       oval                         180   \n",
      "79668             nd      us    unknown                         900   \n",
      "80101             pa      us     circle                         180   \n",
      "80102             tx      us       disk                         300   \n",
      "80103             va      us      cigar                          90   \n",
      "\n",
      "      described_duration_of_encounter  \\\n",
      "2                          20 seconds   \n",
      "3                            1/2 hour   \n",
      "480                     about 20 mins   \n",
      "481                           90 sec.   \n",
      "482                          1 minute   \n",
      "483                   five seconds+/-   \n",
      "484                         5 minutes   \n",
      "485                 3 minutes maximum   \n",
      "486                        10 seconds   \n",
      "487                          10-15min   \n",
      "488                          1 minute   \n",
      "1707                        5 minutes   \n",
      "1708                        5 seconds   \n",
      "1709                   approx. 2 min.   \n",
      "1710                           5 min.   \n",
      "1711                         3-5 mins   \n",
      "1712                        8 seconds   \n",
      "1713                       40 minutes   \n",
      "1714                approx. 5 minutes   \n",
      "1715                   7 to 8 seconds   \n",
      "1716                          2x3 hrs   \n",
      "1717                        3 seconds   \n",
      "1718                          10 min.   \n",
      "1719                             1:15   \n",
      "2280                       10 minutes   \n",
      "3088                        2 seconds   \n",
      "4428                      1-2 minutes   \n",
      "5413                   10 minutes (?)   \n",
      "5636                          seconds   \n",
      "6020                          2 hours   \n",
      "...                               ...   \n",
      "72743                    five minutes   \n",
      "72744                         20 min.   \n",
      "73293               couple of minutes   \n",
      "73294                          30 sec   \n",
      "73295                       3 minutes   \n",
      "73296                          15 min   \n",
      "74266                      45 seconds   \n",
      "74517                     4-5 minutes   \n",
      "74518                    9-10 minutes   \n",
      "74519                           1 min   \n",
      "74520                          10 min   \n",
      "74521                          13 sec   \n",
      "74522                      20 seconds   \n",
      "74523                        1 minute   \n",
      "74524                         15 mini   \n",
      "74525                         2 hours   \n",
      "74526                       5 minutes   \n",
      "74527    2 min. for me&#44 longer for   \n",
      "74528                     5-6 minutes   \n",
      "74529                      20 minutes   \n",
      "75992                      20 minutes   \n",
      "75993                      10 minutes   \n",
      "75994                            5min   \n",
      "76277                           21:30   \n",
      "79261              one minute or less   \n",
      "79262                       3 minutes   \n",
      "79668                       5-15 min.   \n",
      "80101                       3 minutes   \n",
      "80102                       5 minutes   \n",
      "80103                     1.5 minutes   \n",
      "\n",
      "                                             description date_documented  \\\n",
      "2      Green/Orange circular disc over Chester&#44 En...       1/21/2008   \n",
      "3      My older brother and twin sister were leaving ...       1/17/2004   \n",
      "480    UFO seen by multiple U. S. military personnel;...       12/7/2006   \n",
      "481    1952 daylight sighting of multiple discs in fo...      10/31/2008   \n",
      "482    I saw the craft go across the horizon.  It app...       4/12/2013   \n",
      "483    NO KNOWN AIRCRAFT (1955 and maybe today) COULD...       3/19/2009   \n",
      "484    Disk with glass center section&#44 and flames ...       4/16/2005   \n",
      "485    This incident occurred about October of 1956 o...       12/7/2006   \n",
      "486    Formation of approximately 8 light gray metall...       4/16/2005   \n",
      "487                           Radar sighting and filming       1/28/1999   \n",
      "488    Late 1959&#44 bright lights from a hovering ob...       4/16/2005   \n",
      "1707                 Triangles over New York Harbor 1950      10/30/2006   \n",
      "1708   Night sighting of seven large luminous UFOs fl...      11/21/2010   \n",
      "1709   Good evening folks---What I am about to discri...       1/17/2004   \n",
      "1710   My father was a WWW1 Vet. and loved hunting. T...       11/4/2002   \n",
      "1711   We saw a silver football&#44 motionless in the...       4/27/2004   \n",
      "1712   Saucer shaped&#44 moved north to south directl...       1/21/2008   \n",
      "1713   This very distant star-like point of light cam...       7/19/2010   \n",
      "1714   Air Defense radar reflected an object with gre...       4/16/2005   \n",
      "1715   Clear night observation of lumenescent object ...       7/11/2000   \n",
      "1716   tall unidentified being enters home - N.Y.C. 1957       3/21/2003   \n",
      "1717   5 to 6&quot; diameter light&#44 extremely fast...       9/17/2000   \n",
      "1718                        A lot of methane gas in area       9/19/2002   \n",
      "1719                              UFO  Over  Golf Course       4/27/2007   \n",
      "2280    MYSTERIOUS RED LIGHTS  IN NORTHERN WEST VIRGINIA       3/31/2008   \n",
      "3088   A dull-orange craft sped southbound at low alt...       3/16/2000   \n",
      "4428                           Piercing&#44 shrill tone.        8/5/2012   \n",
      "5413   Chicago suburbs&#44 strange lights and figures...       4/27/2007   \n",
      "5636                   20+ ovals flying over New Orleans        9/2/2005   \n",
      "6020                 This is a true story as given to me       4/16/2005   \n",
      "...                                                  ...             ...   \n",
      "72743  3 UFO&#39s saucer-shaped with flashing lights ...       4/16/2005   \n",
      "72744  MADE  ONY  A  HUMMING SOUND EVEN WHEN  IT TOOK...       7/25/2004   \n",
      "73293  While marching on a bivouac maneuver in (?) Se...      10/15/2003   \n",
      "73294              Three shiny spheres over Graham Texas       1/10/2009   \n",
      "73295  20 ft in diameter glowing ufo landed a few fee...        2/1/2007   \n",
      "73296   Flying Saucer seen while driving home from work.       5/27/2003   \n",
      "74266  Near observations of a slow moving silent obje...       2/14/2008   \n",
      "74517  SUNNY DAY&#44 WITHIN 450 FEET&#44 LOW...REPORT...       12/2/2000   \n",
      "74518  Saturn-shaped object appearing over the Pennsy...      11/28/2007   \n",
      "74519  three round blue-white disks in V formation mo...      12/16/2005   \n",
      "74520                             Undified Flying Object       2/14/2008   \n",
      "74521                    fireball seen on country  road.       1/10/2009   \n",
      "74522  a large disk spacecraft the size of a Boeing 7...        3/2/2004   \n",
      "74523  The object hovered over the pick-up&#44 and ra...       4/16/2005   \n",
      "74524  formation of 6 saucers moving from Wright Pate...        2/8/2005   \n",
      "74525  I was an Air Force radar operator at Fallon Na...      10/28/2002   \n",
      "74526  An orange&#44 circular craft drifted over the ...       1/28/1999   \n",
      "74527  Triple disc sighting prior to dusk with a ligh...       4/27/2004   \n",
      "74528  Three craft in formation&#44 high altitude&#44...       4/27/2004   \n",
      "74529  HBCCUFO CANADIAN REPORT:  Daddy&#44 there is a...       8/28/2003   \n",
      "75992  Sitting on a pond bank on sunny afternoon when...       4/16/2005   \n",
      "75993  4 matalic silver cigar shaped objects; no soun...       8/28/2003   \n",
      "75994  red light with A GLOW AROUND IT DRIVING TO WOR...        4/2/1999   \n",
      "76277                 Strange movements amoung the stars       8/12/2008   \n",
      "79261  3 craft seen in day light&#44 very low altitud...      10/30/2006   \n",
      "79262  Precise movements of a &quot;craft&quot; appar...       9/15/2005   \n",
      "79668  Two lights of alternating color traveling and ...      10/31/2003   \n",
      "80101                   saucers in a line over Phila Pa.      12/12/2009   \n",
      "80102  Aprox. 30 Disk shaped UFOs fell out of clouds ...       1/17/2004   \n",
      "80103  Unidentified Object Hovering over Interstate 2...       2/24/2007   \n",
      "\n",
      "         latitude   longitude  \n",
      "2            53.2   -2.916667  \n",
      "3      28.9783333  -96.645833  \n",
      "480     33.590355  130.401716  \n",
      "481    39.0997222  -94.578333  \n",
      "482    38.7230556  -80.650000  \n",
      "483     38.007059 -119.012259  \n",
      "484    43.3652778  -72.173889  \n",
      "485    61.9919444 -146.768611  \n",
      "486    40.9166667  -74.172222  \n",
      "487     70.292489 -161.903334  \n",
      "488    39.7338889  -90.228889  \n",
      "1707    40.443164  -73.989861  \n",
      "1708   46.2858333 -119.283333  \n",
      "1709        53.55 -113.500000  \n",
      "1710   30.2033333  -93.866111  \n",
      "1711   30.0977778  -98.421111  \n",
      "1712   44.2444444  -86.324167  \n",
      "1713   41.9266667  -73.913056  \n",
      "1714        34.56   -5.950000  \n",
      "1715    37.932266  -87.895027  \n",
      "1716   40.7141667  -74.006389  \n",
      "1717   29.7630556  -95.363056  \n",
      "1718   39.8083333 -104.933333  \n",
      "1719   48.0519444 -122.175833  \n",
      "2280   39.4797222  -80.310000  \n",
      "3088   44.9444444  -93.093056  \n",
      "4428   44.3530556 -121.176667  \n",
      "5413       41.835  -87.822778  \n",
      "5636   29.9544444  -90.075000  \n",
      "6020    55.416667 -104.550000  \n",
      "...           ...         ...  \n",
      "72743     44.9444  -93.093056  \n",
      "72744     37.6922  -97.337222  \n",
      "73293     42.8689  -76.978056  \n",
      "73294     33.1069  -98.589167  \n",
      "73295     41.3197  -81.626944  \n",
      "73296     46.8772  -96.789444  \n",
      "74266     38.4783  -82.638056  \n",
      "74517     44.7131  -69.791111  \n",
      "74518     40.7168  -75.249344  \n",
      "74519     39.3342  -76.439722  \n",
      "74520     31.7586 -106.486389  \n",
      "74521     29.0336  -95.434167  \n",
      "74522     47.2531 -122.443056  \n",
      "74523     37.7086 -117.234722  \n",
      "74524     39.7589  -84.191667  \n",
      "74525     39.4736 -118.776389  \n",
      "74526     36.5483  -82.561944  \n",
      "74527     47.6064 -122.330833  \n",
      "74528     40.4164 -120.651944  \n",
      "74529     54.1167 -114.400000  \n",
      "75992     33.6669  -93.591389  \n",
      "75993     36.8656  -87.488611  \n",
      "75994     42.1017  -89.093157  \n",
      "76277     41.0264  -73.628889  \n",
      "79261     37.2267 -121.973611  \n",
      "79262     42.8864  -78.878611  \n",
      "79668     47.1042  -97.217778  \n",
      "80101     39.9522  -75.164167  \n",
      "80102     30.0858  -94.101667  \n",
      "80103     36.8467  -76.285556  \n",
      "\n",
      "[465 rows x 11 columns]\n"
     ]
    }
   ],
   "source": [
    "\n",
    "print(\"Original Dataframe:\")\n",
    "print(df.head())\n",
    "print(\"\\nSighting days of the unidentified flying object (ufo) between 1949-10-10 and 1960-10-10:\")\n",
    "selected_period = df[(df['Date_time'] >= '1950-10-10 00:00:00') & (df['Date_time'] <= '1960-10-09 23:59:59')]\n",
    "print(selected_period)"
   ]
  },
  {
   "cell_type": "markdown",
   "metadata": {},
   "source": [
    "<h3>Q132. Write a Pandas program to extract the year, month, day, hour,\n",
    "minute, second, and weekday from unidentified flying object (UFO)\n",
    "reporting date.\n"
   ]
  },
  {
   "cell_type": "code",
   "execution_count": 28,
   "metadata": {},
   "outputs": [
    {
     "name": "stdout",
     "output_type": "stream",
     "text": [
      "\n",
      "Year:\n",
      "0    1949\n",
      "1    1949\n",
      "2    1955\n",
      "3    1956\n",
      "4    1960\n",
      "Name: Date_time, dtype: int64\n",
      "\n",
      "Month:\n",
      "0    10\n",
      "1    10\n",
      "2    10\n",
      "3    10\n",
      "4    10\n",
      "Name: Date_time, dtype: int64\n",
      "\n",
      "Day:\n",
      "0    10\n",
      "1    10\n",
      "2    10\n",
      "3    10\n",
      "4    10\n",
      "Name: Date_time, dtype: int64\n",
      "\n",
      "Hour:\n",
      "0    20\n",
      "1    21\n",
      "2    17\n",
      "3    21\n",
      "4    20\n",
      "Name: Date_time, dtype: int64\n",
      "\n",
      "Minute:\n",
      "0    30\n",
      "1     0\n",
      "2     0\n",
      "3     0\n",
      "4     0\n",
      "Name: Date_time, dtype: int64\n",
      "\n",
      "Second:\n",
      "0    0\n",
      "1    0\n",
      "2    0\n",
      "3    0\n",
      "4    0\n",
      "Name: Date_time, dtype: int64\n",
      "\n",
      "Weekday:\n",
      "0       Monday\n",
      "1       Monday\n",
      "2       Monday\n",
      "3    Wednesday\n",
      "4       Monday\n",
      "Name: Date_time, dtype: object\n"
     ]
    }
   ],
   "source": [
    "print(\"\\nYear:\")\n",
    "print(df.Date_time.dt.year.head())\n",
    "print(\"\\nMonth:\")\n",
    "print(df.Date_time.dt.month.head())\n",
    "print(\"\\nDay:\")\n",
    "print(df.Date_time.dt.day.head())\n",
    "print(\"\\nHour:\")\n",
    "print(df.Date_time.dt.hour.head())\n",
    "print(\"\\nMinute:\")\n",
    "print(df.Date_time.dt.minute.head())\n",
    "print(\"\\nSecond:\")\n",
    "print(df.Date_time.dt.second.head())\n",
    "print(\"\\nWeekday:\")\n",
    "print(df.Date_time.dt.weekday_name.head())"
   ]
  },
  {
   "cell_type": "markdown",
   "metadata": {},
   "source": [
    "<h3>Q133. Write a pandas program to count year-country wise frequency of\n",
    "reporting dates of the unidentified flying object(UFO)."
   ]
  },
  {
   "cell_type": "code",
   "execution_count": 37,
   "metadata": {},
   "outputs": [
    {
     "name": "stdout",
     "output_type": "stream",
     "text": [
      "\n",
      "Country-year wise frequency of reporting dates of UFO:\n"
     ]
    },
    {
     "data": {
      "text/html": [
       "<div>\n",
       "<style scoped>\n",
       "    .dataframe tbody tr th:only-of-type {\n",
       "        vertical-align: middle;\n",
       "    }\n",
       "\n",
       "    .dataframe tbody tr th {\n",
       "        vertical-align: top;\n",
       "    }\n",
       "\n",
       "    .dataframe thead th {\n",
       "        text-align: right;\n",
       "    }\n",
       "</style>\n",
       "<table border=\"1\" class=\"dataframe\">\n",
       "  <thead>\n",
       "    <tr style=\"text-align: right;\">\n",
       "      <th></th>\n",
       "      <th></th>\n",
       "      <th>Count</th>\n",
       "    </tr>\n",
       "    <tr>\n",
       "      <th>Year</th>\n",
       "      <th>country</th>\n",
       "      <th></th>\n",
       "    </tr>\n",
       "  </thead>\n",
       "  <tbody>\n",
       "    <tr>\n",
       "      <th>2012</th>\n",
       "      <th>us</th>\n",
       "      <td>6320</td>\n",
       "    </tr>\n",
       "    <tr>\n",
       "      <th>2013</th>\n",
       "      <th>us</th>\n",
       "      <td>6056</td>\n",
       "    </tr>\n",
       "    <tr>\n",
       "      <th>2011</th>\n",
       "      <th>us</th>\n",
       "      <td>4379</td>\n",
       "    </tr>\n",
       "    <tr>\n",
       "      <th>2008</th>\n",
       "      <th>us</th>\n",
       "      <td>4017</td>\n",
       "    </tr>\n",
       "    <tr>\n",
       "      <th>2009</th>\n",
       "      <th>us</th>\n",
       "      <td>3677</td>\n",
       "    </tr>\n",
       "    <tr>\n",
       "      <th>2010</th>\n",
       "      <th>us</th>\n",
       "      <td>3548</td>\n",
       "    </tr>\n",
       "    <tr>\n",
       "      <th>2007</th>\n",
       "      <th>us</th>\n",
       "      <td>3470</td>\n",
       "    </tr>\n",
       "    <tr>\n",
       "      <th>2004</th>\n",
       "      <th>us</th>\n",
       "      <td>3244</td>\n",
       "    </tr>\n",
       "    <tr>\n",
       "      <th>2005</th>\n",
       "      <th>us</th>\n",
       "      <td>3228</td>\n",
       "    </tr>\n",
       "    <tr>\n",
       "      <th>2003</th>\n",
       "      <th>us</th>\n",
       "      <td>2958</td>\n",
       "    </tr>\n",
       "    <tr>\n",
       "      <th>2006</th>\n",
       "      <th>us</th>\n",
       "      <td>2884</td>\n",
       "    </tr>\n",
       "    <tr>\n",
       "      <th>2001</th>\n",
       "      <th>us</th>\n",
       "      <td>2445</td>\n",
       "    </tr>\n",
       "    <tr>\n",
       "      <th>2002</th>\n",
       "      <th>us</th>\n",
       "      <td>2439</td>\n",
       "    </tr>\n",
       "    <tr>\n",
       "      <th>1999</th>\n",
       "      <th>us</th>\n",
       "      <td>2253</td>\n",
       "    </tr>\n",
       "    <tr>\n",
       "      <th>2000</th>\n",
       "      <th>us</th>\n",
       "      <td>2184</td>\n",
       "    </tr>\n",
       "    <tr>\n",
       "      <th>2014</th>\n",
       "      <th>us</th>\n",
       "      <td>1964</td>\n",
       "    </tr>\n",
       "    <tr>\n",
       "      <th>1998</th>\n",
       "      <th>us</th>\n",
       "      <td>1404</td>\n",
       "    </tr>\n",
       "    <tr>\n",
       "      <th>1997</th>\n",
       "      <th>us</th>\n",
       "      <td>1009</td>\n",
       "    </tr>\n",
       "    <tr>\n",
       "      <th>1995</th>\n",
       "      <th>us</th>\n",
       "      <td>915</td>\n",
       "    </tr>\n",
       "    <tr>\n",
       "      <th>1996</th>\n",
       "      <th>us</th>\n",
       "      <td>646</td>\n",
       "    </tr>\n",
       "    <tr>\n",
       "      <th>1994</th>\n",
       "      <th>us</th>\n",
       "      <td>324</td>\n",
       "    </tr>\n",
       "    <tr>\n",
       "      <th>2003</th>\n",
       "      <th>ca</th>\n",
       "      <td>294</td>\n",
       "    </tr>\n",
       "    <tr>\n",
       "      <th>2004</th>\n",
       "      <th>ca</th>\n",
       "      <td>265</td>\n",
       "    </tr>\n",
       "    <tr>\n",
       "      <th>1978</th>\n",
       "      <th>us</th>\n",
       "      <td>258</td>\n",
       "    </tr>\n",
       "    <tr>\n",
       "      <th>2013</th>\n",
       "      <th>ca</th>\n",
       "      <td>248</td>\n",
       "    </tr>\n",
       "    <tr>\n",
       "      <th>1975</th>\n",
       "      <th>us</th>\n",
       "      <td>247</td>\n",
       "    </tr>\n",
       "    <tr>\n",
       "      <th>2012</th>\n",
       "      <th>ca</th>\n",
       "      <td>242</td>\n",
       "    </tr>\n",
       "    <tr>\n",
       "      <th>1993</th>\n",
       "      <th>us</th>\n",
       "      <td>228</td>\n",
       "    </tr>\n",
       "    <tr>\n",
       "      <th>1976</th>\n",
       "      <th>us</th>\n",
       "      <td>222</td>\n",
       "    </tr>\n",
       "    <tr>\n",
       "      <th>1974</th>\n",
       "      <th>us</th>\n",
       "      <td>219</td>\n",
       "    </tr>\n",
       "    <tr>\n",
       "      <th>...</th>\n",
       "      <th>...</th>\n",
       "      <td>...</td>\n",
       "    </tr>\n",
       "    <tr>\n",
       "      <th>1925</th>\n",
       "      <th>us</th>\n",
       "      <td>1</td>\n",
       "    </tr>\n",
       "    <tr>\n",
       "      <th rowspan=\"2\" valign=\"top\">1962</th>\n",
       "      <th>gb</th>\n",
       "      <td>1</td>\n",
       "    </tr>\n",
       "    <tr>\n",
       "      <th>de</th>\n",
       "      <td>1</td>\n",
       "    </tr>\n",
       "    <tr>\n",
       "      <th>1998</th>\n",
       "      <th>de</th>\n",
       "      <td>1</td>\n",
       "    </tr>\n",
       "    <tr>\n",
       "      <th>1951</th>\n",
       "      <th>gb</th>\n",
       "      <td>1</td>\n",
       "    </tr>\n",
       "    <tr>\n",
       "      <th>1970</th>\n",
       "      <th>de</th>\n",
       "      <td>1</td>\n",
       "    </tr>\n",
       "    <tr>\n",
       "      <th>1973</th>\n",
       "      <th>de</th>\n",
       "      <td>1</td>\n",
       "    </tr>\n",
       "    <tr>\n",
       "      <th>1994</th>\n",
       "      <th>au</th>\n",
       "      <td>1</td>\n",
       "    </tr>\n",
       "    <tr>\n",
       "      <th>1957</th>\n",
       "      <th>gb</th>\n",
       "      <td>1</td>\n",
       "    </tr>\n",
       "    <tr>\n",
       "      <th>1946</th>\n",
       "      <th>ca</th>\n",
       "      <td>1</td>\n",
       "    </tr>\n",
       "    <tr>\n",
       "      <th>1920</th>\n",
       "      <th>us</th>\n",
       "      <td>1</td>\n",
       "    </tr>\n",
       "    <tr>\n",
       "      <th>1991</th>\n",
       "      <th>gb</th>\n",
       "      <td>1</td>\n",
       "    </tr>\n",
       "    <tr>\n",
       "      <th>1943</th>\n",
       "      <th>us</th>\n",
       "      <td>1</td>\n",
       "    </tr>\n",
       "    <tr>\n",
       "      <th>1984</th>\n",
       "      <th>au</th>\n",
       "      <td>1</td>\n",
       "    </tr>\n",
       "    <tr>\n",
       "      <th>1992</th>\n",
       "      <th>de</th>\n",
       "      <td>1</td>\n",
       "    </tr>\n",
       "    <tr>\n",
       "      <th>1981</th>\n",
       "      <th>de</th>\n",
       "      <td>1</td>\n",
       "    </tr>\n",
       "    <tr>\n",
       "      <th>1943</th>\n",
       "      <th>gb</th>\n",
       "      <td>1</td>\n",
       "    </tr>\n",
       "    <tr>\n",
       "      <th>1981</th>\n",
       "      <th>au</th>\n",
       "      <td>1</td>\n",
       "    </tr>\n",
       "    <tr>\n",
       "      <th>1979</th>\n",
       "      <th>de</th>\n",
       "      <td>1</td>\n",
       "    </tr>\n",
       "    <tr>\n",
       "      <th>1991</th>\n",
       "      <th>de</th>\n",
       "      <td>1</td>\n",
       "    </tr>\n",
       "    <tr>\n",
       "      <th>1979</th>\n",
       "      <th>au</th>\n",
       "      <td>1</td>\n",
       "    </tr>\n",
       "    <tr>\n",
       "      <th>1999</th>\n",
       "      <th>de</th>\n",
       "      <td>1</td>\n",
       "    </tr>\n",
       "    <tr>\n",
       "      <th>1958</th>\n",
       "      <th>au</th>\n",
       "      <td>1</td>\n",
       "    </tr>\n",
       "    <tr>\n",
       "      <th>1977</th>\n",
       "      <th>au</th>\n",
       "      <td>1</td>\n",
       "    </tr>\n",
       "    <tr>\n",
       "      <th>1958</th>\n",
       "      <th>ca</th>\n",
       "      <td>1</td>\n",
       "    </tr>\n",
       "    <tr>\n",
       "      <th>1941</th>\n",
       "      <th>us</th>\n",
       "      <td>1</td>\n",
       "    </tr>\n",
       "    <tr>\n",
       "      <th>1975</th>\n",
       "      <th>de</th>\n",
       "      <td>1</td>\n",
       "    </tr>\n",
       "    <tr>\n",
       "      <th>1974</th>\n",
       "      <th>de</th>\n",
       "      <td>1</td>\n",
       "    </tr>\n",
       "    <tr>\n",
       "      <th rowspan=\"2\" valign=\"top\">1960</th>\n",
       "      <th>au</th>\n",
       "      <td>1</td>\n",
       "    </tr>\n",
       "    <tr>\n",
       "      <th>gb</th>\n",
       "      <td>1</td>\n",
       "    </tr>\n",
       "  </tbody>\n",
       "</table>\n",
       "<p>282 rows × 1 columns</p>\n",
       "</div>"
      ],
      "text/plain": [
       "              Count\n",
       "Year country       \n",
       "2012 us        6320\n",
       "2013 us        6056\n",
       "2011 us        4379\n",
       "2008 us        4017\n",
       "2009 us        3677\n",
       "2010 us        3548\n",
       "2007 us        3470\n",
       "2004 us        3244\n",
       "2005 us        3228\n",
       "2003 us        2958\n",
       "2006 us        2884\n",
       "2001 us        2445\n",
       "2002 us        2439\n",
       "1999 us        2253\n",
       "2000 us        2184\n",
       "2014 us        1964\n",
       "1998 us        1404\n",
       "1997 us        1009\n",
       "1995 us         915\n",
       "1996 us         646\n",
       "1994 us         324\n",
       "2003 ca         294\n",
       "2004 ca         265\n",
       "1978 us         258\n",
       "2013 ca         248\n",
       "1975 us         247\n",
       "2012 ca         242\n",
       "1993 us         228\n",
       "1976 us         222\n",
       "1974 us         219\n",
       "...             ...\n",
       "1925 us           1\n",
       "1962 gb           1\n",
       "     de           1\n",
       "1998 de           1\n",
       "1951 gb           1\n",
       "1970 de           1\n",
       "1973 de           1\n",
       "1994 au           1\n",
       "1957 gb           1\n",
       "1946 ca           1\n",
       "1920 us           1\n",
       "1991 gb           1\n",
       "1943 us           1\n",
       "1984 au           1\n",
       "1992 de           1\n",
       "1981 de           1\n",
       "1943 gb           1\n",
       "1981 au           1\n",
       "1979 de           1\n",
       "1991 de           1\n",
       "1979 au           1\n",
       "1999 de           1\n",
       "1958 au           1\n",
       "1977 au           1\n",
       "1958 ca           1\n",
       "1941 us           1\n",
       "1975 de           1\n",
       "1974 de           1\n",
       "1960 au           1\n",
       "     gb           1\n",
       "\n",
       "[282 rows x 1 columns]"
      ]
     },
     "execution_count": 37,
     "metadata": {},
     "output_type": "execute_result"
    }
   ],
   "source": [
    "df['Year'] = df['Date_time'].apply(lambda x: int(x.year))\n",
    "result = df.groupby(['Year', 'country']).size().to_frame('Count')\n",
    "print(\"\\nCountry-year wise frequency of reporting dates of UFO:\")\n",
    "result.sort_values(by=['Count'],ascending=False)"
   ]
  },
  {
   "cell_type": "markdown",
   "metadata": {},
   "source": [
    "<h3>Q134. Write a pandas program to get the difference (in days) between\n",
    "documented date and reporting date of unidentified flying object\n",
    "(UFO)"
   ]
  },
  {
   "cell_type": "code",
   "execution_count": 40,
   "metadata": {},
   "outputs": [
    {
     "name": "stdout",
     "output_type": "stream",
     "text": [
      "\n",
      "Difference (in days) between documented date and reporting date of UFO:\n",
      "0        19922\n",
      "1        20520\n",
      "2        19095\n",
      "3        17264\n",
      "4        15808\n",
      "5        16634\n",
      "6        14736\n",
      "7        12409\n",
      "8        15500\n",
      "9        14092\n",
      "10       12803\n",
      "11       14489\n",
      "12       10805\n",
      "13       13640\n",
      "14       14006\n",
      "15       12027\n",
      "16       12725\n",
      "17       10940\n",
      "18       10319\n",
      "19        9069\n",
      "20       11801\n",
      "21       10880\n",
      "22       11814\n",
      "23       13633\n",
      "24       12115\n",
      "25        9998\n",
      "26        9654\n",
      "27       10340\n",
      "28        9320\n",
      "29        9232\n",
      "         ...  \n",
      "80302       14\n",
      "80303       14\n",
      "80304       14\n",
      "80305       14\n",
      "80306       14\n",
      "80307       14\n",
      "80308       14\n",
      "80309       14\n",
      "80310       14\n",
      "80311       14\n",
      "80312       14\n",
      "80313       20\n",
      "80314       20\n",
      "80315       -1\n",
      "80316       20\n",
      "80317       -1\n",
      "80318       -1\n",
      "80319       20\n",
      "80320       20\n",
      "80321       20\n",
      "80322       20\n",
      "80323       20\n",
      "80324       20\n",
      "80325       20\n",
      "80326       20\n",
      "80327       20\n",
      "80328       20\n",
      "80329       20\n",
      "80330       20\n",
      "80331       20\n",
      "Name: Difference, Length: 80332, dtype: int64\n"
     ]
    }
   ],
   "source": [
    "#df['date_documented']=pd.to_datetime(df.date_documented.str.replace(\"24:\",\"00:\"))\n",
    "print(\"\\nDifference (in days) between documented date and reporting date of UFO:\")\n",
    "df['Difference'] = (df['date_documented'] - df['Date_time']).dt.days\n",
    "print(df['Difference'])"
   ]
  },
  {
   "cell_type": "markdown",
   "metadata": {},
   "source": [
    "<h3>Q135. Write a pandas program to generate sequences of fixed frequency dates and time spans."
   ]
  },
  {
   "cell_type": "code",
   "execution_count": 41,
   "metadata": {},
   "outputs": [
    {
     "name": "stdout",
     "output_type": "stream",
     "text": [
      "Hourly frequency:\n",
      "DatetimeIndex(['2018-01-01 00:00:00', '2018-01-01 01:00:00',\n",
      "               '2018-01-01 02:00:00', '2018-01-01 03:00:00',\n",
      "               '2018-01-01 04:00:00', '2018-01-01 05:00:00',\n",
      "               '2018-01-01 06:00:00', '2018-01-01 07:00:00',\n",
      "               '2018-01-01 08:00:00', '2018-01-01 09:00:00',\n",
      "               '2018-01-01 10:00:00', '2018-01-01 11:00:00'],\n",
      "              dtype='datetime64[ns]', freq='H')\n",
      "\n",
      "Minutely frequency:\n",
      "DatetimeIndex(['2018-01-01 00:00:00', '2018-01-01 00:01:00',\n",
      "               '2018-01-01 00:02:00', '2018-01-01 00:03:00',\n",
      "               '2018-01-01 00:04:00', '2018-01-01 00:05:00',\n",
      "               '2018-01-01 00:06:00', '2018-01-01 00:07:00',\n",
      "               '2018-01-01 00:08:00', '2018-01-01 00:09:00',\n",
      "               '2018-01-01 00:10:00', '2018-01-01 00:11:00'],\n",
      "              dtype='datetime64[ns]', freq='T')\n",
      "\n",
      "Secondly frequency:\n",
      "DatetimeIndex(['2018-01-01 00:00:00', '2018-01-01 00:00:01',\n",
      "               '2018-01-01 00:00:02', '2018-01-01 00:00:03',\n",
      "               '2018-01-01 00:00:04', '2018-01-01 00:00:05',\n",
      "               '2018-01-01 00:00:06', '2018-01-01 00:00:07',\n",
      "               '2018-01-01 00:00:08', '2018-01-01 00:00:09',\n",
      "               '2018-01-01 00:00:10', '2018-01-01 00:00:11'],\n",
      "              dtype='datetime64[ns]', freq='S')\n",
      "nMultiple Hourly frequency:\n",
      "DatetimeIndex(['2018-01-01 00:00:00', '2018-01-01 02:00:00',\n",
      "               '2018-01-01 04:00:00', '2018-01-01 06:00:00',\n",
      "               '2018-01-01 08:00:00', '2018-01-01 10:00:00',\n",
      "               '2018-01-01 12:00:00', '2018-01-01 14:00:00',\n",
      "               '2018-01-01 16:00:00', '2018-01-01 18:00:00',\n",
      "               '2018-01-01 20:00:00', '2018-01-01 22:00:00'],\n",
      "              dtype='datetime64[ns]', freq='2H')\n",
      "\n",
      "Multiple Minutely frequency:\n",
      "DatetimeIndex(['2018-01-01 00:00:00', '2018-01-01 00:05:00',\n",
      "               '2018-01-01 00:10:00', '2018-01-01 00:15:00',\n",
      "               '2018-01-01 00:20:00', '2018-01-01 00:25:00',\n",
      "               '2018-01-01 00:30:00', '2018-01-01 00:35:00',\n",
      "               '2018-01-01 00:40:00', '2018-01-01 00:45:00',\n",
      "               '2018-01-01 00:50:00', '2018-01-01 00:55:00'],\n",
      "              dtype='datetime64[ns]', freq='5T')\n",
      "\n",
      "Multiple Secondly frequency:\n",
      "DatetimeIndex(['2018-03-30', '2018-06-29', '2018-09-28', '2018-12-31',\n",
      "               '2019-03-29', '2019-06-28', '2019-09-30', '2019-12-31',\n",
      "               '2020-03-31', '2020-06-30', '2020-09-30', '2020-12-31'],\n",
      "              dtype='datetime64[ns]', freq='BQ-DEC')\n",
      "\n",
      "Weekly frequency:\n",
      "DatetimeIndex(['2018-01-07', '2018-01-14', '2018-01-21', '2018-01-28',\n",
      "               '2018-02-04', '2018-02-11', '2018-02-18', '2018-02-25',\n",
      "               '2018-03-04', '2018-03-11', '2018-03-18', '2018-03-25'],\n",
      "              dtype='datetime64[ns]', freq='W-SUN')\n",
      "\n",
      "Combine together day and intraday offsets-1:\n",
      "DatetimeIndex(['2018-01-01 00:00:00', '2018-01-01 02:20:00',\n",
      "               '2018-01-01 04:40:00', '2018-01-01 07:00:00',\n",
      "               '2018-01-01 09:20:00', '2018-01-01 11:40:00',\n",
      "               '2018-01-01 14:00:00', '2018-01-01 16:20:00',\n",
      "               '2018-01-01 18:40:00', '2018-01-01 21:00:00',\n",
      "               '2018-01-01 23:20:00', '2018-01-02 01:40:00'],\n",
      "              dtype='datetime64[ns]', freq='140T')\n"
     ]
    }
   ],
   "source": [
    "dtr = pd.date_range('2018-01-01', periods=12, freq='H')\n",
    "print(\"Hourly frequency:\")\n",
    "print(dtr)\n",
    "dtr = pd.date_range('2018-01-01', periods=12, freq='min')\n",
    "print(\"\\nMinutely frequency:\")\n",
    "print(dtr)\n",
    "dtr = pd.date_range('2018-01-01', periods=12, freq='S')\n",
    "print(\"\\nSecondly frequency:\")\n",
    "print(dtr)\n",
    "dtr = pd.date_range('2018-01-01', periods=12, freq='2H')\n",
    "print(\"nMultiple Hourly frequency:\")\n",
    "print(dtr)\n",
    "dtr = pd.date_range('2018-01-01', periods=12, freq='5min')\n",
    "print(\"\\nMultiple Minutely frequency:\")\n",
    "print(dtr)\n",
    "dtr = pd.date_range('2018-01-01', periods=12, freq='BQ')\n",
    "print(\"\\nMultiple Secondly frequency:\")\n",
    "print(dtr)\n",
    "dtr = pd.date_range('2018-01-01', periods=12, freq='w')\n",
    "print(\"\\nWeekly frequency:\")\n",
    "print(dtr)\n",
    "dtr = pd.date_range('2018-01-01', periods=12, freq='2h20min')\n",
    "print(\"\\nCombine together day and intraday offsets-1:\")\n",
    "print(dtr)"
   ]
  },
  {
   "cell_type": "markdown",
   "metadata": {},
   "source": [
    "<h3>Q136. Write a pandas program to manipulate and convert date times\n",
    "with timezone information."
   ]
  },
  {
   "cell_type": "code",
   "execution_count": 47,
   "metadata": {},
   "outputs": [
    {
     "name": "stdout",
     "output_type": "stream",
     "text": [
      "DatetimeIndex(['2018-01-01 00:00:00+00:00', '2018-01-01 01:00:00+00:00',\n",
      "               '2018-01-01 02:00:00+00:00'],\n",
      "              dtype='datetime64[ns, UTC]', freq='H')\n",
      "\n",
      "From UTC to America/Los_Angeles:\n",
      "DatetimeIndex(['2017-12-31 16:00:00-08:00', '2017-12-31 17:00:00-08:00',\n",
      "               '2017-12-31 18:00:00-08:00'],\n",
      "              dtype='datetime64[ns, America/Los_Angeles]', freq='H')\n"
     ]
    }
   ],
   "source": [
    "df = pd.date_range('2018-01-01', periods=3, freq='H')\n",
    "df1 = df.tz_localize('UTC')\n",
    "print(df1)\n",
    "print(\"\\nFrom UTC to America/Los_Angeles:\")\n",
    "df2 = df1.tz_convert('America/Los_Angeles')\n",
    "print(df2)"
   ]
  },
  {
   "cell_type": "markdown",
   "metadata": {},
   "source": [
    "<h3>Q137. Write a pandas program to create the graphical analysis of UFO\n",
    "(unidentified flying object) Sightings year."
   ]
  },
  {
   "cell_type": "code",
   "execution_count": 52,
   "metadata": {},
   "outputs": [
    {
     "name": "stdout",
     "output_type": "stream",
     "text": [
      "2012    7357\n",
      "2013    7037\n",
      "2011    5107\n",
      "2008    4820\n",
      "2009    4541\n",
      "2010    4283\n",
      "2007    4269\n",
      "2004    4257\n",
      "2005    4083\n",
      "2003    3962\n",
      "2006    3721\n",
      "2002    3235\n",
      "2001    3122\n",
      "1999    2805\n",
      "2000    2772\n",
      "2014    2260\n",
      "1998    1767\n",
      "1997    1255\n",
      "1995    1078\n",
      "1996     834\n",
      "1994     421\n",
      "1978     335\n",
      "1975     319\n",
      "1993     309\n",
      "1976     279\n",
      "1974     273\n",
      "1977     268\n",
      "1990     259\n",
      "1992     252\n",
      "1989     251\n",
      "        ... \n",
      "1952      49\n",
      "1961      48\n",
      "1958      47\n",
      "1956      45\n",
      "1947      37\n",
      "1953      33\n",
      "1955      32\n",
      "1950      28\n",
      "1951      20\n",
      "1949      16\n",
      "1946      10\n",
      "1943       9\n",
      "1944       9\n",
      "1945       9\n",
      "1948       8\n",
      "1939       3\n",
      "1910       2\n",
      "1937       2\n",
      "1936       2\n",
      "1931       2\n",
      "1942       2\n",
      "1929       1\n",
      "1930       1\n",
      "1933       1\n",
      "1925       1\n",
      "1934       1\n",
      "1906       1\n",
      "1941       1\n",
      "1916       1\n",
      "1920       1\n",
      "Name: ufo_yr, Length: 87, dtype: int64 \n",
      " ==================================================\n"
     ]
    },
    {
     "data": {
      "image/png": "[encoded data removed]",
      "text/plain": [
       "<Figure size 1080x576 with 1 Axes>"
      ]
     },
     "metadata": {
      "needs_background": "light"
     },
     "output_type": "display_data"
    }
   ],
   "source": [
    "import pandas as pd\n",
    "import matplotlib.pyplot as plt\n",
    "import seaborn as sns\n",
    "\n",
    "df[\"ufo_yr\"] = df.Date_time.dt.year\n",
    "years_data = df.ufo_yr.value_counts()\n",
    "print(years_data,\"\\n\",\"=\"*50)\n",
    "years_index = years_data.index  # x ticks\n",
    "years_values = years_data.get_values()\n",
    "plt.figure(figsize=(15,8))\n",
    "plt.xticks(rotation = 60)\n",
    "plt.title('UFO Sightings by Year')\n",
    "plt.xlabel(\"Year\")\n",
    "plt.ylabel(\"Number of reports\")\n",
    "years_plot = sns.barplot(x=years_index[:60],y=years_values[:60], palette = \"Reds\")"
   ]
  },
  {
   "cell_type": "markdown",
   "metadata": {},
   "source": [
    "<h3>Q138. Write a pandas program to create a comparison of the top 10\n",
    "years in which the (UFO) was sighted VS each Month."
   ]
  },
  {
   "cell_type": "code",
   "execution_count": 62,
   "metadata": {},
   "outputs": [
    {
     "name": "stdout",
     "output_type": "stream",
     "text": [
      "\n",
      "Comparison of the top 10 years in which the UFO was sighted vs the hours of the day:\n",
      "           0:00  1:00  2:00  3:00  4:00  5:00  6:00  7:00  8:00  9:00  ...    \\\n",
      "Date_time                                                              ...     \n",
      "2003        247   194   156   105    74    80    65    49    32    34  ...     \n",
      "2004        256   172   134   118   117    97    75    54    37    53  ...     \n",
      "2005        258   159   119   116    74    87    64    52    42    47  ...     \n",
      "2007        234   166   107    99    92   112    84    38    53    57  ...     \n",
      "2008        321   203   149   120    81   106    85    67    64    65  ...     \n",
      "2009        300   158    97    94   106    90    71    37    46    73  ...     \n",
      "2010        288   155   104    90    76    87    59    47    44    67  ...     \n",
      "2011        301   205   114   122    84   106    71    42    59    71  ...     \n",
      "2012        405   244   160   152   120   122   113    85    71    96  ...     \n",
      "2013        370   201   127   109    88    94    93    79    70    73  ...     \n",
      "\n",
      "           14:00  15:00  16:00  17:00  18:00  19:00  20:00  21:00  22:00  \\\n",
      "Date_time                                                                  \n",
      "2003          83     80    123    144    225    265    378    439    474   \n",
      "2004          73     99    105    129    186    319    469    508    536   \n",
      "2005          87     90     95    153    226    384    400    485    453   \n",
      "2007          83     90     83    160    221    295    429    557    567   \n",
      "2008          92     75     89    151    259    380    495    578    581   \n",
      "2009          62     66     82    143    227    380    544    686    555   \n",
      "2010          38     76     72     98    182    293    422    687    658   \n",
      "2011          58     74     72    163    245    399    587    829    758   \n",
      "2012          65     87    108    204    309    559    901   1307   1148   \n",
      "2013          44     55    114    224    371    593    919   1332   1141   \n",
      "\n",
      "           23:00  \n",
      "Date_time         \n",
      "2003         448  \n",
      "2004         410  \n",
      "2005         415  \n",
      "2007         425  \n",
      "2008         502  \n",
      "2009         455  \n",
      "2010         463  \n",
      "2011         474  \n",
      "2012         759  \n",
      "2013         673  \n",
      "\n",
      "[10 rows x 24 columns]\n"
     ]
    }
   ],
   "source": [
    "most_sightings_years = df['Date_time'].dt.year.value_counts().head(10)\n",
    "def is_top_years(year):\n",
    "   if year in most_sightings_years.index:\n",
    "       return year\n",
    "hour_v_year = df.pivot_table(columns=df['Date_time'].dt.hour,index=df['Date_time'].dt.year.apply(is_top_years),aggfunc='count',values='city')\n",
    "hour_v_year.columns = hour_v_year.columns.astype(int)\n",
    "hour_v_year.columns = hour_v_year.columns.astype(str) + \":00\"\n",
    "hour_v_year.index = hour_v_year.index.astype(int)\n",
    "print(\"\\nComparison of the top 10 years in which the UFO was sighted vs the hours of the day:\")\n",
    "print(hour_v_year.head(10))"
   ]
  },
  {
   "cell_type": "markdown",
   "metadata": {},
   "source": [
    "<h3>Q139. Write a pandas program to create a heatmap (rectangular data as\n",
    "a colour-encoded matrix) for comparison of top 10 years in\n",
    "which (UFO ) was sighted VS each Month."
   ]
  },
  {
   "cell_type": "code",
   "execution_count": 73,
   "metadata": {},
   "outputs": [
    {
     "name": "stdout",
     "output_type": "stream",
     "text": [
      "\n",
      "Heatmap for comparison of the top 10 years in which the UFO was sighted vs each month:\n"
     ]
    },
    {
     "data": {
      "image/png": "[encoded data removed]",
      "text/plain": [
       "<Figure size 720x576 with 2 Axes>"
      ]
     },
     "metadata": {
      "needs_background": "light"
     },
     "output_type": "display_data"
    }
   ],
   "source": [
    "import pandas as pd\n",
    "import matplotlib.pyplot as plt\n",
    "import seaborn as sns\n",
    "#Source: https://bit.ly/1l9yjm9\n",
    "df = pd.read_csv('ufo.csv')\n",
    "df['Date_time'] = pd.to_datetime(df.Date_time.str.replace(\"24:\",\"00:\"))\n",
    "most_sightings_years = df['Date_time'].dt.year.value_counts().head(10)\n",
    "most_sightings_years\n",
    "def is_top_years(year):\n",
    "    if year in most_sightings_years.index:\n",
    "        return year\n",
    "month_vs_year = pd.pivot_table(df, columns=df['Date_time'].dt.month,index=df['Date_time'].dt.year.apply(is_top_years),aggfunc='count',values=\"city\")\n",
    "\n",
    "month_vs_year.columns = month_vs_year.columns.astype(int)\n",
    "print(\"\\nHeatmap for comparison of the top 10 years in which the UFO was sighted vs each month:\")\n",
    "plt.figure(figsize=(10,8))\n",
    "sns.heatmap(month_vs_year)\n",
    "plt.xlabel('Month').set_size(20)\n",
    "plt.ylabel('Year').set_size(20)"
   ]
  },
  {
   "cell_type": "markdown",
   "metadata": {},
   "source": [
    "<h3>Q140. Write a pandas program to create a Timewheel of Hour VS Year\n",
    "comparison of the top 10 years in which the (UFO) was sighted."
   ]
  },
  {
   "cell_type": "code",
   "execution_count": 67,
   "metadata": {},
   "outputs": [
    {
     "name": "stdout",
     "output_type": "stream",
     "text": [
      "\n",
      "Comparison of the top 10 years in which the UFO was sighted vs each month:\n"
     ]
    },
    {
     "data": {
      "image/png": "[encoded data removed]",
      "text/plain": [
       "<Figure size 576x576 with 1 Axes>"
      ]
     },
     "metadata": {},
     "output_type": "display_data"
    }
   ],
   "source": [
    "import matplotlib as mpl\n",
    "import matplotlib.cm as cm\n",
    "\n",
    "df = pd.read_csv(r'ufo.csv')\n",
    "df['Date_time'] = pd.to_datetime(df.Date_time.str.replace(\"24:\",\"00:\"))\n",
    "most_sightings_years = df['Date_time'].dt.year.value_counts().head(10)\n",
    "def is_top_years(year):\n",
    "   if year in most_sightings_years.index:\n",
    "       return year\n",
    "month_vs_year = df.pivot_table(columns=df['Date_time'].dt.month,index=df['Date_time'].dt.year.apply(is_top_years),aggfunc='count',values='city')\n",
    "month_vs_year.index = month_vs_year.index.astype(int)\n",
    "month_vs_year.columns = month_vs_year.columns.astype(int)\n",
    "print(\"\\nComparison of the top 10 years in which the UFO was sighted vs each month:\")\n",
    "def pie_heatmap(table, cmap='coolwarm_r', vmin=None, vmax=None,inner_r=0.25, pie_args={}):\n",
    "   n, m = table.shape\n",
    "   vmin= table.min().min() if vmin is None else vmin\n",
    "   vmax= table.max().max() if vmax is None else vmax\n",
    "\n",
    "   centre_circle = plt.Circle((0,0),inner_r,edgecolor='black',facecolor='white',fill=True,linewidth=0.25)\n",
    "   plt.gcf().gca().add_artist(centre_circle)\n",
    "   norm = mpl.colors.Normalize(vmin=vmin, vmax=vmax)\n",
    "   cmapper = cm.ScalarMappable(norm=norm, cmap=cmap)\n",
    "\n",
    "   for i, (row_name, row) in enumerate(table.iterrows()):\n",
    "       labels = None if i > 0 else table.columns\n",
    "       wedges = plt.pie([1] * m,radius=inner_r+float(n-i)/n, colors=[cmapper.to_rgba(x) for x in row.values],\n",
    "           labels=labels, startangle=90, counterclock=False, wedgeprops={'linewidth':-1}, **pie_args)\n",
    "       plt.setp(wedges[0], edgecolor='grey',linewidth=1.5)\n",
    "       wedges = plt.pie([1], radius=inner_r+float(n-i-1)/n, colors=['w'], labels=[row_name], startangle=-90, wedgeprops={'linewidth':0})\n",
    "       plt.setp(wedges[0], edgecolor='grey',linewidth=1.5)\n",
    "plt.figure(figsize=(8,8))\n",
    "plt.title(\"Timewheel of Hour Vs Year\",y=1.08,fontsize=30)\n",
    "pie_heatmap(month_vs_year, vmin=-20,vmax=80,inner_r=0.2)"
   ]
  },
  {
   "cell_type": "markdown",
   "metadata": {},
   "source": [
    "<h3>Q141. Write a python program to draw the line using given axis values\n",
    "with the suitable label in the x-axis, y-axis, and a title."
   ]
  },
  {
   "cell_type": "code",
   "execution_count": 76,
   "metadata": {},
   "outputs": [
    {
     "data": {
      "image/png": "[encoded data removed]",
      "text/plain": [
       "<Figure size 432x288 with 1 Axes>"
      ]
     },
     "metadata": {
      "needs_background": "light"
     },
     "output_type": "display_data"
    }
   ],
   "source": [
    "import matplotlib.pyplot as plt\n",
    "import numpy as np\n",
    "\n",
    "x = [1,2,3]\n",
    "# y axis values\n",
    "y = [2,4,1]\n",
    "# Plot lines and/or markers to the Axes.\n",
    "plt.plot(x, y)\n",
    "# Set the x axis label of the current axis.\n",
    "plt.xlabel('x - axis')\n",
    "# Set the y axis label of the current axis.\n",
    "plt.ylabel('y - axis')\n",
    "# Set a title \n",
    "plt.title('Sample graph!')\n",
    "# Display a figure.\n",
    "plt.show()\n"
   ]
  },
  {
   "cell_type": "markdown",
   "metadata": {},
   "source": [
    "<h3>Q142. Write a python program to draw the line charts of the financial\n",
    "data of the Alphabet Inc., between October.\n"
   ]
  },
  {
   "cell_type": "code",
   "execution_count": 79,
   "metadata": {},
   "outputs": [
    {
     "data": {
      "image/png": "[encoded data removed]",
      "text/plain": [
       "<Figure size 432x288 with 1 Axes>"
      ]
     },
     "metadata": {
      "needs_background": "light"
     },
     "output_type": "display_data"
    }
   ],
   "source": [
    "import matplotlib.pyplot as plt\n",
    "import pandas as pd\n",
    "df = pd.read_csv('fdata.csv', index_col=0, parse_dates=[0])\n",
    "df.plot()\n",
    "plt.show()"
   ]
  },
  {
   "cell_type": "markdown",
   "metadata": {},
   "source": [
    "<h3>Q143. Write a Python program to plot two or more lines on same plot\n",
    "with the suitable legends of each line."
   ]
  },
  {
   "cell_type": "code",
   "execution_count": 80,
   "metadata": {},
   "outputs": [
    {
     "data": {
      "image/png": "[encoded data removed]",
      "text/plain": [
       "<Figure size 432x288 with 1 Axes>"
      ]
     },
     "metadata": {
      "needs_background": "light"
     },
     "output_type": "display_data"
    }
   ],
   "source": [
    "import matplotlib.pyplot as plt\n",
    "# line 1 points\n",
    "x1 = [10,20,30]\n",
    "y1 = [20,40,10]\n",
    "# plotting the line 1 points \n",
    "plt.plot(x1, y1, label = \"line 1\")\n",
    "# line 2 points\n",
    "x2 = [10,20,30]\n",
    "y2 = [40,10,30]\n",
    "# plotting the line 2 points \n",
    "plt.plot(x2, y2, label = \"line 2\")\n",
    "plt.xlabel('x - axis')\n",
    "# Set the y axis label of the current axis.\n",
    "plt.ylabel('y - axis')\n",
    "# Set a title of the current axes.\n",
    "plt.title('Two or more lines on same plot with suitable legends ')\n",
    "# show a legend on the plot\n",
    "plt.legend()\n",
    "# Display a figure.\n",
    "plt.show()"
   ]
  },
  {
   "cell_type": "markdown",
   "metadata": {},
   "source": [
    "<h3>Q144. Write a python programming to display a bar chart of the\n",
    "popularity of programming languages"
   ]
  },
  {
   "cell_type": "code",
   "execution_count": 81,
   "metadata": {},
   "outputs": [
    {
     "data": {
      "image/png": "[encoded data removed]",
      "text/plain": [
       "<Figure size 432x288 with 1 Axes>"
      ]
     },
     "metadata": {
      "needs_background": "light"
     },
     "output_type": "display_data"
    }
   ],
   "source": [
    "x = ['Java', 'Python', 'PHP', 'JavaScript', 'C#', 'C++']\n",
    "popularity = [22.2, 17.6, 8.8, 8, 7.7, 6.7]\n",
    "x_pos = [i for i, _ in enumerate(x)]\n",
    "\n",
    "plt.bar(x_pos, popularity, color=(0.4, 0.6, 0.8, 1.0), edgecolor='blue')\n",
    "\n",
    "plt.xlabel(\"Languages\")\n",
    "plt.ylabel(\"Popularity\")\n",
    "plt.title(\"PopularitY of Programming Language\\n\" + \"Worldwide, Oct 2017 compared to a year ago\")\n",
    "plt.xticks(x_pos, x)\n",
    "# Turn on the grid\n",
    "plt.minorticks_on()\n",
    "plt.grid(which='major', linestyle='-', linewidth='0.5', color='red')\n",
    "# Customize the minor grid\n",
    "plt.grid(which='minor', linestyle=':', linewidth='0.5', color='black')\n",
    "plt.show()\n"
   ]
  },
  {
   "cell_type": "markdown",
   "metadata": {},
   "source": [
    "<h3>Q145. Write a python programming to display a horizontal bar chart of\n",
    "the popularity of programming languages"
   ]
  },
  {
   "cell_type": "code",
   "execution_count": 82,
   "metadata": {},
   "outputs": [
    {
     "data": {
      "image/png": "[encoded data removed]",
      "text/plain": [
       "<Figure size 432x288 with 1 Axes>"
      ]
     },
     "metadata": {
      "needs_background": "light"
     },
     "output_type": "display_data"
    }
   ],
   "source": [
    "x = ['Java', 'Python', 'PHP', 'JS', 'C#', 'C++']\n",
    "popularity = [22.2, 17.6, 8.8, 8, 7.7, 6.7]\n",
    "x_pos = [i for i, _ in enumerate(x)]\n",
    "plt.barh(x_pos, popularity, color='green')\n",
    "plt.xlabel(\"Popularity\")\n",
    "plt.ylabel(\"Languages\")\n",
    "plt.title(\"PopularitY of Programming Language\\n\" + \"Worldwide, Oct 2017 compared to a year ago\")\n",
    "plt.yticks(x_pos, x)\n",
    "# Turn on the grid\n",
    "plt.minorticks_on()\n",
    "plt.grid(which='major', linestyle='-', linewidth='0.5', color='red')\n",
    "# Customize the minor grid\n",
    "plt.grid(which='minor', linestyle=':', linewidth='0.5', color='black')\n",
    "plt.show()\n"
   ]
  },
  {
   "cell_type": "markdown",
   "metadata": {},
   "source": [
    "<h3>Q146. Write a python programming to display a bar chart of the\n",
    "Popularity of programming languages. Increase bottom margin."
   ]
  },
  {
   "cell_type": "code",
   "execution_count": 83,
   "metadata": {},
   "outputs": [
    {
     "data": {
      "image/png": "[encoded data removed]",
      "text/plain": [
       "<Figure size 432x288 with 1 Axes>"
      ]
     },
     "metadata": {
      "needs_background": "light"
     },
     "output_type": "display_data"
    }
   ],
   "source": [
    "x = ['Java', 'Python', 'PHP', 'JavaScript', 'C#', 'C++']\n",
    "popularity = [22.2, 17.6, 8.8, 8, 7.7, 6.7]\n",
    "x_pos = [i for i, _ in enumerate(x)]\n",
    "plt.bar(x_pos, popularity, color=(0.4, 0.6, 0.8, 1.0))\n",
    "plt.xlabel(\"Languages\")\n",
    "plt.ylabel(\"Popularity\")\n",
    "plt.title(\"PopularitY of Programming Language\\n\" + \"Worldwide, Oct 2017 compared to a year ago\")\n",
    "# Rotation of the bars names\n",
    "plt.xticks(x_pos, x, rotation=90)\n",
    "# Custom the subplot layout\n",
    "plt.subplots_adjust(bottom=0.4, top=.8)\n",
    "# Turn on the grid\n",
    "plt.minorticks_on()\n",
    "plt.grid(which='major', linestyle='-', linewidth='0.5', color='red')\n",
    "# Customize the minor grid\n",
    "plt.grid(which='minor', linestyle=':', linewidth='0.5', color='black')\n",
    "plt.show()\n"
   ]
  },
  {
   "cell_type": "markdown",
   "metadata": {},
   "source": [
    "<h3>Q147. Write a python program to create the bar plot from a DataFrame."
   ]
  },
  {
   "cell_type": "code",
   "execution_count": 19,
   "metadata": {},
   "outputs": [
    {
     "data": {
      "image/png": "[encoded data removed]",
      "text/plain": [
       "<Figure size 432x288 with 1 Axes>"
      ]
     },
     "metadata": {
      "needs_background": "light"
     },
     "output_type": "display_data"
    }
   ],
   "source": [
    "a=np.array([[4,8,5,7,6],[2,3,4,2,6],[4,7,4,7,8],[2,6,4,8,6],[2,4,3,3,2]])\n",
    "df=pd.DataFrame(a, columns=['a','b','c','d','e'], index=[2,4,6,8,10])\n",
    "\n",
    "df.plot(kind='bar')\n",
    "# Turn on the grid\n",
    "plt.minorticks_on()\n",
    "plt.grid(which='major', linestyle='-', linewidth='0.5', color='green')\n",
    "plt.grid(which='minor', linestyle=':', linewidth='0.5', color='black')\n",
    "\n",
    "plt.show()\n"
   ]
  },
  {
   "cell_type": "markdown",
   "metadata": {},
   "source": [
    "<h3>Q148. Write a python program to draw the scatter plot comparing two\n",
    "subject marks of Mathematics and Science. Use marks of 10 students.\n"
   ]
  },
  {
   "cell_type": "code",
   "execution_count": 85,
   "metadata": {},
   "outputs": [
    {
     "data": {
      "image/png": "[encoded data removed]",
      "text/plain": [
       "<Figure size 432x288 with 1 Axes>"
      ]
     },
     "metadata": {
      "needs_background": "light"
     },
     "output_type": "display_data"
    }
   ],
   "source": [
    "math_marks = [88, 92, 80, 89, 100, 80, 60, 100, 80, 34]\n",
    "science_marks = [35, 79, 79, 48, 100, 88, 32, 45, 20, 30]\n",
    "marks_range = [10, 20, 30, 40, 50, 60, 70, 80, 90, 100]\n",
    "plt.scatter(marks_range, math_marks, label='Math marks', color='r')\n",
    "plt.scatter(marks_range, science_marks, label='Science marks', color='g')\n",
    "plt.title('Scatter Plot')\n",
    "plt.xlabel('Marks Range')\n",
    "plt.ylabel('Marks Scored')\n",
    "plt.legend()\n",
    "plt.show()"
   ]
  },
  {
   "cell_type": "markdown",
   "metadata": {},
   "source": [
    "<h3>Q149. Write a python program to draw the scatter plot for three different\n",
    "groups comparing weights and heights."
   ]
  },
  {
   "cell_type": "code",
   "execution_count": 17,
   "metadata": {},
   "outputs": [
    {
     "data": {
      "image/png": "[encoded data removed]",
      "text/plain": [
       "<Figure size 432x288 with 1 Axes>"
      ]
     },
     "metadata": {
      "needs_background": "light"
     },
     "output_type": "display_data"
    }
   ],
   "source": [
    "import matplotlib.pyplot as plt\n",
    "import numpy as np \n",
    "weight1=[67,57.2,59.6,59.64,55.8,61.2,60.45,61,56.23,56]\n",
    "height1=[101.7,197.6,98.3,125.1,113.7,157.7,136,148.9,125.3,114.9] \n",
    "weight2=[61.9,64,62.1,64.2,62.3,65.4,62.4,61.4,62.5,63.6]\n",
    "height2=[152.8,155.3,135.1,125.2,151.3,135,182.2,195.9,165.1,125.1] \n",
    "weight3=[68.2,67.2,68.4,68.7,71,71.3,70.8,70,71.1,71.7]\n",
    "height3=[165.8,170.9,192.8,135.4,161.4,136.1,167.1,235.1,181.1,177.3]\n",
    "weight=np.concatenate((weight1,weight2,weight3))\n",
    "height=np.concatenate((height1,height2,height3))\n",
    "plt.scatter(weight, height, marker='*', color=['red','green','blue']*10)\n",
    "plt.xlabel('weight', fontsize=16)\n",
    "plt.ylabel('height', fontsize=16)\n",
    "plt.title('Group wise Weight vs Height scatter plot',fontsize=20)\n",
    "plt.show()"
   ]
  },
  {
   "cell_type": "markdown",
   "metadata": {},
   "source": [
    "<h3>Q150. Write a python program to draw a scatter plot to find sea-level\n",
    "rise in past 100 years"
   ]
  },
  {
   "cell_type": "code",
   "execution_count": 9,
   "metadata": {},
   "outputs": [
    {
     "data": {
      "image/png": "[encoded data removed]",
      "text/plain": [
       "<Figure size 432x288 with 1 Axes>"
      ]
     },
     "metadata": {
      "needs_background": "light"
     },
     "output_type": "display_data"
    }
   ],
   "source": [
    "import matplotlib.pyplot as plt\n",
    "import pandas as pd\n",
    "data = pd.read_csv('sample.csv')\n",
    "\n",
    "year = data['year']\n",
    "sea_levels = data['CSIRO_sea_level']\n",
    "plt.scatter(year, sea_levels, edgecolors='br')\n",
    "plt.xlabel('Year')\n",
    "plt.ylabel('Sea Level (inches)')\n",
    "plt.title('Rise in Sealevel')\n",
    "plt.show()"
   ]
  }
 ],
 "metadata": {
  "kernelspec": {
   "display_name": "Python 3",
   "language": "python",
   "name": "python3"
  },
  "language_info": {
   "codemirror_mode": {
    "name": "ipython",
    "version": 3
   },
   "file_extension": ".py",
   "mimetype": "text/x-python",
   "name": "python",
   "nbconvert_exporter": "python",
   "pygments_lexer": "ipython3",
   "version": "3.6.0"
  }
 },
 "nbformat": 4,
 "nbformat_minor": 2
}
