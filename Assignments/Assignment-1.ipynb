{
 "cells": [
  {
   "cell_type": "markdown",
   "metadata": {},
   "source": [
    "# Task 1"
   ]
  },
  {
   "cell_type": "code",
   "execution_count": 1,
   "metadata": {},
   "outputs": [
    {
     "name": "stdout",
     "output_type": "stream",
     "text": [
      "Welcome to ML for deployment Roshan\n"
     ]
    }
   ],
   "source": [
    "#solution1\n",
    "\n",
    "name=\"Roshan\"\n",
    "\n",
    "print(f\"Welcome to ML for deployment {name}\")"
   ]
  },
  {
   "cell_type": "code",
   "execution_count": 2,
   "metadata": {},
   "outputs": [
    {
     "data": {
      "text/plain": [
       "'2002,2009,2016,2023,2037,2044,2051,2058,2072,2079,2086,2093,2107,2114,2121,2128,2142,2149,2156,2163,2177,2184,2191,2198,2212,2219,2226,2233,2247,2254,2261,2268,2282,2289,2296,2303,2317,2324,2331,2338,2352,2359,2366,2373,2387,2394,2401,2408,2422,2429,2436,2443,2457,2464,2471,2478,2492,2499,2506,2513,2527,2534,2541,2548,2562,2569,2576,2583,2597,2604,2611,2618,2632,2639,2646,2653,2667,2674,2681,2688,2702,2709,2716,2723,2737,2744,2751,2758,2772,2779,2786,2793,2807,2814,2821,2828,2842,2849,2856,2863,2877,2884,2891,2898,2912,2919,2926,2933,2947,2954,2961,2968,2982,2989,2996,3003,3017,3024,3031,3038,3052,3059,3066,3073,3087,3094,3101,3108,3122,3129,3136,3143,3157,3164,3171,3178,3192,3199'"
      ]
     },
     "execution_count": 2,
     "metadata": {},
     "output_type": "execute_result"
    }
   ],
   "source": [
    "#solution2\n",
    "\n",
    "result=[i for i in range(2000,3201) if i%7==0 and i%5!=0]\n",
    "\n",
    "result1=\",\".join(map(str,result))\n",
    "\n",
    "result1"
   ]
  },
  {
   "cell_type": "code",
   "execution_count": 3,
   "metadata": {},
   "outputs": [
    {
     "name": "stdout",
     "output_type": "stream",
     "text": [
      "Enter your first name :James\n",
      "Enter your second name :Bond\n",
      "The output is : Bond James\n"
     ]
    }
   ],
   "source": [
    "#solution3\n",
    "\n",
    "fname=input(\"Enter your first name :\")\n",
    "lname=input(\"Enter your second name :\")\n",
    "\n",
    "print(f\"The output is : {lname} {fname}\")"
   ]
  },
  {
   "cell_type": "code",
   "execution_count": 3,
   "metadata": {},
   "outputs": [
    {
     "name": "stdout",
     "output_type": "stream",
     "text": [
      "Enter the diameter of the sphere : 21\n",
      "The output is 4846.59\n"
     ]
    }
   ],
   "source": [
    "#solution 4\n",
    "\n",
    "diam=int(input(\"Enter the diameter of the sphere : \"))\n",
    "\n",
    "result2=(4/3)*3.14*(diam/2)**3\n",
    "\n",
    "print(f\"The output is {result2}\")"
   ]
  },
  {
   "cell_type": "markdown",
   "metadata": {},
   "source": [
    "# Task 2"
   ]
  },
  {
   "cell_type": "code",
   "execution_count": 1,
   "metadata": {},
   "outputs": [
    {
     "name": "stdout",
     "output_type": "stream",
     "text": [
      "Enter the comma separated numbers :8,5,1,4\n"
     ]
    },
    {
     "data": {
      "text/plain": [
       "['8', '5', '1', '4']"
      ]
     },
     "execution_count": 1,
     "metadata": {},
     "output_type": "execute_result"
    }
   ],
   "source": [
    "#solution1\n",
    "\n",
    "numbers=input(\"Enter the comma separated numbers :\")\n",
    "result3=[]\n",
    "for i in numbers.split(\",\"):\n",
    "    result3.append(i)\n",
    "\n",
    "result3"
   ]
  },
  {
   "cell_type": "code",
   "execution_count": 2,
   "metadata": {},
   "outputs": [
    {
     "name": "stdout",
     "output_type": "stream",
     "text": [
      "Enter the number :5\n",
      "* \n",
      "* * \n",
      "* * * \n",
      "* * * * \n",
      "* * * * * \n",
      "* * * * \n",
      "* * * \n",
      "* * \n",
      "* \n"
     ]
    }
   ],
   "source": [
    "#solution2\n",
    "\n",
    "n=int(input(\"Enter the number :\"))\n",
    "\n",
    "for i in range(n):\n",
    "    print(\"* \"*(i+1))\n",
    "\n",
    "for i in range(n-1):\n",
    "    print(\"* \"*(n-1-i))"
   ]
  },
  {
   "cell_type": "code",
   "execution_count": 1,
   "metadata": {},
   "outputs": [
    {
     "name": "stdout",
     "output_type": "stream",
     "text": [
      "Enter the word :AcadGild\n"
     ]
    },
    {
     "data": {
      "text/plain": [
       "'dliGdacA'"
      ]
     },
     "execution_count": 1,
     "metadata": {},
     "output_type": "execute_result"
    }
   ],
   "source": [
    "#solution3\n",
    "\n",
    "n=input(\"Enter the word :\")\n",
    "\n",
    "result4=n[::-1]\n",
    "\n",
    "result4"
   ]
  },
  {
   "cell_type": "code",
   "execution_count": 1,
   "metadata": {},
   "outputs": [
    {
     "name": "stdout",
     "output_type": "stream",
     "text": [
      "WE, THE PEOPLE OF INDIA, \n",
      "\t having solemnly resolved to constitute India into a SOVEREIGN, ! \n",
      "\t\t  SOCIALIST, SECULAR, DEMOCRATIC REPUBLIC \n",
      "\t\t  and to secure to all its citizens\n"
     ]
    }
   ],
   "source": [
    "#solution4\n",
    "\n",
    "print(\"WE, THE PEOPLE OF INDIA,\",\"\\n\\t\",\"having solemnly resolved to constitute India into a SOVEREIGN, !\",\"\\n\\t\\t\",\" SOCIALIST, SECULAR, DEMOCRATIC REPUBLIC\",\"\\n\\t\\t\",\" and to secure to all its citizens\")"
   ]
  },
  {
   "cell_type": "code",
   "execution_count": null,
   "metadata": {},
   "outputs": [],
   "source": []
  }
 ],
 "metadata": {
  "kernelspec": {
   "display_name": "Python 3",
   "language": "python",
   "name": "python3"
  },
  "language_info": {
   "codemirror_mode": {
    "name": "ipython",
    "version": 3
   },
   "file_extension": ".py",
   "mimetype": "text/x-python",
   "name": "python",
   "nbconvert_exporter": "python",
   "pygments_lexer": "ipython3",
   "version": "3.6.0"
  }
 },
 "nbformat": 4,
 "nbformat_minor": 2
}
