{
 "cells": [
  {
   "cell_type": "markdown",
   "metadata": {},
   "source": [
    "# Task 1"
   ]
  },
  {
   "cell_type": "code",
   "execution_count": 2,
   "metadata": {},
   "outputs": [
    {
     "name": "stdout",
     "output_type": "stream",
     "text": [
      "The result is :  24\n"
     ]
    }
   ],
   "source": [
    "#1.1\n",
    "\n",
    "def mul(x,y):\n",
    "    return x*y\n",
    "\n",
    "def myreduce(myfunc,x):\n",
    "    res=1\n",
    "    for i in x:\n",
    "        res=myfunc(res,i)\n",
    "    return res\n",
    "\n",
    "\n",
    "arr=[1,2,3,4]\n",
    "result=myreduce(mul,arr)\n",
    "\n",
    "print(\"The result is : \", result)"
   ]
  },
  {
   "cell_type": "code",
   "execution_count": 3,
   "metadata": {},
   "outputs": [
    {
     "name": "stdout",
     "output_type": "stream",
     "text": [
      "The result is :  [7, 6, 4, 53, 33, 5, 8]\n"
     ]
    }
   ],
   "source": [
    "#1.2\n",
    "\n",
    "def isPositive(x):\n",
    "    if x > 0:\n",
    "        return True\n",
    "    else:\n",
    "        return False\n",
    "    \n",
    "def isFilter(myfunc, x):\n",
    "    res=[]\n",
    "    for i in x:\n",
    "        if myfunc(i):\n",
    "            res.append(i)\n",
    "    return res   \n",
    "    \n",
    "arr=[7,-1,6,4,-76,53,33,-44,5,8,-4]\n",
    "result=isFilter(isPositive,arr)\n",
    "\n",
    "print(\"The result is : \", result)"
   ]
  },
  {
   "cell_type": "code",
   "execution_count": 4,
   "metadata": {},
   "outputs": [
    {
     "name": "stdout",
     "output_type": "stream",
     "text": [
      "['x','y','z'] => ['x', 'xx', 'xxx', 'xxxx', 'y', 'yy', 'yyy', 'yyyy', 'z', 'zz', 'zzz', 'zzzz']\n",
      "= = = = = = = = = = = = = = = = = = = = = = = = = = = = = = = = = = = = = = = = = = = = = = = = = = \n",
      "['x','y','z'] => ['x', 'y', 'z', 'xx', 'yy', 'zz', 'xxx', 'yyy', 'zzz', 'xxxx', 'yyyy', 'zzzz']\n",
      "= = = = = = = = = = = = = = = = = = = = = = = = = = = = = = = = = = = = = = = = = = = = = = = = = = \n",
      "[2,3,4] =>[[2], [3], [4], [3], [4], [5], [4], [5], [6]]\n",
      "= = = = = = = = = = = = = = = = = = = = = = = = = = = = = = = = = = = = = = = = = = = = = = = = = = \n",
      "[2,3,4,5] =>[[2, 3, 4, 5], [3, 4, 5, 6], [4, 5, 6, 7], [5, 6, 7, 8]]\n",
      "= = = = = = = = = = = = = = = = = = = = = = = = = = = = = = = = = = = = = = = = = = = = = = = = = = \n",
      "[1,2,3] =>[(1, 1), (2, 1), (3, 1), (1, 2), (2, 2), (3, 2), (1, 3), (2, 3), (3, 3)]\n"
     ]
    }
   ],
   "source": [
    "# 2\n",
    "\n",
    "# Compress above for loop into a single list comprehension using technique [i <Upper for condition> <lower for condition>]\n",
    "input_list = ['x','y','z']\n",
    "result = [ item*num for item in input_list for num in range(1,5)  ]\n",
    "print(\"['x','y','z'] => \" +   str(result))\n",
    "\n",
    "print(\"= \"*50)\n",
    "\n",
    "# Compress above for loop into a single list comprehension using technique [i <Upper for condition> <lower for condition>]\n",
    "input_list = ['x','y','z']\n",
    "result = [ item*num for num in range(1,5) for item in input_list  ]\n",
    "print(\"['x','y','z'] => \" +   str(result))\n",
    "\n",
    "print(\"= \"*50)\n",
    "\n",
    "input_list = [2,3,4]\n",
    "result = [ [item+num] for item in input_list for num in range(0,3)]\n",
    "print(\"[2,3,4] =>\" +  str(result))\n",
    "\n",
    "print(\"= \"*50)\n",
    "\n",
    "input_list = [2,3,4,5]\n",
    "result = [ [item+num for item in input_list] for num in range(0,4)  ]\n",
    "print(\"[2,3,4,5] =>\" +  str(result))\n",
    "\n",
    "print(\"= \"*50)\n",
    "\n",
    "input_list=[1,2,3]\n",
    "result = [ (b,a) for a in input_list for b in input_list]\n",
    "print(\"[1,2,3] =>\" +  str(result))\n",
    "\n",
    "\n"
   ]
  },
  {
   "cell_type": "code",
   "execution_count": 1,
   "metadata": {},
   "outputs": [
    {
     "name": "stdout",
     "output_type": "stream",
     "text": [
      "Please input a list of words to evaluate: Kolkata is the city of joy\n",
      "The longest word is Kolkata with length 7\n"
     ]
    }
   ],
   "source": [
    "#2\n",
    "\n",
    "def find_longest_word(text):\n",
    "    longest=0\n",
    "    for words in text.split():\n",
    "        if len(words) > longest:\n",
    "            longest = len(words)\n",
    "            longest_word = words\n",
    "    return longest_word, len(longest_word)\n",
    "\n",
    "def main():\n",
    "    input_string = input(\"Please input a list of words to evaluate: \")\n",
    "    longest_word , length_of_word = find_longest_word(input_string)\n",
    "    print(\"The longest word is\", longest_word, \"with length\", length_of_word)\n",
    "\n",
    "main()\n"
   ]
  },
  {
   "cell_type": "markdown",
   "metadata": {},
   "source": [
    "# Task 2:"
   ]
  },
  {
   "cell_type": "code",
   "execution_count": 7,
   "metadata": {},
   "outputs": [
    {
     "name": "stdout",
     "output_type": "stream",
     "text": [
      "The area of the triangle is :  6.0\n"
     ]
    }
   ],
   "source": [
    "#1.1\n",
    "\n",
    "#areaOfTriangle\n",
    "\n",
    "class Triangle:\n",
    "    \n",
    "    def __init__(self,a,b,c):\n",
    "        self.a,self.b,self.c=a,b,c\n",
    "    \n",
    "    def getArea(self):\n",
    "        s=(self.a+self.b+self.c)/2\n",
    "        #print((s*(s-self.a)*(s-self.b)*(s-self.c))** 0.5)\n",
    "        return (s*(s-self.a)*(s-self.b)*(s-self.c))** 0.5\n",
    "    \n",
    "    \n",
    "t=Triangle(3,4,5)\n",
    "area=t.getArea()\n",
    "\n",
    "print(\"The area of the triangle is : \",area)\n",
    "    \n",
    "    "
   ]
  },
  {
   "cell_type": "code",
   "execution_count": 8,
   "metadata": {},
   "outputs": [
    {
     "name": "stdout",
     "output_type": "stream",
     "text": [
      "['India', 'Python', 'Science', 'C++', 'Java', 'Numpy', 'Panda']\n"
     ]
    }
   ],
   "source": [
    "#1.2\n",
    "\n",
    "def filter_long_words(arr,n):\n",
    "    res=[]\n",
    "    for i in arr:\n",
    "        if len(i) > n :\n",
    "            res.append(i)\n",
    "    return res\n",
    "\n",
    "arr=['India','Python','Science','C','C++','Java','C#','Numpy','Panda']\n",
    "result=filter_long_words(arr,2)\n",
    "\n",
    "print(result)"
   ]
  },
  {
   "cell_type": "code",
   "execution_count": 14,
   "metadata": {},
   "outputs": [
    {
     "name": "stdout",
     "output_type": "stream",
     "text": [
      "[2, 3, 4]\n"
     ]
    }
   ],
   "source": [
    "#2.1\n",
    "\n",
    "a=['ab','cde','erty']\n",
    "\n",
    "result=list(map(lambda x : len(x),a))\n",
    "\n",
    "print(result)\n"
   ]
  },
  {
   "cell_type": "code",
   "execution_count": 15,
   "metadata": {},
   "outputs": [
    {
     "name": "stdout",
     "output_type": "stream",
     "text": [
      "True\n",
      "False\n",
      "False\n"
     ]
    }
   ],
   "source": [
    "#2.2\n",
    "\n",
    "def isVowel(x):\n",
    "    if len(x) == 1:\n",
    "        if x.lower() in 'aeiou':\n",
    "            return True\n",
    "        else:\n",
    "            return False\n",
    "    else:\n",
    "        return False\n",
    "\n",
    "print(isVowel('a'))\n",
    "print(isVowel('q'))\n",
    "print(isVowel('qhjbhj'))"
   ]
  },
  {
   "cell_type": "code",
   "execution_count": null,
   "metadata": {},
   "outputs": [],
   "source": []
  }
 ],
 "metadata": {
  "kernelspec": {
   "display_name": "Python 3",
   "language": "python",
   "name": "python3"
  },
  "language_info": {
   "codemirror_mode": {
    "name": "ipython",
    "version": 3
   },
   "file_extension": ".py",
   "mimetype": "text/x-python",
   "name": "python",
   "nbconvert_exporter": "python",
   "pygments_lexer": "ipython3",
   "version": "3.6.0"
  }
 },
 "nbformat": 4,
 "nbformat_minor": 2
}
