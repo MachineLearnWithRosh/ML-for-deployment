{
 "cells": [
  {
   "cell_type": "markdown",
   "metadata": {},
   "source": [
    "# Task-1"
   ]
  },
  {
   "cell_type": "code",
   "execution_count": 2,
   "metadata": {},
   "outputs": [
    {
     "name": "stdout",
     "output_type": "stream",
     "text": [
      "Cannot be divided by Zero\n",
      "In finally block\n"
     ]
    }
   ],
   "source": [
    "#solution1\n",
    "\n",
    "def callException():\n",
    "    return 5/0\n",
    "\n",
    "try:\n",
    "    callException()\n",
    "except ZeroDivisionError:\n",
    "    print(\"Cannot be divided by Zero\")\n",
    "except Exception:\n",
    "    print('Exception Thrown')\n",
    "finally:\n",
    "    print('In finally block')"
   ]
  },
  {
   "cell_type": "code",
   "execution_count": 4,
   "metadata": {
    "scrolled": true
   },
   "outputs": [
    {
     "name": "stdout",
     "output_type": "stream",
     "text": [
      "Americans play Baseball\n",
      "Americans play cricket\n",
      "Americans watch Baseball\n",
      "Americans watch cricket\n",
      "Indians play Baseball\n",
      "Indians play cricket\n",
      "Indians watch Baseball\n",
      "Indians watch cricket\n"
     ]
    }
   ],
   "source": [
    "#solution2\n",
    "\n",
    "subject=[\"Americans\", \"Indians\"]\n",
    "verb=[\"play\", \"watch\"]\n",
    "obj=[\"Baseball\",\"cricket\"]\n",
    "\n",
    "sentence_list = [(sub+\" \"+ vb + \" \" + ob) for sub in subject for vb in verb for ob in obj]\n",
    "for sentence in sentence_list:\n",
    " print (sentence)"
   ]
  },
  {
   "cell_type": "markdown",
   "metadata": {},
   "source": [
    "# Task - 2"
   ]
  },
  {
   "cell_type": "code",
   "execution_count": 51,
   "metadata": {
    "scrolled": true
   },
   "outputs": [
    {
     "name": "stdout",
     "output_type": "stream",
     "text": [
      "The created matrix is :  [[1, 1, 1, 1], [1, 2, 4, 8], [1, 3, 9, 27], [1, 4, 16, 64]]\n"
     ]
    }
   ],
   "source": [
    "#solution1\n",
    "\n",
    "\n",
    "def vandermondeMatrix(m, columnNo):\n",
    "    #lst2=[ [i**j for i in x] for j in range(columnNo)]\n",
    "    lst2=[ [j**i for i in range(columnNo)] for j in m]\n",
    "    return lst2\n",
    "\n",
    "\n",
    "inputVec=[1,2,3,4] #input vector\n",
    "n=len(inputVec) #rows and column should be of equal number\n",
    "result=vandermondeMatrix(inputVec,n )\n",
    "print(\"The created matrix is : \",result)"
   ]
  },
  {
   "cell_type": "code",
   "execution_count": 53,
   "metadata": {},
   "outputs": [
    {
     "name": "stdout",
     "output_type": "stream",
     "text": [
      "The resultant matrix : \n",
      "\n",
      "1    1    1    1    \n",
      "1    2    4    8    \n",
      "1    3    9    27    \n",
      "1    4    16    64    \n"
     ]
    }
   ],
   "source": [
    "print(\"The resultant matrix : \"+\"\\n\")\n",
    "\n",
    "for i in result:\n",
    "    for j in i:\n",
    "        print(j,\"  \",end=\" \")\n",
    "    print()"
   ]
  }
 ],
 "metadata": {
  "kernelspec": {
   "display_name": "Python 3",
   "language": "python",
   "name": "python3"
  },
  "language_info": {
   "codemirror_mode": {
    "name": "ipython",
    "version": 3
   },
   "file_extension": ".py",
   "mimetype": "text/x-python",
   "name": "python",
   "nbconvert_exporter": "python",
   "pygments_lexer": "ipython3",
   "version": "3.6.0"
  }
 },
 "nbformat": 4,
 "nbformat_minor": 2
}
